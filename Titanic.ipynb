{
 "cells": [
  {
   "cell_type": "code",
   "execution_count": 1,
   "id": "69d46a95",
   "metadata": {},
   "outputs": [],
   "source": [
    "# ! py -m pip install seaborn\n",
    "# ! py -m pip install sklearn"
   ]
  },
  {
   "cell_type": "code",
   "execution_count": 2,
   "id": "834c62e6-cab7-431b-b2ef-0f8bac535c97",
   "metadata": {},
   "outputs": [
    {
     "data": {
      "text/html": [
       "<div>\n",
       "<style scoped>\n",
       "    .dataframe tbody tr th:only-of-type {\n",
       "        vertical-align: middle;\n",
       "    }\n",
       "\n",
       "    .dataframe tbody tr th {\n",
       "        vertical-align: top;\n",
       "    }\n",
       "\n",
       "    .dataframe thead th {\n",
       "        text-align: right;\n",
       "    }\n",
       "</style>\n",
       "<table border=\"1\" class=\"dataframe\">\n",
       "  <thead>\n",
       "    <tr style=\"text-align: right;\">\n",
       "      <th></th>\n",
       "      <th>PassengerId</th>\n",
       "      <th>Survived</th>\n",
       "      <th>Pclass</th>\n",
       "      <th>Name</th>\n",
       "      <th>Sex</th>\n",
       "      <th>Age</th>\n",
       "      <th>SibSp</th>\n",
       "      <th>Parch</th>\n",
       "      <th>Ticket</th>\n",
       "      <th>Fare</th>\n",
       "      <th>Cabin</th>\n",
       "      <th>Embarked</th>\n",
       "    </tr>\n",
       "  </thead>\n",
       "  <tbody>\n",
       "    <tr>\n",
       "      <th>0</th>\n",
       "      <td>1</td>\n",
       "      <td>0</td>\n",
       "      <td>3</td>\n",
       "      <td>Braund, Mr. Owen Harris</td>\n",
       "      <td>male</td>\n",
       "      <td>22.0</td>\n",
       "      <td>1</td>\n",
       "      <td>0</td>\n",
       "      <td>A/5 21171</td>\n",
       "      <td>7.2500</td>\n",
       "      <td>NaN</td>\n",
       "      <td>S</td>\n",
       "    </tr>\n",
       "    <tr>\n",
       "      <th>1</th>\n",
       "      <td>2</td>\n",
       "      <td>1</td>\n",
       "      <td>1</td>\n",
       "      <td>Cumings, Mrs. John Bradley (Florence Briggs Th...</td>\n",
       "      <td>female</td>\n",
       "      <td>38.0</td>\n",
       "      <td>1</td>\n",
       "      <td>0</td>\n",
       "      <td>PC 17599</td>\n",
       "      <td>71.2833</td>\n",
       "      <td>C85</td>\n",
       "      <td>C</td>\n",
       "    </tr>\n",
       "    <tr>\n",
       "      <th>2</th>\n",
       "      <td>3</td>\n",
       "      <td>1</td>\n",
       "      <td>3</td>\n",
       "      <td>Heikkinen, Miss. Laina</td>\n",
       "      <td>female</td>\n",
       "      <td>26.0</td>\n",
       "      <td>0</td>\n",
       "      <td>0</td>\n",
       "      <td>STON/O2. 3101282</td>\n",
       "      <td>7.9250</td>\n",
       "      <td>NaN</td>\n",
       "      <td>S</td>\n",
       "    </tr>\n",
       "    <tr>\n",
       "      <th>3</th>\n",
       "      <td>4</td>\n",
       "      <td>1</td>\n",
       "      <td>1</td>\n",
       "      <td>Futrelle, Mrs. Jacques Heath (Lily May Peel)</td>\n",
       "      <td>female</td>\n",
       "      <td>35.0</td>\n",
       "      <td>1</td>\n",
       "      <td>0</td>\n",
       "      <td>113803</td>\n",
       "      <td>53.1000</td>\n",
       "      <td>C123</td>\n",
       "      <td>S</td>\n",
       "    </tr>\n",
       "    <tr>\n",
       "      <th>4</th>\n",
       "      <td>5</td>\n",
       "      <td>0</td>\n",
       "      <td>3</td>\n",
       "      <td>Allen, Mr. William Henry</td>\n",
       "      <td>male</td>\n",
       "      <td>35.0</td>\n",
       "      <td>0</td>\n",
       "      <td>0</td>\n",
       "      <td>373450</td>\n",
       "      <td>8.0500</td>\n",
       "      <td>NaN</td>\n",
       "      <td>S</td>\n",
       "    </tr>\n",
       "  </tbody>\n",
       "</table>\n",
       "</div>"
      ],
      "text/plain": [
       "   PassengerId  Survived  Pclass  \\\n",
       "0            1         0       3   \n",
       "1            2         1       1   \n",
       "2            3         1       3   \n",
       "3            4         1       1   \n",
       "4            5         0       3   \n",
       "\n",
       "                                                Name     Sex   Age  SibSp  \\\n",
       "0                            Braund, Mr. Owen Harris    male  22.0      1   \n",
       "1  Cumings, Mrs. John Bradley (Florence Briggs Th...  female  38.0      1   \n",
       "2                             Heikkinen, Miss. Laina  female  26.0      0   \n",
       "3       Futrelle, Mrs. Jacques Heath (Lily May Peel)  female  35.0      1   \n",
       "4                           Allen, Mr. William Henry    male  35.0      0   \n",
       "\n",
       "   Parch            Ticket     Fare Cabin Embarked  \n",
       "0      0         A/5 21171   7.2500   NaN        S  \n",
       "1      0          PC 17599  71.2833   C85        C  \n",
       "2      0  STON/O2. 3101282   7.9250   NaN        S  \n",
       "3      0            113803  53.1000  C123        S  \n",
       "4      0            373450   8.0500   NaN        S  "
      ]
     },
     "execution_count": 2,
     "metadata": {},
     "output_type": "execute_result"
    }
   ],
   "source": [
    "import numpy as np\n",
    "import pandas as pd \n",
    "import matplotlib.pyplot as plt\n",
    "%matplotlib inline\n",
    "import seaborn as sns \n",
    "# from IPython.display import display\n",
    "\n",
    "pd.plotting.register_matplotlib_converters()\n",
    "\n",
    "df = pd.read_csv(r'https://raw.githubusercontent.com/datasciencedojo/datasets/master/titanic.csv')\n",
    "df.head()"
   ]
  },
  {
   "cell_type": "markdown",
   "id": "ca87b802-ab8a-4010-a02f-1f21b162c682",
   "metadata": {},
   "source": [
    "### Data preparation"
   ]
  },
  {
   "cell_type": "code",
   "execution_count": 3,
   "id": "d5a83852-4763-40a8-9f44-e3eda7fe3179",
   "metadata": {},
   "outputs": [
    {
     "name": "stdout",
     "output_type": "stream",
     "text": [
      "<class 'pandas.core.frame.DataFrame'>\n",
      "RangeIndex: 891 entries, 0 to 890\n",
      "Data columns (total 12 columns):\n",
      " #   Column       Non-Null Count  Dtype  \n",
      "---  ------       --------------  -----  \n",
      " 0   PassengerId  891 non-null    int64  \n",
      " 1   Survived     891 non-null    int64  \n",
      " 2   Pclass       891 non-null    int64  \n",
      " 3   Name         891 non-null    object \n",
      " 4   Sex          891 non-null    object \n",
      " 5   Age          714 non-null    float64\n",
      " 6   SibSp        891 non-null    int64  \n",
      " 7   Parch        891 non-null    int64  \n",
      " 8   Ticket       891 non-null    object \n",
      " 9   Fare         891 non-null    float64\n",
      " 10  Cabin        204 non-null    object \n",
      " 11  Embarked     889 non-null    object \n",
      "dtypes: float64(2), int64(5), object(5)\n",
      "memory usage: 83.7+ KB\n"
     ]
    }
   ],
   "source": [
    "df.info()"
   ]
  },
  {
   "cell_type": "markdown",
   "id": "7f53edf7-4f5d-4c9c-814d-9680402c251f",
   "metadata": {},
   "source": [
    "#### Filling Age column NaNs with age mean "
   ]
  },
  {
   "cell_type": "code",
   "execution_count": 4,
   "id": "db820d34-9911-4df6-951b-15021430a6d3",
   "metadata": {},
   "outputs": [
    {
     "name": "stdout",
     "output_type": "stream",
     "text": [
      "<class 'pandas.core.frame.DataFrame'>\n",
      "RangeIndex: 891 entries, 0 to 890\n",
      "Data columns (total 12 columns):\n",
      " #   Column       Non-Null Count  Dtype  \n",
      "---  ------       --------------  -----  \n",
      " 0   PassengerId  891 non-null    int64  \n",
      " 1   Survived     891 non-null    int64  \n",
      " 2   Pclass       891 non-null    int64  \n",
      " 3   Name         891 non-null    object \n",
      " 4   Sex          891 non-null    object \n",
      " 5   Age          891 non-null    float64\n",
      " 6   SibSp        891 non-null    int64  \n",
      " 7   Parch        891 non-null    int64  \n",
      " 8   Ticket       891 non-null    object \n",
      " 9   Fare         891 non-null    float64\n",
      " 10  Cabin        204 non-null    object \n",
      " 11  Embarked     889 non-null    object \n",
      "dtypes: float64(2), int64(5), object(5)\n",
      "memory usage: 83.7+ KB\n"
     ]
    }
   ],
   "source": [
    "age_mean = df['Age'].mean()\n",
    "df['Age'] = df['Age'].fillna(age_mean)\n",
    "df.info()"
   ]
  },
  {
   "cell_type": "markdown",
   "id": "eb6fb45d-c337-47cf-bbfa-f4ac2f089815",
   "metadata": {},
   "source": [
    "#### Filling Embarked column Nans with random values"
   ]
  },
  {
   "cell_type": "code",
   "execution_count": 5,
   "id": "abec6882",
   "metadata": {},
   "outputs": [
    {
     "data": {
      "text/plain": [
       "2"
      ]
     },
     "execution_count": 5,
     "metadata": {},
     "output_type": "execute_result"
    }
   ],
   "source": [
    "df['Embarked'].isnull().sum()"
   ]
  },
  {
   "cell_type": "code",
   "execution_count": 6,
   "id": "3366a500",
   "metadata": {},
   "outputs": [],
   "source": [
    "df['Embarked'] = df['Embarked'].fillna(df['Embarked'].sample().iloc[0])"
   ]
  },
  {
   "cell_type": "code",
   "execution_count": 7,
   "id": "6e9104e9",
   "metadata": {},
   "outputs": [
    {
     "data": {
      "text/plain": [
       "0"
      ]
     },
     "execution_count": 7,
     "metadata": {},
     "output_type": "execute_result"
    }
   ],
   "source": [
    "df['Embarked'].isnull().sum()"
   ]
  },
  {
   "cell_type": "code",
   "execution_count": 8,
   "id": "c33e74d2",
   "metadata": {},
   "outputs": [
    {
     "name": "stdout",
     "output_type": "stream",
     "text": [
      "<class 'pandas.core.frame.DataFrame'>\n",
      "RangeIndex: 891 entries, 0 to 890\n",
      "Data columns (total 12 columns):\n",
      " #   Column       Non-Null Count  Dtype  \n",
      "---  ------       --------------  -----  \n",
      " 0   PassengerId  891 non-null    int64  \n",
      " 1   Survived     891 non-null    int64  \n",
      " 2   Pclass       891 non-null    int64  \n",
      " 3   Name         891 non-null    object \n",
      " 4   Sex          891 non-null    object \n",
      " 5   Age          891 non-null    float64\n",
      " 6   SibSp        891 non-null    int64  \n",
      " 7   Parch        891 non-null    int64  \n",
      " 8   Ticket       891 non-null    object \n",
      " 9   Fare         891 non-null    float64\n",
      " 10  Cabin        204 non-null    object \n",
      " 11  Embarked     891 non-null    object \n",
      "dtypes: float64(2), int64(5), object(5)\n",
      "memory usage: 83.7+ KB\n"
     ]
    }
   ],
   "source": [
    "df.info()"
   ]
  },
  {
   "cell_type": "markdown",
   "id": "0de82dde",
   "metadata": {},
   "source": [
    "#### Dropping cabin column due to insuficient number of data"
   ]
  },
  {
   "cell_type": "code",
   "execution_count": 9,
   "id": "cbd3d0fe",
   "metadata": {},
   "outputs": [
    {
     "data": {
      "text/html": [
       "<div>\n",
       "<style scoped>\n",
       "    .dataframe tbody tr th:only-of-type {\n",
       "        vertical-align: middle;\n",
       "    }\n",
       "\n",
       "    .dataframe tbody tr th {\n",
       "        vertical-align: top;\n",
       "    }\n",
       "\n",
       "    .dataframe thead th {\n",
       "        text-align: right;\n",
       "    }\n",
       "</style>\n",
       "<table border=\"1\" class=\"dataframe\">\n",
       "  <thead>\n",
       "    <tr style=\"text-align: right;\">\n",
       "      <th></th>\n",
       "      <th>PassengerId</th>\n",
       "      <th>Survived</th>\n",
       "      <th>Pclass</th>\n",
       "      <th>Name</th>\n",
       "      <th>Sex</th>\n",
       "      <th>Age</th>\n",
       "      <th>SibSp</th>\n",
       "      <th>Parch</th>\n",
       "      <th>Ticket</th>\n",
       "      <th>Fare</th>\n",
       "      <th>Embarked</th>\n",
       "    </tr>\n",
       "  </thead>\n",
       "  <tbody>\n",
       "    <tr>\n",
       "      <th>0</th>\n",
       "      <td>1</td>\n",
       "      <td>0</td>\n",
       "      <td>3</td>\n",
       "      <td>Braund, Mr. Owen Harris</td>\n",
       "      <td>male</td>\n",
       "      <td>22.0</td>\n",
       "      <td>1</td>\n",
       "      <td>0</td>\n",
       "      <td>A/5 21171</td>\n",
       "      <td>7.2500</td>\n",
       "      <td>S</td>\n",
       "    </tr>\n",
       "    <tr>\n",
       "      <th>1</th>\n",
       "      <td>2</td>\n",
       "      <td>1</td>\n",
       "      <td>1</td>\n",
       "      <td>Cumings, Mrs. John Bradley (Florence Briggs Th...</td>\n",
       "      <td>female</td>\n",
       "      <td>38.0</td>\n",
       "      <td>1</td>\n",
       "      <td>0</td>\n",
       "      <td>PC 17599</td>\n",
       "      <td>71.2833</td>\n",
       "      <td>C</td>\n",
       "    </tr>\n",
       "    <tr>\n",
       "      <th>2</th>\n",
       "      <td>3</td>\n",
       "      <td>1</td>\n",
       "      <td>3</td>\n",
       "      <td>Heikkinen, Miss. Laina</td>\n",
       "      <td>female</td>\n",
       "      <td>26.0</td>\n",
       "      <td>0</td>\n",
       "      <td>0</td>\n",
       "      <td>STON/O2. 3101282</td>\n",
       "      <td>7.9250</td>\n",
       "      <td>S</td>\n",
       "    </tr>\n",
       "    <tr>\n",
       "      <th>3</th>\n",
       "      <td>4</td>\n",
       "      <td>1</td>\n",
       "      <td>1</td>\n",
       "      <td>Futrelle, Mrs. Jacques Heath (Lily May Peel)</td>\n",
       "      <td>female</td>\n",
       "      <td>35.0</td>\n",
       "      <td>1</td>\n",
       "      <td>0</td>\n",
       "      <td>113803</td>\n",
       "      <td>53.1000</td>\n",
       "      <td>S</td>\n",
       "    </tr>\n",
       "    <tr>\n",
       "      <th>4</th>\n",
       "      <td>5</td>\n",
       "      <td>0</td>\n",
       "      <td>3</td>\n",
       "      <td>Allen, Mr. William Henry</td>\n",
       "      <td>male</td>\n",
       "      <td>35.0</td>\n",
       "      <td>0</td>\n",
       "      <td>0</td>\n",
       "      <td>373450</td>\n",
       "      <td>8.0500</td>\n",
       "      <td>S</td>\n",
       "    </tr>\n",
       "  </tbody>\n",
       "</table>\n",
       "</div>"
      ],
      "text/plain": [
       "   PassengerId  Survived  Pclass  \\\n",
       "0            1         0       3   \n",
       "1            2         1       1   \n",
       "2            3         1       3   \n",
       "3            4         1       1   \n",
       "4            5         0       3   \n",
       "\n",
       "                                                Name     Sex   Age  SibSp  \\\n",
       "0                            Braund, Mr. Owen Harris    male  22.0      1   \n",
       "1  Cumings, Mrs. John Bradley (Florence Briggs Th...  female  38.0      1   \n",
       "2                             Heikkinen, Miss. Laina  female  26.0      0   \n",
       "3       Futrelle, Mrs. Jacques Heath (Lily May Peel)  female  35.0      1   \n",
       "4                           Allen, Mr. William Henry    male  35.0      0   \n",
       "\n",
       "   Parch            Ticket     Fare Embarked  \n",
       "0      0         A/5 21171   7.2500        S  \n",
       "1      0          PC 17599  71.2833        C  \n",
       "2      0  STON/O2. 3101282   7.9250        S  \n",
       "3      0            113803  53.1000        S  \n",
       "4      0            373450   8.0500        S  "
      ]
     },
     "execution_count": 9,
     "metadata": {},
     "output_type": "execute_result"
    }
   ],
   "source": [
    "df = df.drop(['Cabin'], axis=1)\n",
    "\n",
    "df.head()"
   ]
  },
  {
   "cell_type": "markdown",
   "id": "195ce28f",
   "metadata": {},
   "source": [
    "#### Encoding Sex column (0-female, 1-male)"
   ]
  },
  {
   "cell_type": "code",
   "execution_count": 10,
   "id": "a94a1c2b",
   "metadata": {},
   "outputs": [
    {
     "data": {
      "text/html": [
       "<div>\n",
       "<style scoped>\n",
       "    .dataframe tbody tr th:only-of-type {\n",
       "        vertical-align: middle;\n",
       "    }\n",
       "\n",
       "    .dataframe tbody tr th {\n",
       "        vertical-align: top;\n",
       "    }\n",
       "\n",
       "    .dataframe thead th {\n",
       "        text-align: right;\n",
       "    }\n",
       "</style>\n",
       "<table border=\"1\" class=\"dataframe\">\n",
       "  <thead>\n",
       "    <tr style=\"text-align: right;\">\n",
       "      <th></th>\n",
       "      <th>PassengerId</th>\n",
       "      <th>Survived</th>\n",
       "      <th>Pclass</th>\n",
       "      <th>Name</th>\n",
       "      <th>Sex</th>\n",
       "      <th>Age</th>\n",
       "      <th>SibSp</th>\n",
       "      <th>Parch</th>\n",
       "      <th>Ticket</th>\n",
       "      <th>Fare</th>\n",
       "      <th>Embarked</th>\n",
       "    </tr>\n",
       "  </thead>\n",
       "  <tbody>\n",
       "    <tr>\n",
       "      <th>0</th>\n",
       "      <td>1</td>\n",
       "      <td>0</td>\n",
       "      <td>3</td>\n",
       "      <td>Braund, Mr. Owen Harris</td>\n",
       "      <td>1</td>\n",
       "      <td>22.0</td>\n",
       "      <td>1</td>\n",
       "      <td>0</td>\n",
       "      <td>A/5 21171</td>\n",
       "      <td>7.2500</td>\n",
       "      <td>S</td>\n",
       "    </tr>\n",
       "    <tr>\n",
       "      <th>1</th>\n",
       "      <td>2</td>\n",
       "      <td>1</td>\n",
       "      <td>1</td>\n",
       "      <td>Cumings, Mrs. John Bradley (Florence Briggs Th...</td>\n",
       "      <td>0</td>\n",
       "      <td>38.0</td>\n",
       "      <td>1</td>\n",
       "      <td>0</td>\n",
       "      <td>PC 17599</td>\n",
       "      <td>71.2833</td>\n",
       "      <td>C</td>\n",
       "    </tr>\n",
       "    <tr>\n",
       "      <th>2</th>\n",
       "      <td>3</td>\n",
       "      <td>1</td>\n",
       "      <td>3</td>\n",
       "      <td>Heikkinen, Miss. Laina</td>\n",
       "      <td>0</td>\n",
       "      <td>26.0</td>\n",
       "      <td>0</td>\n",
       "      <td>0</td>\n",
       "      <td>STON/O2. 3101282</td>\n",
       "      <td>7.9250</td>\n",
       "      <td>S</td>\n",
       "    </tr>\n",
       "    <tr>\n",
       "      <th>3</th>\n",
       "      <td>4</td>\n",
       "      <td>1</td>\n",
       "      <td>1</td>\n",
       "      <td>Futrelle, Mrs. Jacques Heath (Lily May Peel)</td>\n",
       "      <td>0</td>\n",
       "      <td>35.0</td>\n",
       "      <td>1</td>\n",
       "      <td>0</td>\n",
       "      <td>113803</td>\n",
       "      <td>53.1000</td>\n",
       "      <td>S</td>\n",
       "    </tr>\n",
       "    <tr>\n",
       "      <th>4</th>\n",
       "      <td>5</td>\n",
       "      <td>0</td>\n",
       "      <td>3</td>\n",
       "      <td>Allen, Mr. William Henry</td>\n",
       "      <td>1</td>\n",
       "      <td>35.0</td>\n",
       "      <td>0</td>\n",
       "      <td>0</td>\n",
       "      <td>373450</td>\n",
       "      <td>8.0500</td>\n",
       "      <td>S</td>\n",
       "    </tr>\n",
       "  </tbody>\n",
       "</table>\n",
       "</div>"
      ],
      "text/plain": [
       "   PassengerId  Survived  Pclass  \\\n",
       "0            1         0       3   \n",
       "1            2         1       1   \n",
       "2            3         1       3   \n",
       "3            4         1       1   \n",
       "4            5         0       3   \n",
       "\n",
       "                                                Name  Sex   Age  SibSp  Parch  \\\n",
       "0                            Braund, Mr. Owen Harris    1  22.0      1      0   \n",
       "1  Cumings, Mrs. John Bradley (Florence Briggs Th...    0  38.0      1      0   \n",
       "2                             Heikkinen, Miss. Laina    0  26.0      0      0   \n",
       "3       Futrelle, Mrs. Jacques Heath (Lily May Peel)    0  35.0      1      0   \n",
       "4                           Allen, Mr. William Henry    1  35.0      0      0   \n",
       "\n",
       "             Ticket     Fare Embarked  \n",
       "0         A/5 21171   7.2500        S  \n",
       "1          PC 17599  71.2833        C  \n",
       "2  STON/O2. 3101282   7.9250        S  \n",
       "3            113803  53.1000        S  \n",
       "4            373450   8.0500        S  "
      ]
     },
     "execution_count": 10,
     "metadata": {},
     "output_type": "execute_result"
    }
   ],
   "source": [
    "df['Sex'] = np.where(df['Sex'] == 'male', 1, 0)\n",
    "\n",
    "df.head()"
   ]
  },
  {
   "cell_type": "markdown",
   "id": "fbeaa064",
   "metadata": {},
   "source": [
    "#### Encoding Embarked column (1- S (Southampton), 2 - C (Cherbourg), 3- Q (Queenstown))"
   ]
  },
  {
   "cell_type": "code",
   "execution_count": 11,
   "id": "d8aef057",
   "metadata": {},
   "outputs": [
    {
     "data": {
      "text/plain": [
       "S    646\n",
       "C    168\n",
       "Q     77\n",
       "Name: Embarked, dtype: int64"
      ]
     },
     "execution_count": 11,
     "metadata": {},
     "output_type": "execute_result"
    }
   ],
   "source": [
    "df['Embarked'].value_counts()"
   ]
  },
  {
   "cell_type": "code",
   "execution_count": 12,
   "id": "f0331c6a",
   "metadata": {},
   "outputs": [
    {
     "data": {
      "text/html": [
       "<div>\n",
       "<style scoped>\n",
       "    .dataframe tbody tr th:only-of-type {\n",
       "        vertical-align: middle;\n",
       "    }\n",
       "\n",
       "    .dataframe tbody tr th {\n",
       "        vertical-align: top;\n",
       "    }\n",
       "\n",
       "    .dataframe thead th {\n",
       "        text-align: right;\n",
       "    }\n",
       "</style>\n",
       "<table border=\"1\" class=\"dataframe\">\n",
       "  <thead>\n",
       "    <tr style=\"text-align: right;\">\n",
       "      <th></th>\n",
       "      <th>PassengerId</th>\n",
       "      <th>Survived</th>\n",
       "      <th>Pclass</th>\n",
       "      <th>Name</th>\n",
       "      <th>Sex</th>\n",
       "      <th>Age</th>\n",
       "      <th>SibSp</th>\n",
       "      <th>Parch</th>\n",
       "      <th>Ticket</th>\n",
       "      <th>Fare</th>\n",
       "      <th>Embarked</th>\n",
       "    </tr>\n",
       "  </thead>\n",
       "  <tbody>\n",
       "    <tr>\n",
       "      <th>886</th>\n",
       "      <td>887</td>\n",
       "      <td>0</td>\n",
       "      <td>2</td>\n",
       "      <td>Montvila, Rev. Juozas</td>\n",
       "      <td>1</td>\n",
       "      <td>27.000000</td>\n",
       "      <td>0</td>\n",
       "      <td>0</td>\n",
       "      <td>211536</td>\n",
       "      <td>13.00</td>\n",
       "      <td>S</td>\n",
       "    </tr>\n",
       "    <tr>\n",
       "      <th>887</th>\n",
       "      <td>888</td>\n",
       "      <td>1</td>\n",
       "      <td>1</td>\n",
       "      <td>Graham, Miss. Margaret Edith</td>\n",
       "      <td>0</td>\n",
       "      <td>19.000000</td>\n",
       "      <td>0</td>\n",
       "      <td>0</td>\n",
       "      <td>112053</td>\n",
       "      <td>30.00</td>\n",
       "      <td>S</td>\n",
       "    </tr>\n",
       "    <tr>\n",
       "      <th>888</th>\n",
       "      <td>889</td>\n",
       "      <td>0</td>\n",
       "      <td>3</td>\n",
       "      <td>Johnston, Miss. Catherine Helen \"Carrie\"</td>\n",
       "      <td>0</td>\n",
       "      <td>29.699118</td>\n",
       "      <td>1</td>\n",
       "      <td>2</td>\n",
       "      <td>W./C. 6607</td>\n",
       "      <td>23.45</td>\n",
       "      <td>S</td>\n",
       "    </tr>\n",
       "    <tr>\n",
       "      <th>889</th>\n",
       "      <td>890</td>\n",
       "      <td>1</td>\n",
       "      <td>1</td>\n",
       "      <td>Behr, Mr. Karl Howell</td>\n",
       "      <td>1</td>\n",
       "      <td>26.000000</td>\n",
       "      <td>0</td>\n",
       "      <td>0</td>\n",
       "      <td>111369</td>\n",
       "      <td>30.00</td>\n",
       "      <td>C</td>\n",
       "    </tr>\n",
       "    <tr>\n",
       "      <th>890</th>\n",
       "      <td>891</td>\n",
       "      <td>0</td>\n",
       "      <td>3</td>\n",
       "      <td>Dooley, Mr. Patrick</td>\n",
       "      <td>1</td>\n",
       "      <td>32.000000</td>\n",
       "      <td>0</td>\n",
       "      <td>0</td>\n",
       "      <td>370376</td>\n",
       "      <td>7.75</td>\n",
       "      <td>Q</td>\n",
       "    </tr>\n",
       "  </tbody>\n",
       "</table>\n",
       "</div>"
      ],
      "text/plain": [
       "     PassengerId  Survived  Pclass                                      Name  \\\n",
       "886          887         0       2                     Montvila, Rev. Juozas   \n",
       "887          888         1       1              Graham, Miss. Margaret Edith   \n",
       "888          889         0       3  Johnston, Miss. Catherine Helen \"Carrie\"   \n",
       "889          890         1       1                     Behr, Mr. Karl Howell   \n",
       "890          891         0       3                       Dooley, Mr. Patrick   \n",
       "\n",
       "     Sex        Age  SibSp  Parch      Ticket   Fare Embarked  \n",
       "886    1  27.000000      0      0      211536  13.00        S  \n",
       "887    0  19.000000      0      0      112053  30.00        S  \n",
       "888    0  29.699118      1      2  W./C. 6607  23.45        S  \n",
       "889    1  26.000000      0      0      111369  30.00        C  \n",
       "890    1  32.000000      0      0      370376   7.75        Q  "
      ]
     },
     "execution_count": 12,
     "metadata": {},
     "output_type": "execute_result"
    }
   ],
   "source": [
    "df.tail()"
   ]
  },
  {
   "cell_type": "code",
   "execution_count": 13,
   "id": "145325fa",
   "metadata": {},
   "outputs": [
    {
     "data": {
      "text/html": [
       "<div>\n",
       "<style scoped>\n",
       "    .dataframe tbody tr th:only-of-type {\n",
       "        vertical-align: middle;\n",
       "    }\n",
       "\n",
       "    .dataframe tbody tr th {\n",
       "        vertical-align: top;\n",
       "    }\n",
       "\n",
       "    .dataframe thead th {\n",
       "        text-align: right;\n",
       "    }\n",
       "</style>\n",
       "<table border=\"1\" class=\"dataframe\">\n",
       "  <thead>\n",
       "    <tr style=\"text-align: right;\">\n",
       "      <th></th>\n",
       "      <th>PassengerId</th>\n",
       "      <th>Survived</th>\n",
       "      <th>Pclass</th>\n",
       "      <th>Name</th>\n",
       "      <th>Sex</th>\n",
       "      <th>Age</th>\n",
       "      <th>SibSp</th>\n",
       "      <th>Parch</th>\n",
       "      <th>Ticket</th>\n",
       "      <th>Fare</th>\n",
       "      <th>Embarked</th>\n",
       "    </tr>\n",
       "  </thead>\n",
       "  <tbody>\n",
       "    <tr>\n",
       "      <th>886</th>\n",
       "      <td>887</td>\n",
       "      <td>0</td>\n",
       "      <td>2</td>\n",
       "      <td>Montvila, Rev. Juozas</td>\n",
       "      <td>1</td>\n",
       "      <td>27.000000</td>\n",
       "      <td>0</td>\n",
       "      <td>0</td>\n",
       "      <td>211536</td>\n",
       "      <td>13.00</td>\n",
       "      <td>1</td>\n",
       "    </tr>\n",
       "    <tr>\n",
       "      <th>887</th>\n",
       "      <td>888</td>\n",
       "      <td>1</td>\n",
       "      <td>1</td>\n",
       "      <td>Graham, Miss. Margaret Edith</td>\n",
       "      <td>0</td>\n",
       "      <td>19.000000</td>\n",
       "      <td>0</td>\n",
       "      <td>0</td>\n",
       "      <td>112053</td>\n",
       "      <td>30.00</td>\n",
       "      <td>1</td>\n",
       "    </tr>\n",
       "    <tr>\n",
       "      <th>888</th>\n",
       "      <td>889</td>\n",
       "      <td>0</td>\n",
       "      <td>3</td>\n",
       "      <td>Johnston, Miss. Catherine Helen \"Carrie\"</td>\n",
       "      <td>0</td>\n",
       "      <td>29.699118</td>\n",
       "      <td>1</td>\n",
       "      <td>2</td>\n",
       "      <td>W./C. 6607</td>\n",
       "      <td>23.45</td>\n",
       "      <td>1</td>\n",
       "    </tr>\n",
       "    <tr>\n",
       "      <th>889</th>\n",
       "      <td>890</td>\n",
       "      <td>1</td>\n",
       "      <td>1</td>\n",
       "      <td>Behr, Mr. Karl Howell</td>\n",
       "      <td>1</td>\n",
       "      <td>26.000000</td>\n",
       "      <td>0</td>\n",
       "      <td>0</td>\n",
       "      <td>111369</td>\n",
       "      <td>30.00</td>\n",
       "      <td>2</td>\n",
       "    </tr>\n",
       "    <tr>\n",
       "      <th>890</th>\n",
       "      <td>891</td>\n",
       "      <td>0</td>\n",
       "      <td>3</td>\n",
       "      <td>Dooley, Mr. Patrick</td>\n",
       "      <td>1</td>\n",
       "      <td>32.000000</td>\n",
       "      <td>0</td>\n",
       "      <td>0</td>\n",
       "      <td>370376</td>\n",
       "      <td>7.75</td>\n",
       "      <td>3</td>\n",
       "    </tr>\n",
       "  </tbody>\n",
       "</table>\n",
       "</div>"
      ],
      "text/plain": [
       "     PassengerId  Survived  Pclass                                      Name  \\\n",
       "886          887         0       2                     Montvila, Rev. Juozas   \n",
       "887          888         1       1              Graham, Miss. Margaret Edith   \n",
       "888          889         0       3  Johnston, Miss. Catherine Helen \"Carrie\"   \n",
       "889          890         1       1                     Behr, Mr. Karl Howell   \n",
       "890          891         0       3                       Dooley, Mr. Patrick   \n",
       "\n",
       "     Sex        Age  SibSp  Parch      Ticket   Fare  Embarked  \n",
       "886    1  27.000000      0      0      211536  13.00         1  \n",
       "887    0  19.000000      0      0      112053  30.00         1  \n",
       "888    0  29.699118      1      2  W./C. 6607  23.45         1  \n",
       "889    1  26.000000      0      0      111369  30.00         2  \n",
       "890    1  32.000000      0      0      370376   7.75         3  "
      ]
     },
     "execution_count": 13,
     "metadata": {},
     "output_type": "execute_result"
    }
   ],
   "source": [
    "df['Embarked'] = np.where(df['Embarked'] == 'S', 1, (np.where(df['Embarked'] == 'C', 2, 3 )))\n",
    "df.tail()"
   ]
  },
  {
   "cell_type": "markdown",
   "id": "40aea770",
   "metadata": {},
   "source": [
    "#### Dropping Name column and Ticket (number) column as they seem irrelavant to constructing a model "
   ]
  },
  {
   "cell_type": "code",
   "execution_count": 14,
   "id": "6f635edf",
   "metadata": {},
   "outputs": [
    {
     "data": {
      "text/html": [
       "<div>\n",
       "<style scoped>\n",
       "    .dataframe tbody tr th:only-of-type {\n",
       "        vertical-align: middle;\n",
       "    }\n",
       "\n",
       "    .dataframe tbody tr th {\n",
       "        vertical-align: top;\n",
       "    }\n",
       "\n",
       "    .dataframe thead th {\n",
       "        text-align: right;\n",
       "    }\n",
       "</style>\n",
       "<table border=\"1\" class=\"dataframe\">\n",
       "  <thead>\n",
       "    <tr style=\"text-align: right;\">\n",
       "      <th></th>\n",
       "      <th>PassengerId</th>\n",
       "      <th>Survived</th>\n",
       "      <th>Pclass</th>\n",
       "      <th>Sex</th>\n",
       "      <th>Age</th>\n",
       "      <th>SibSp</th>\n",
       "      <th>Parch</th>\n",
       "      <th>Fare</th>\n",
       "      <th>Embarked</th>\n",
       "    </tr>\n",
       "  </thead>\n",
       "  <tbody>\n",
       "    <tr>\n",
       "      <th>0</th>\n",
       "      <td>1</td>\n",
       "      <td>0</td>\n",
       "      <td>3</td>\n",
       "      <td>1</td>\n",
       "      <td>22.0</td>\n",
       "      <td>1</td>\n",
       "      <td>0</td>\n",
       "      <td>7.2500</td>\n",
       "      <td>1</td>\n",
       "    </tr>\n",
       "    <tr>\n",
       "      <th>1</th>\n",
       "      <td>2</td>\n",
       "      <td>1</td>\n",
       "      <td>1</td>\n",
       "      <td>0</td>\n",
       "      <td>38.0</td>\n",
       "      <td>1</td>\n",
       "      <td>0</td>\n",
       "      <td>71.2833</td>\n",
       "      <td>2</td>\n",
       "    </tr>\n",
       "    <tr>\n",
       "      <th>2</th>\n",
       "      <td>3</td>\n",
       "      <td>1</td>\n",
       "      <td>3</td>\n",
       "      <td>0</td>\n",
       "      <td>26.0</td>\n",
       "      <td>0</td>\n",
       "      <td>0</td>\n",
       "      <td>7.9250</td>\n",
       "      <td>1</td>\n",
       "    </tr>\n",
       "    <tr>\n",
       "      <th>3</th>\n",
       "      <td>4</td>\n",
       "      <td>1</td>\n",
       "      <td>1</td>\n",
       "      <td>0</td>\n",
       "      <td>35.0</td>\n",
       "      <td>1</td>\n",
       "      <td>0</td>\n",
       "      <td>53.1000</td>\n",
       "      <td>1</td>\n",
       "    </tr>\n",
       "    <tr>\n",
       "      <th>4</th>\n",
       "      <td>5</td>\n",
       "      <td>0</td>\n",
       "      <td>3</td>\n",
       "      <td>1</td>\n",
       "      <td>35.0</td>\n",
       "      <td>0</td>\n",
       "      <td>0</td>\n",
       "      <td>8.0500</td>\n",
       "      <td>1</td>\n",
       "    </tr>\n",
       "  </tbody>\n",
       "</table>\n",
       "</div>"
      ],
      "text/plain": [
       "   PassengerId  Survived  Pclass  Sex   Age  SibSp  Parch     Fare  Embarked\n",
       "0            1         0       3    1  22.0      1      0   7.2500         1\n",
       "1            2         1       1    0  38.0      1      0  71.2833         2\n",
       "2            3         1       3    0  26.0      0      0   7.9250         1\n",
       "3            4         1       1    0  35.0      1      0  53.1000         1\n",
       "4            5         0       3    1  35.0      0      0   8.0500         1"
      ]
     },
     "execution_count": 14,
     "metadata": {},
     "output_type": "execute_result"
    }
   ],
   "source": [
    "df = df.drop(['Name', 'Ticket'], axis=1)\n",
    "df.head()"
   ]
  },
  {
   "cell_type": "markdown",
   "id": "667e4bd5",
   "metadata": {},
   "source": [
    "### Exploratory Data Analisys"
   ]
  },
  {
   "cell_type": "markdown",
   "id": "91de103c",
   "metadata": {},
   "source": [
    "#### Searching for corelations "
   ]
  },
  {
   "cell_type": "code",
   "execution_count": 15,
   "id": "ded4f70d",
   "metadata": {},
   "outputs": [
    {
     "data": {
      "text/html": [
       "<div>\n",
       "<style scoped>\n",
       "    .dataframe tbody tr th:only-of-type {\n",
       "        vertical-align: middle;\n",
       "    }\n",
       "\n",
       "    .dataframe tbody tr th {\n",
       "        vertical-align: top;\n",
       "    }\n",
       "\n",
       "    .dataframe thead th {\n",
       "        text-align: right;\n",
       "    }\n",
       "</style>\n",
       "<table border=\"1\" class=\"dataframe\">\n",
       "  <thead>\n",
       "    <tr style=\"text-align: right;\">\n",
       "      <th></th>\n",
       "      <th>PassengerId</th>\n",
       "      <th>Survived</th>\n",
       "      <th>Pclass</th>\n",
       "      <th>Sex</th>\n",
       "      <th>Age</th>\n",
       "      <th>SibSp</th>\n",
       "      <th>Parch</th>\n",
       "      <th>Fare</th>\n",
       "      <th>Embarked</th>\n",
       "    </tr>\n",
       "  </thead>\n",
       "  <tbody>\n",
       "    <tr>\n",
       "      <th>PassengerId</th>\n",
       "      <td>1.000000</td>\n",
       "      <td>-0.005007</td>\n",
       "      <td>-0.035144</td>\n",
       "      <td>0.042939</td>\n",
       "      <td>0.033207</td>\n",
       "      <td>-0.057527</td>\n",
       "      <td>-0.001652</td>\n",
       "      <td>0.012658</td>\n",
       "      <td>-0.030467</td>\n",
       "    </tr>\n",
       "    <tr>\n",
       "      <th>Survived</th>\n",
       "      <td>-0.005007</td>\n",
       "      <td>1.000000</td>\n",
       "      <td>-0.338481</td>\n",
       "      <td>-0.543351</td>\n",
       "      <td>-0.069809</td>\n",
       "      <td>-0.035322</td>\n",
       "      <td>0.081629</td>\n",
       "      <td>0.257307</td>\n",
       "      <td>0.106811</td>\n",
       "    </tr>\n",
       "    <tr>\n",
       "      <th>Pclass</th>\n",
       "      <td>-0.035144</td>\n",
       "      <td>-0.338481</td>\n",
       "      <td>1.000000</td>\n",
       "      <td>0.131900</td>\n",
       "      <td>-0.331339</td>\n",
       "      <td>0.083081</td>\n",
       "      <td>0.018443</td>\n",
       "      <td>-0.549500</td>\n",
       "      <td>0.045702</td>\n",
       "    </tr>\n",
       "    <tr>\n",
       "      <th>Sex</th>\n",
       "      <td>0.042939</td>\n",
       "      <td>-0.543351</td>\n",
       "      <td>0.131900</td>\n",
       "      <td>1.000000</td>\n",
       "      <td>0.084153</td>\n",
       "      <td>-0.114631</td>\n",
       "      <td>-0.245489</td>\n",
       "      <td>-0.182333</td>\n",
       "      <td>-0.116569</td>\n",
       "    </tr>\n",
       "    <tr>\n",
       "      <th>Age</th>\n",
       "      <td>0.033207</td>\n",
       "      <td>-0.069809</td>\n",
       "      <td>-0.331339</td>\n",
       "      <td>0.084153</td>\n",
       "      <td>1.000000</td>\n",
       "      <td>-0.232625</td>\n",
       "      <td>-0.179191</td>\n",
       "      <td>0.091566</td>\n",
       "      <td>0.007461</td>\n",
       "    </tr>\n",
       "    <tr>\n",
       "      <th>SibSp</th>\n",
       "      <td>-0.057527</td>\n",
       "      <td>-0.035322</td>\n",
       "      <td>0.083081</td>\n",
       "      <td>-0.114631</td>\n",
       "      <td>-0.232625</td>\n",
       "      <td>1.000000</td>\n",
       "      <td>0.414838</td>\n",
       "      <td>0.159651</td>\n",
       "      <td>-0.059961</td>\n",
       "    </tr>\n",
       "    <tr>\n",
       "      <th>Parch</th>\n",
       "      <td>-0.001652</td>\n",
       "      <td>0.081629</td>\n",
       "      <td>0.018443</td>\n",
       "      <td>-0.245489</td>\n",
       "      <td>-0.179191</td>\n",
       "      <td>0.414838</td>\n",
       "      <td>1.000000</td>\n",
       "      <td>0.216225</td>\n",
       "      <td>-0.078665</td>\n",
       "    </tr>\n",
       "    <tr>\n",
       "      <th>Fare</th>\n",
       "      <td>0.012658</td>\n",
       "      <td>0.257307</td>\n",
       "      <td>-0.549500</td>\n",
       "      <td>-0.182333</td>\n",
       "      <td>0.091566</td>\n",
       "      <td>0.159651</td>\n",
       "      <td>0.216225</td>\n",
       "      <td>1.000000</td>\n",
       "      <td>0.062142</td>\n",
       "    </tr>\n",
       "    <tr>\n",
       "      <th>Embarked</th>\n",
       "      <td>-0.030467</td>\n",
       "      <td>0.106811</td>\n",
       "      <td>0.045702</td>\n",
       "      <td>-0.116569</td>\n",
       "      <td>0.007461</td>\n",
       "      <td>-0.059961</td>\n",
       "      <td>-0.078665</td>\n",
       "      <td>0.062142</td>\n",
       "      <td>1.000000</td>\n",
       "    </tr>\n",
       "  </tbody>\n",
       "</table>\n",
       "</div>"
      ],
      "text/plain": [
       "             PassengerId  Survived    Pclass       Sex       Age     SibSp  \\\n",
       "PassengerId     1.000000 -0.005007 -0.035144  0.042939  0.033207 -0.057527   \n",
       "Survived       -0.005007  1.000000 -0.338481 -0.543351 -0.069809 -0.035322   \n",
       "Pclass         -0.035144 -0.338481  1.000000  0.131900 -0.331339  0.083081   \n",
       "Sex             0.042939 -0.543351  0.131900  1.000000  0.084153 -0.114631   \n",
       "Age             0.033207 -0.069809 -0.331339  0.084153  1.000000 -0.232625   \n",
       "SibSp          -0.057527 -0.035322  0.083081 -0.114631 -0.232625  1.000000   \n",
       "Parch          -0.001652  0.081629  0.018443 -0.245489 -0.179191  0.414838   \n",
       "Fare            0.012658  0.257307 -0.549500 -0.182333  0.091566  0.159651   \n",
       "Embarked       -0.030467  0.106811  0.045702 -0.116569  0.007461 -0.059961   \n",
       "\n",
       "                Parch      Fare  Embarked  \n",
       "PassengerId -0.001652  0.012658 -0.030467  \n",
       "Survived     0.081629  0.257307  0.106811  \n",
       "Pclass       0.018443 -0.549500  0.045702  \n",
       "Sex         -0.245489 -0.182333 -0.116569  \n",
       "Age         -0.179191  0.091566  0.007461  \n",
       "SibSp        0.414838  0.159651 -0.059961  \n",
       "Parch        1.000000  0.216225 -0.078665  \n",
       "Fare         0.216225  1.000000  0.062142  \n",
       "Embarked    -0.078665  0.062142  1.000000  "
      ]
     },
     "execution_count": 15,
     "metadata": {},
     "output_type": "execute_result"
    }
   ],
   "source": [
    "corr = df.corr()\n",
    "corr"
   ]
  },
  {
   "cell_type": "code",
   "execution_count": 16,
   "id": "0e302d8d",
   "metadata": {},
   "outputs": [
    {
     "data": {
      "text/plain": [
       "<AxesSubplot:>"
      ]
     },
     "execution_count": 16,
     "metadata": {},
     "output_type": "execute_result"
    },
    {
     "data": {
      "image/png": "[encoded data removed]",
      "text/plain": [
       "<Figure size 432x288 with 2 Axes>"
      ]
     },
     "metadata": {
      "needs_background": "light"
     },
     "output_type": "display_data"
    }
   ],
   "source": [
    "sns.heatmap(corr)"
   ]
  },
  {
   "cell_type": "code",
   "execution_count": 17,
   "id": "d1c97db8",
   "metadata": {},
   "outputs": [
    {
     "data": {
      "text/plain": [
       "3    491\n",
       "1    216\n",
       "2    184\n",
       "Name: Pclass, dtype: int64"
      ]
     },
     "execution_count": 17,
     "metadata": {},
     "output_type": "execute_result"
    }
   ],
   "source": [
    "classes = df['Pclass'].value_counts()\n",
    "classes"
   ]
  },
  {
   "cell_type": "code",
   "execution_count": 18,
   "id": "ed47e703",
   "metadata": {},
   "outputs": [
    {
     "data": {
      "text/plain": [
       "Text(0, 0.5, 'Number of passangers')"
      ]
     },
     "execution_count": 18,
     "metadata": {},
     "output_type": "execute_result"
    },
    {
     "data": {
      "image/png": "[encoded data removed]",
      "text/plain": [
       "<Figure size 288x432 with 1 Axes>"
      ]
     },
     "metadata": {
      "needs_background": "light"
     },
     "output_type": "display_data"
    }
   ],
   "source": [
    "fig, ax  = plt.subplots(figsize=[4,6])\n",
    "\n",
    "ax.bar(classes.index, classes, tick_label = classes.index)\n",
    "plt.xlabel('Classes')\n",
    "plt.ylabel('Number of passangers')"
   ]
  },
  {
   "cell_type": "markdown",
   "id": "54ff6d5f",
   "metadata": {},
   "source": [
    "#### Counting survived passangers with division by class"
   ]
  },
  {
   "cell_type": "markdown",
   "id": "013585de",
   "metadata": {},
   "source": [
    "##### By function:"
   ]
  },
  {
   "cell_type": "code",
   "execution_count": 19,
   "id": "2ce9c8a3",
   "metadata": {},
   "outputs": [],
   "source": [
    "def survived_by_class(df):\n",
    "    \n",
    "    survived_first_class = 0 \n",
    "    survived_second_class = 0\n",
    "    survived_third_class = 0\n",
    "    \n",
    "    for ind in df.index:\n",
    "        if df['Survived'][ind] == 1:\n",
    "            \n",
    "            if df['Pclass'][ind] == 1:\n",
    "                survived_first_class += 1\n",
    "            \n",
    "            elif df['Pclass'][ind] == 2:\n",
    "                survived_second_class += 1\n",
    "            \n",
    "            elif df['Pclass'][ind] == 3:\n",
    "                survived_third_class += 1\n",
    "            \n",
    "            else:\n",
    "                pass\n",
    "        else:\n",
    "            pass\n",
    "    \n",
    "    return [survived_first_class, survived_second_class, survived_third_class]"
   ]
  },
  {
   "cell_type": "code",
   "execution_count": 20,
   "id": "70a8ba8a",
   "metadata": {},
   "outputs": [
    {
     "data": {
      "text/plain": [
       "[136, 87, 119]"
      ]
     },
     "execution_count": 20,
     "metadata": {},
     "output_type": "execute_result"
    }
   ],
   "source": [
    "survived_by_class= survived_by_class(df)\n",
    "survived_by_class"
   ]
  },
  {
   "cell_type": "markdown",
   "id": "17e5348a",
   "metadata": {},
   "source": [
    "##### By sum of elements:"
   ]
  },
  {
   "cell_type": "code",
   "execution_count": 21,
   "id": "595770b5",
   "metadata": {},
   "outputs": [
    {
     "data": {
      "text/plain": [
       "[136, 87, 119]"
      ]
     },
     "execution_count": 21,
     "metadata": {},
     "output_type": "execute_result"
    }
   ],
   "source": [
    "survived_first_class = df.loc[(df['Survived'] == 1) & (df['Pclass'] == 1), 'Survived'].sum() \n",
    "survived_second_class = df.loc[(df['Survived'] == 1) & (df['Pclass'] == 2), 'Survived'].sum()\n",
    "survived_third_class = df.loc[(df['Survived'] == 1) & (df['Pclass'] == 3), 'Survived'].sum()\n",
    "survived_by_class_list = [survived_first_class, survived_second_class, survived_third_class]\n",
    "survived_by_class_list"
   ]
  },
  {
   "cell_type": "markdown",
   "id": "fdee7545",
   "metadata": {},
   "source": [
    "#### Survival rate by class"
   ]
  },
  {
   "cell_type": "code",
   "execution_count": 22,
   "id": "a8d8d1ad",
   "metadata": {},
   "outputs": [
    {
     "data": {
      "text/plain": [
       "[0.6296296296296297, 0.47282608695652173, 0.24236252545824846]"
      ]
     },
     "execution_count": 22,
     "metadata": {},
     "output_type": "execute_result"
    }
   ],
   "source": [
    "rate_1 = (survived_by_class_list[0])/(df['Pclass'].value_counts()[1])\n",
    "rate_2 = (survived_by_class_list[1])/(df['Pclass'].value_counts()[2])\n",
    "rate_3 = (survived_by_class_list[2])/(df['Pclass'].value_counts()[3])\n",
    "surv_rates_class = [rate_1, rate_2, rate_3]\n",
    "surv_rates_class"
   ]
  },
  {
   "cell_type": "code",
   "execution_count": 23,
   "id": "d27ecbc4",
   "metadata": {},
   "outputs": [
    {
     "data": {
      "text/plain": [
       "Text(0.5, 1.0, 'Survival rate by classes')"
      ]
     },
     "execution_count": 23,
     "metadata": {},
     "output_type": "execute_result"
    },
    {
     "data": {
      "image/png": "[encoded data removed]",
      "text/plain": [
       "<Figure size 432x288 with 1 Axes>"
      ]
     },
     "metadata": {
      "needs_background": "light"
     },
     "output_type": "display_data"
    }
   ],
   "source": [
    "classes = df['Pclass'].value_counts()\n",
    "\n",
    "fig, ax = plt.subplots()\n",
    "ax.bar(classes.index.sort_values(), surv_rates_class, tick_label = classes.index.sort_values())\n",
    "\n",
    "plt.xlabel(\"Classes\")\n",
    "plt.ylabel(\"Survived rate\")\n",
    "plt.title(\"Survival rate by classes\")"
   ]
  },
  {
   "cell_type": "markdown",
   "id": "a00e5ed9",
   "metadata": {},
   "source": [
    "## Training a model "
   ]
  },
  {
   "cell_type": "markdown",
   "id": "358b9d41",
   "metadata": {},
   "source": [
    "#### Prepearing training and testing sets"
   ]
  },
  {
   "cell_type": "code",
   "execution_count": 24,
   "id": "793fecf3",
   "metadata": {},
   "outputs": [],
   "source": [
    "from sklearn.model_selection import train_test_split\n",
    "\n",
    "y = df.pop('Survived')\n",
    "X = df\n",
    "\n",
    "X_train, X_test, y_train, y_test = train_test_split(X, y, test_size=0.2, stratify=y)"
   ]
  },
  {
   "cell_type": "markdown",
   "id": "169751c1",
   "metadata": {},
   "source": [
    "### Logistic Regression model"
   ]
  },
  {
   "cell_type": "code",
   "execution_count": 25,
   "id": "1accb934",
   "metadata": {},
   "outputs": [
    {
     "data": {
      "text/html": [
       "<style>#sk-container-id-1 {color: black;background-color: white;}#sk-container-id-1 pre{padding: 0;}#sk-container-id-1 div.sk-toggleable {background-color: white;}#sk-container-id-1 label.sk-toggleable__label {cursor: pointer;display: block;width: 100%;margin-bottom: 0;padding: 0.3em;box-sizing: border-box;text-align: center;}#sk-container-id-1 label.sk-toggleable__label-arrow:before {content: \"▸\";float: left;margin-right: 0.25em;color: #696969;}#sk-container-id-1 label.sk-toggleable__label-arrow:hover:before {color: black;}#sk-container-id-1 div.sk-estimator:hover label.sk-toggleable__label-arrow:before {color: black;}#sk-container-id-1 div.sk-toggleable__content {max-height: 0;max-width: 0;overflow: hidden;text-align: left;background-color: #f0f8ff;}#sk-container-id-1 div.sk-toggleable__content pre {margin: 0.2em;color: black;border-radius: 0.25em;background-color: #f0f8ff;}#sk-container-id-1 input.sk-toggleable__control:checked~div.sk-toggleable__content {max-height: 200px;max-width: 100%;overflow: auto;}#sk-container-id-1 input.sk-toggleable__control:checked~label.sk-toggleable__label-arrow:before {content: \"▾\";}#sk-container-id-1 div.sk-estimator input.sk-toggleable__control:checked~label.sk-toggleable__label {background-color: #d4ebff;}#sk-container-id-1 div.sk-label input.sk-toggleable__control:checked~label.sk-toggleable__label {background-color: #d4ebff;}#sk-container-id-1 input.sk-hidden--visually {border: 0;clip: rect(1px 1px 1px 1px);clip: rect(1px, 1px, 1px, 1px);height: 1px;margin: -1px;overflow: hidden;padding: 0;position: absolute;width: 1px;}#sk-container-id-1 div.sk-estimator {font-family: monospace;background-color: #f0f8ff;border: 1px dotted black;border-radius: 0.25em;box-sizing: border-box;margin-bottom: 0.5em;}#sk-container-id-1 div.sk-estimator:hover {background-color: #d4ebff;}#sk-container-id-1 div.sk-parallel-item::after {content: \"\";width: 100%;border-bottom: 1px solid gray;flex-grow: 1;}#sk-container-id-1 div.sk-label:hover label.sk-toggleable__label {background-color: #d4ebff;}#sk-container-id-1 div.sk-serial::before {content: \"\";position: absolute;border-left: 1px solid gray;box-sizing: border-box;top: 0;bottom: 0;left: 50%;z-index: 0;}#sk-container-id-1 div.sk-serial {display: flex;flex-direction: column;align-items: center;background-color: white;padding-right: 0.2em;padding-left: 0.2em;position: relative;}#sk-container-id-1 div.sk-item {position: relative;z-index: 1;}#sk-container-id-1 div.sk-parallel {display: flex;align-items: stretch;justify-content: center;background-color: white;position: relative;}#sk-container-id-1 div.sk-item::before, #sk-container-id-1 div.sk-parallel-item::before {content: \"\";position: absolute;border-left: 1px solid gray;box-sizing: border-box;top: 0;bottom: 0;left: 50%;z-index: -1;}#sk-container-id-1 div.sk-parallel-item {display: flex;flex-direction: column;z-index: 1;position: relative;background-color: white;}#sk-container-id-1 div.sk-parallel-item:first-child::after {align-self: flex-end;width: 50%;}#sk-container-id-1 div.sk-parallel-item:last-child::after {align-self: flex-start;width: 50%;}#sk-container-id-1 div.sk-parallel-item:only-child::after {width: 0;}#sk-container-id-1 div.sk-dashed-wrapped {border: 1px dashed gray;margin: 0 0.4em 0.5em 0.4em;box-sizing: border-box;padding-bottom: 0.4em;background-color: white;}#sk-container-id-1 div.sk-label label {font-family: monospace;font-weight: bold;display: inline-block;line-height: 1.2em;}#sk-container-id-1 div.sk-label-container {text-align: center;}#sk-container-id-1 div.sk-container {/* jupyter's `normalize.less` sets `[hidden] { display: none; }` but bootstrap.min.css set `[hidden] { display: none !important; }` so we also need the `!important` here to be able to override the default hidden behavior on the sphinx rendered scikit-learn.org. See: https://github.com/scikit-learn/scikit-learn/issues/21755 */display: inline-block !important;position: relative;}#sk-container-id-1 div.sk-text-repr-fallback {display: none;}</style><div id=\"sk-container-id-1\" class=\"sk-top-container\"><div class=\"sk-text-repr-fallback\"><pre>LogisticRegression(C=0.01, solver=&#x27;liblinear&#x27;)</pre><b>In a Jupyter environment, please rerun this cell to show the HTML representation or trust the notebook. <br />On GitHub, the HTML representation is unable to render, please try loading this page with nbviewer.org.</b></div><div class=\"sk-container\" hidden><div class=\"sk-item\"><div class=\"sk-estimator sk-toggleable\"><input class=\"sk-toggleable__control sk-hidden--visually\" id=\"sk-estimator-id-1\" type=\"checkbox\" checked><label for=\"sk-estimator-id-1\" class=\"sk-toggleable__label sk-toggleable__label-arrow\">LogisticRegression</label><div class=\"sk-toggleable__content\"><pre>LogisticRegression(C=0.01, solver=&#x27;liblinear&#x27;)</pre></div></div></div></div></div>"
      ],
      "text/plain": [
       "LogisticRegression(C=0.01, solver='liblinear')"
      ]
     },
     "execution_count": 25,
     "metadata": {},
     "output_type": "execute_result"
    }
   ],
   "source": [
    "from sklearn.linear_model import LogisticRegression\n",
    "lr = LogisticRegression(penalty='l2', C=0.01, solver='liblinear')\n",
    "lr.fit(X_train, y_train)"
   ]
  },
  {
   "cell_type": "code",
   "execution_count": 26,
   "id": "5f81f855",
   "metadata": {},
   "outputs": [],
   "source": [
    "y_pred_train = lr.predict(X_train)\n",
    "y_pred_test = lr.predict(X_test)"
   ]
  },
  {
   "cell_type": "markdown",
   "id": "f0015e98",
   "metadata": {},
   "source": [
    "#### Results on training set"
   ]
  },
  {
   "cell_type": "code",
   "execution_count": 27,
   "id": "72436893",
   "metadata": {},
   "outputs": [],
   "source": [
    "from sklearn.metrics import confusion_matrix\n",
    "from matplotlib import pyplot as plt\n",
    "\n",
    "def print_confusion_matrix(y_true, y_predict,\n",
    "                           set_type='train',\n",
    "                           cmap = None,\n",
    "                           figsize=(7,7), \n",
    "                           label_font_size=14,\n",
    "                           title_font_size=16\n",
    "                          ):\n",
    "\n",
    "    sns.set(rc ={'figure.figsize':figsize})\n",
    "    cm = confusion_matrix(y_true, y_predict)\n",
    "\n",
    "    ax = sns.heatmap(cm, annot=True, fmt='d', cmap=cmap)\n",
    "\n",
    "    plt.xlabel('Prediction', fontsize=label_font_size)\n",
    "    plt.ylabel('Truth', fontsize=label_font_size)\n",
    "    plt.title('Confusion matrix- train set (Logistic Regression)', fontsize=title_font_size)\n",
    "    plt.show()"
   ]
  },
  {
   "cell_type": "code",
   "execution_count": 28,
   "id": "077c0ea8",
   "metadata": {},
   "outputs": [
    {
     "data": {
      "image/png": "[encoded data removed]",
      "text/plain": [
       "<Figure size 504x504 with 2 Axes>"
      ]
     },
     "metadata": {},
     "output_type": "display_data"
    }
   ],
   "source": [
    "print_confusion_matrix(y_train, y_pred_train)"
   ]
  },
  {
   "cell_type": "code",
   "execution_count": 29,
   "id": "026d59a2",
   "metadata": {},
   "outputs": [],
   "source": [
    "from sklearn.metrics import accuracy_score, precision_score, recall_score, f1_score\n",
    "\n",
    "def calculate_metrics(true, prediction, average='macro'):\n",
    "    accuracy = accuracy_score(true, prediction)\n",
    "    precision = precision_score(true, prediction)\n",
    "    recall = recall_score(true, prediction, average=average, zero_division=0)\n",
    "    f1 = f1_score(true, prediction, average=average, zero_division=0)\n",
    "    mislabeled = (true != prediction).sum()\n",
    "    total = len(true)\n",
    "    results = {'Accuracy':accuracy, 'Precision':precision, 'Recall': recall,\n",
    "               'F1':f1, 'Mislabeled':mislabeled, 'Total':total}\n",
    "    return  results\n",
    "\n",
    "def print_metrics(metrics, classifier_id='classifier', data_type='training'):\n",
    "    print(f'Results for {classifier_id} with {data_type} set, are....\\n')\n",
    "    for key in metrics:\n",
    "        print(f'{key} : {metrics[key]}')"
   ]
  },
  {
   "cell_type": "code",
   "execution_count": 30,
   "id": "fb8cccc3",
   "metadata": {},
   "outputs": [
    {
     "name": "stdout",
     "output_type": "stream",
     "text": [
      "Results for Logistic Regression with training set, are....\n",
      "\n",
      "Accuracy : 0.7176966292134831\n",
      "Precision : 0.8333333333333334\n",
      "Recall : 0.6443340258830008\n",
      "F1 : 0.6398638089701875\n",
      "Mislabeled : 201\n",
      "Total : 712\n"
     ]
    }
   ],
   "source": [
    "print_metrics(calculate_metrics(y_train, y_pred_train), data_type='training', classifier_id='Logistic Regression')"
   ]
  },
  {
   "cell_type": "markdown",
   "id": "ea351976",
   "metadata": {},
   "source": [
    "#### Results on test set"
   ]
  },
  {
   "cell_type": "code",
   "execution_count": 31,
   "id": "ace78875",
   "metadata": {},
   "outputs": [
    {
     "data": {
      "image/png": "[encoded data removed]",
      "text/plain": [
       "<Figure size 504x504 with 2 Axes>"
      ]
     },
     "metadata": {},
     "output_type": "display_data"
    }
   ],
   "source": [
    "print_confusion_matrix(y_test, y_pred_test, cmap=\"YlGnBu\")"
   ]
  },
  {
   "cell_type": "code",
   "execution_count": 32,
   "id": "4fc63a59",
   "metadata": {},
   "outputs": [
    {
     "name": "stdout",
     "output_type": "stream",
     "text": [
      "Results for Logistic Regression with test set, are....\n",
      "\n",
      "Accuracy : 0.7318435754189944\n",
      "Precision : 0.8387096774193549\n",
      "Recall : 0.6656785243741765\n",
      "F1 : 0.6669767441860466\n",
      "Mislabeled : 48\n",
      "Total : 179\n"
     ]
    }
   ],
   "source": [
    "print_metrics(calculate_metrics(y_test, y_pred_test),data_type='test', classifier_id='Logistic Regression')"
   ]
  },
  {
   "cell_type": "markdown",
   "id": "f3656f72",
   "metadata": {},
   "source": [
    "#### Tuning the hyperparameters of the model"
   ]
  },
  {
   "cell_type": "code",
   "execution_count": 33,
   "id": "e1fa1547",
   "metadata": {},
   "outputs": [
    {
     "data": {
      "text/html": [
       "<style>#sk-container-id-2 {color: black;background-color: white;}#sk-container-id-2 pre{padding: 0;}#sk-container-id-2 div.sk-toggleable {background-color: white;}#sk-container-id-2 label.sk-toggleable__label {cursor: pointer;display: block;width: 100%;margin-bottom: 0;padding: 0.3em;box-sizing: border-box;text-align: center;}#sk-container-id-2 label.sk-toggleable__label-arrow:before {content: \"▸\";float: left;margin-right: 0.25em;color: #696969;}#sk-container-id-2 label.sk-toggleable__label-arrow:hover:before {color: black;}#sk-container-id-2 div.sk-estimator:hover label.sk-toggleable__label-arrow:before {color: black;}#sk-container-id-2 div.sk-toggleable__content {max-height: 0;max-width: 0;overflow: hidden;text-align: left;background-color: #f0f8ff;}#sk-container-id-2 div.sk-toggleable__content pre {margin: 0.2em;color: black;border-radius: 0.25em;background-color: #f0f8ff;}#sk-container-id-2 input.sk-toggleable__control:checked~div.sk-toggleable__content {max-height: 200px;max-width: 100%;overflow: auto;}#sk-container-id-2 input.sk-toggleable__control:checked~label.sk-toggleable__label-arrow:before {content: \"▾\";}#sk-container-id-2 div.sk-estimator input.sk-toggleable__control:checked~label.sk-toggleable__label {background-color: #d4ebff;}#sk-container-id-2 div.sk-label input.sk-toggleable__control:checked~label.sk-toggleable__label {background-color: #d4ebff;}#sk-container-id-2 input.sk-hidden--visually {border: 0;clip: rect(1px 1px 1px 1px);clip: rect(1px, 1px, 1px, 1px);height: 1px;margin: -1px;overflow: hidden;padding: 0;position: absolute;width: 1px;}#sk-container-id-2 div.sk-estimator {font-family: monospace;background-color: #f0f8ff;border: 1px dotted black;border-radius: 0.25em;box-sizing: border-box;margin-bottom: 0.5em;}#sk-container-id-2 div.sk-estimator:hover {background-color: #d4ebff;}#sk-container-id-2 div.sk-parallel-item::after {content: \"\";width: 100%;border-bottom: 1px solid gray;flex-grow: 1;}#sk-container-id-2 div.sk-label:hover label.sk-toggleable__label {background-color: #d4ebff;}#sk-container-id-2 div.sk-serial::before {content: \"\";position: absolute;border-left: 1px solid gray;box-sizing: border-box;top: 0;bottom: 0;left: 50%;z-index: 0;}#sk-container-id-2 div.sk-serial {display: flex;flex-direction: column;align-items: center;background-color: white;padding-right: 0.2em;padding-left: 0.2em;position: relative;}#sk-container-id-2 div.sk-item {position: relative;z-index: 1;}#sk-container-id-2 div.sk-parallel {display: flex;align-items: stretch;justify-content: center;background-color: white;position: relative;}#sk-container-id-2 div.sk-item::before, #sk-container-id-2 div.sk-parallel-item::before {content: \"\";position: absolute;border-left: 1px solid gray;box-sizing: border-box;top: 0;bottom: 0;left: 50%;z-index: -1;}#sk-container-id-2 div.sk-parallel-item {display: flex;flex-direction: column;z-index: 1;position: relative;background-color: white;}#sk-container-id-2 div.sk-parallel-item:first-child::after {align-self: flex-end;width: 50%;}#sk-container-id-2 div.sk-parallel-item:last-child::after {align-self: flex-start;width: 50%;}#sk-container-id-2 div.sk-parallel-item:only-child::after {width: 0;}#sk-container-id-2 div.sk-dashed-wrapped {border: 1px dashed gray;margin: 0 0.4em 0.5em 0.4em;box-sizing: border-box;padding-bottom: 0.4em;background-color: white;}#sk-container-id-2 div.sk-label label {font-family: monospace;font-weight: bold;display: inline-block;line-height: 1.2em;}#sk-container-id-2 div.sk-label-container {text-align: center;}#sk-container-id-2 div.sk-container {/* jupyter's `normalize.less` sets `[hidden] { display: none; }` but bootstrap.min.css set `[hidden] { display: none !important; }` so we also need the `!important` here to be able to override the default hidden behavior on the sphinx rendered scikit-learn.org. See: https://github.com/scikit-learn/scikit-learn/issues/21755 */display: inline-block !important;position: relative;}#sk-container-id-2 div.sk-text-repr-fallback {display: none;}</style><div id=\"sk-container-id-2\" class=\"sk-top-container\"><div class=\"sk-text-repr-fallback\"><pre>GridSearchCV(cv=5, estimator=LogisticRegression(solver=&#x27;liblinear&#x27;),\n",
       "             param_grid={&#x27;C&#x27;: [1e-05, 3.1622776601683795e-05, 0.0001,\n",
       "                               0.00031622776601683794, 0.001,\n",
       "                               0.0031622776601683794, 0.01, 0.03162277660168379,\n",
       "                               0.1, 0.31622776601683794, 1.0,\n",
       "                               3.1622776601683795]})</pre><b>In a Jupyter environment, please rerun this cell to show the HTML representation or trust the notebook. <br />On GitHub, the HTML representation is unable to render, please try loading this page with nbviewer.org.</b></div><div class=\"sk-container\" hidden><div class=\"sk-item sk-dashed-wrapped\"><div class=\"sk-label-container\"><div class=\"sk-label sk-toggleable\"><input class=\"sk-toggleable__control sk-hidden--visually\" id=\"sk-estimator-id-2\" type=\"checkbox\" ><label for=\"sk-estimator-id-2\" class=\"sk-toggleable__label sk-toggleable__label-arrow\">GridSearchCV</label><div class=\"sk-toggleable__content\"><pre>GridSearchCV(cv=5, estimator=LogisticRegression(solver=&#x27;liblinear&#x27;),\n",
       "             param_grid={&#x27;C&#x27;: [1e-05, 3.1622776601683795e-05, 0.0001,\n",
       "                               0.00031622776601683794, 0.001,\n",
       "                               0.0031622776601683794, 0.01, 0.03162277660168379,\n",
       "                               0.1, 0.31622776601683794, 1.0,\n",
       "                               3.1622776601683795]})</pre></div></div></div><div class=\"sk-parallel\"><div class=\"sk-parallel-item\"><div class=\"sk-item\"><div class=\"sk-label-container\"><div class=\"sk-label sk-toggleable\"><input class=\"sk-toggleable__control sk-hidden--visually\" id=\"sk-estimator-id-3\" type=\"checkbox\" ><label for=\"sk-estimator-id-3\" class=\"sk-toggleable__label sk-toggleable__label-arrow\">estimator: LogisticRegression</label><div class=\"sk-toggleable__content\"><pre>LogisticRegression(solver=&#x27;liblinear&#x27;)</pre></div></div></div><div class=\"sk-serial\"><div class=\"sk-item\"><div class=\"sk-estimator sk-toggleable\"><input class=\"sk-toggleable__control sk-hidden--visually\" id=\"sk-estimator-id-4\" type=\"checkbox\" ><label for=\"sk-estimator-id-4\" class=\"sk-toggleable__label sk-toggleable__label-arrow\">LogisticRegression</label><div class=\"sk-toggleable__content\"><pre>LogisticRegression(solver=&#x27;liblinear&#x27;)</pre></div></div></div></div></div></div></div></div></div></div>"
      ],
      "text/plain": [
       "GridSearchCV(cv=5, estimator=LogisticRegression(solver='liblinear'),\n",
       "             param_grid={'C': [1e-05, 3.1622776601683795e-05, 0.0001,\n",
       "                               0.00031622776601683794, 0.001,\n",
       "                               0.0031622776601683794, 0.01, 0.03162277660168379,\n",
       "                               0.1, 0.31622776601683794, 1.0,\n",
       "                               3.1622776601683795]})"
      ]
     },
     "execution_count": 33,
     "metadata": {},
     "output_type": "execute_result"
    }
   ],
   "source": [
    "from sklearn.model_selection import GridSearchCV\n",
    "\n",
    "C_values = [10.0**x for x in np.arange(-5, 1, 0.5)]\n",
    "lr = LogisticRegression(penalty=\"l2\", solver='liblinear')\n",
    "\n",
    "\n",
    "searcher = GridSearchCV(estimator=lr, param_grid={'C': C_values}, cv=5)\n",
    "searcher.fit(X_train, y_train)"
   ]
  },
  {
   "cell_type": "code",
   "execution_count": 34,
   "id": "29030216",
   "metadata": {},
   "outputs": [
    {
     "data": {
      "text/plain": [
       "{'C': 1.0}"
      ]
     },
     "execution_count": 34,
     "metadata": {},
     "output_type": "execute_result"
    }
   ],
   "source": [
    "best_C = searcher.best_params_['C']\n",
    "searcher.best_params_"
   ]
  },
  {
   "cell_type": "code",
   "execution_count": 35,
   "id": "565e74b7",
   "metadata": {},
   "outputs": [],
   "source": [
    "lr = LogisticRegression(penalty=\"l2\", C=best_C, solver='liblinear')\n",
    "lr.fit(X_train, y_train)\n",
    "\n",
    "y_pred_train = lr.predict(X_train)\n",
    "y_pred_test = lr.predict(X_test)"
   ]
  },
  {
   "cell_type": "markdown",
   "id": "7bea3dc1",
   "metadata": {},
   "source": [
    "#### Results on training set- after tuning"
   ]
  },
  {
   "cell_type": "code",
   "execution_count": 36,
   "id": "ae05330b",
   "metadata": {},
   "outputs": [
    {
     "data": {
      "image/png": "[encoded data removed]",
      "text/plain": [
       "<Figure size 504x504 with 2 Axes>"
      ]
     },
     "metadata": {},
     "output_type": "display_data"
    }
   ],
   "source": [
    "print_confusion_matrix(y_train, y_pred_train, set_type='train')"
   ]
  },
  {
   "cell_type": "code",
   "execution_count": 37,
   "id": "e4028bd8",
   "metadata": {},
   "outputs": [
    {
     "name": "stdout",
     "output_type": "stream",
     "text": [
      "Results for Logistic Regression with train set, are....\n",
      "\n",
      "Accuracy : 0.7991573033707865\n",
      "Precision : 0.7777777777777778\n",
      "Recall : 0.7741078208048595\n",
      "F1 : 0.7810027123004223\n",
      "Mislabeled : 143\n",
      "Total : 712\n"
     ]
    }
   ],
   "source": [
    "print_metrics(calculate_metrics(y_train, y_pred_train),data_type='train', classifier_id='Logistic Regression')"
   ]
  },
  {
   "cell_type": "markdown",
   "id": "2db6d79c",
   "metadata": {},
   "source": [
    "#### Results on test set- after tuning"
   ]
  },
  {
   "cell_type": "code",
   "execution_count": 38,
   "id": "b93a8855",
   "metadata": {},
   "outputs": [
    {
     "data": {
      "image/png": "[encoded data removed]",
      "text/plain": [
       "<Figure size 504x504 with 2 Axes>"
      ]
     },
     "metadata": {},
     "output_type": "display_data"
    }
   ],
   "source": [
    "print_confusion_matrix(y_test, y_pred_test, set_type='test', cmap=\"YlGnBu\")"
   ]
  },
  {
   "cell_type": "code",
   "execution_count": 39,
   "id": "9380d144",
   "metadata": {},
   "outputs": [
    {
     "name": "stdout",
     "output_type": "stream",
     "text": [
      "Results for Logistic Regression with test set, are....\n",
      "\n",
      "Accuracy : 0.8268156424581006\n",
      "Precision : 0.7714285714285715\n",
      "Recall : 0.8185770750988142\n",
      "F1 : 0.8177129529253309\n",
      "Mislabeled : 31\n",
      "Total : 179\n"
     ]
    }
   ],
   "source": [
    "print_metrics(calculate_metrics(y_test, y_pred_test),data_type='test', classifier_id='Logistic Regression')"
   ]
  },
  {
   "cell_type": "code",
   "execution_count": 40,
   "id": "d5791014",
   "metadata": {},
   "outputs": [],
   "source": [
    "# print_results(calculate_metrics(y_train, y_pred_train, average='weighted'), classifier_id=\"LR C=0.001 TRAIN SET\")\n",
    "# print_results(calculate_metrics(y_test, y_pred, average='weighted'), classifier_id=\"LR C=0.001 TEST SET\")"
   ]
  },
  {
   "cell_type": "markdown",
   "id": "117142d0",
   "metadata": {},
   "source": [
    "### Support Vector Machine (SVM) model"
   ]
  },
  {
   "cell_type": "code",
   "execution_count": 41,
   "id": "5f8ef502",
   "metadata": {},
   "outputs": [
    {
     "data": {
      "text/html": [
       "<style>#sk-container-id-3 {color: black;background-color: white;}#sk-container-id-3 pre{padding: 0;}#sk-container-id-3 div.sk-toggleable {background-color: white;}#sk-container-id-3 label.sk-toggleable__label {cursor: pointer;display: block;width: 100%;margin-bottom: 0;padding: 0.3em;box-sizing: border-box;text-align: center;}#sk-container-id-3 label.sk-toggleable__label-arrow:before {content: \"▸\";float: left;margin-right: 0.25em;color: #696969;}#sk-container-id-3 label.sk-toggleable__label-arrow:hover:before {color: black;}#sk-container-id-3 div.sk-estimator:hover label.sk-toggleable__label-arrow:before {color: black;}#sk-container-id-3 div.sk-toggleable__content {max-height: 0;max-width: 0;overflow: hidden;text-align: left;background-color: #f0f8ff;}#sk-container-id-3 div.sk-toggleable__content pre {margin: 0.2em;color: black;border-radius: 0.25em;background-color: #f0f8ff;}#sk-container-id-3 input.sk-toggleable__control:checked~div.sk-toggleable__content {max-height: 200px;max-width: 100%;overflow: auto;}#sk-container-id-3 input.sk-toggleable__control:checked~label.sk-toggleable__label-arrow:before {content: \"▾\";}#sk-container-id-3 div.sk-estimator input.sk-toggleable__control:checked~label.sk-toggleable__label {background-color: #d4ebff;}#sk-container-id-3 div.sk-label input.sk-toggleable__control:checked~label.sk-toggleable__label {background-color: #d4ebff;}#sk-container-id-3 input.sk-hidden--visually {border: 0;clip: rect(1px 1px 1px 1px);clip: rect(1px, 1px, 1px, 1px);height: 1px;margin: -1px;overflow: hidden;padding: 0;position: absolute;width: 1px;}#sk-container-id-3 div.sk-estimator {font-family: monospace;background-color: #f0f8ff;border: 1px dotted black;border-radius: 0.25em;box-sizing: border-box;margin-bottom: 0.5em;}#sk-container-id-3 div.sk-estimator:hover {background-color: #d4ebff;}#sk-container-id-3 div.sk-parallel-item::after {content: \"\";width: 100%;border-bottom: 1px solid gray;flex-grow: 1;}#sk-container-id-3 div.sk-label:hover label.sk-toggleable__label {background-color: #d4ebff;}#sk-container-id-3 div.sk-serial::before {content: \"\";position: absolute;border-left: 1px solid gray;box-sizing: border-box;top: 0;bottom: 0;left: 50%;z-index: 0;}#sk-container-id-3 div.sk-serial {display: flex;flex-direction: column;align-items: center;background-color: white;padding-right: 0.2em;padding-left: 0.2em;position: relative;}#sk-container-id-3 div.sk-item {position: relative;z-index: 1;}#sk-container-id-3 div.sk-parallel {display: flex;align-items: stretch;justify-content: center;background-color: white;position: relative;}#sk-container-id-3 div.sk-item::before, #sk-container-id-3 div.sk-parallel-item::before {content: \"\";position: absolute;border-left: 1px solid gray;box-sizing: border-box;top: 0;bottom: 0;left: 50%;z-index: -1;}#sk-container-id-3 div.sk-parallel-item {display: flex;flex-direction: column;z-index: 1;position: relative;background-color: white;}#sk-container-id-3 div.sk-parallel-item:first-child::after {align-self: flex-end;width: 50%;}#sk-container-id-3 div.sk-parallel-item:last-child::after {align-self: flex-start;width: 50%;}#sk-container-id-3 div.sk-parallel-item:only-child::after {width: 0;}#sk-container-id-3 div.sk-dashed-wrapped {border: 1px dashed gray;margin: 0 0.4em 0.5em 0.4em;box-sizing: border-box;padding-bottom: 0.4em;background-color: white;}#sk-container-id-3 div.sk-label label {font-family: monospace;font-weight: bold;display: inline-block;line-height: 1.2em;}#sk-container-id-3 div.sk-label-container {text-align: center;}#sk-container-id-3 div.sk-container {/* jupyter's `normalize.less` sets `[hidden] { display: none; }` but bootstrap.min.css set `[hidden] { display: none !important; }` so we also need the `!important` here to be able to override the default hidden behavior on the sphinx rendered scikit-learn.org. See: https://github.com/scikit-learn/scikit-learn/issues/21755 */display: inline-block !important;position: relative;}#sk-container-id-3 div.sk-text-repr-fallback {display: none;}</style><div id=\"sk-container-id-3\" class=\"sk-top-container\"><div class=\"sk-text-repr-fallback\"><pre>SVC()</pre><b>In a Jupyter environment, please rerun this cell to show the HTML representation or trust the notebook. <br />On GitHub, the HTML representation is unable to render, please try loading this page with nbviewer.org.</b></div><div class=\"sk-container\" hidden><div class=\"sk-item\"><div class=\"sk-estimator sk-toggleable\"><input class=\"sk-toggleable__control sk-hidden--visually\" id=\"sk-estimator-id-5\" type=\"checkbox\" checked><label for=\"sk-estimator-id-5\" class=\"sk-toggleable__label sk-toggleable__label-arrow\">SVC</label><div class=\"sk-toggleable__content\"><pre>SVC()</pre></div></div></div></div></div>"
      ],
      "text/plain": [
       "SVC()"
      ]
     },
     "execution_count": 41,
     "metadata": {},
     "output_type": "execute_result"
    }
   ],
   "source": [
    "from sklearn import svm\n",
    "\n",
    "svm_model = svm.SVC()\n",
    "\n",
    "svm_model.fit(X_train, y_train)"
   ]
  },
  {
   "cell_type": "code",
   "execution_count": 42,
   "id": "bdd2116d",
   "metadata": {},
   "outputs": [],
   "source": [
    "svm_y_train_pred = svm_model.predict(X_train)\n",
    "svm_y_test_pred = svm_model.predict(X_test)"
   ]
  },
  {
   "cell_type": "markdown",
   "id": "18c8c787",
   "metadata": {},
   "source": [
    "#### Results on train set"
   ]
  },
  {
   "cell_type": "code",
   "execution_count": 43,
   "id": "2a573a10",
   "metadata": {},
   "outputs": [
    {
     "data": {
      "image/png": "[encoded data removed]",
      "text/plain": [
       "<Figure size 504x504 with 2 Axes>"
      ]
     },
     "metadata": {},
     "output_type": "display_data"
    }
   ],
   "source": [
    "print_confusion_matrix(y_train, svm_y_train_pred, set_type='train') # , cmap=\"YlGnBu\""
   ]
  },
  {
   "cell_type": "code",
   "execution_count": 44,
   "id": "dec4d54e",
   "metadata": {},
   "outputs": [
    {
     "name": "stdout",
     "output_type": "stream",
     "text": [
      "Results for Support Vector Machine with train set, are....\n",
      "\n",
      "Accuracy : 0.6685393258426966\n",
      "Precision : 0.8245614035087719\n",
      "Recall : 0.574691064440495\n",
      "F1 : 0.5345631820951748\n",
      "Mislabeled : 236\n",
      "Total : 712\n"
     ]
    }
   ],
   "source": [
    "print_metrics(calculate_metrics(y_train, svm_y_train_pred),data_type='train', classifier_id='Support Vector Machine')"
   ]
  },
  {
   "cell_type": "markdown",
   "id": "1779d2e3",
   "metadata": {},
   "source": [
    "#### Results on test set"
   ]
  },
  {
   "cell_type": "code",
   "execution_count": 45,
   "id": "d12be1be",
   "metadata": {},
   "outputs": [
    {
     "data": {
      "image/png": "[encoded data removed]",
      "text/plain": [
       "<Figure size 504x504 with 2 Axes>"
      ]
     },
     "metadata": {},
     "output_type": "display_data"
    }
   ],
   "source": [
    "print_confusion_matrix(y_test, svm_y_test_pred, set_type='test', cmap=\"YlGnBu\")"
   ]
  },
  {
   "cell_type": "code",
   "execution_count": 46,
   "id": "ca227e34",
   "metadata": {},
   "outputs": [
    {
     "name": "stdout",
     "output_type": "stream",
     "text": [
      "Results for Support Vector Machine with test set, are....\n",
      "\n",
      "Accuracy : 0.6536312849162011\n",
      "Precision : 0.7333333333333333\n",
      "Recall : 0.5615283267457181\n",
      "F1 : 0.5178136948209942\n",
      "Mislabeled : 62\n",
      "Total : 179\n"
     ]
    }
   ],
   "source": [
    "print_metrics(calculate_metrics(y_test, svm_y_test_pred),data_type='test', classifier_id='Support Vector Machine')"
   ]
  },
  {
   "cell_type": "markdown",
   "id": "c21b54da",
   "metadata": {},
   "source": [
    "#### Tuning hyperparameters of the model"
   ]
  },
  {
   "cell_type": "code",
   "execution_count": 47,
   "id": "f0c417c1",
   "metadata": {},
   "outputs": [],
   "source": [
    "# parameters = {'kernel':('linear', 'rbf', 'sigmoid'), 'C':[0.1, 1, 10, 100], 'gamma': [1, 0.1, 0.01, 0.001]} # 'poly',\n",
    "# svc_model = svm.SVC()\n",
    "# grid = GridSearchCV(svc_model, parameters, refit=True, verbose=3)\n",
    "# grid.fit(X_train,y_train)"
   ]
  },
  {
   "cell_type": "code",
   "execution_count": 48,
   "id": "9fdc2d5b",
   "metadata": {},
   "outputs": [],
   "source": [
    "# best_params = grid.best_params_\n",
    "# best_params"
   ]
  },
  {
   "cell_type": "code",
   "execution_count": 49,
   "id": "6b057dcb",
   "metadata": {},
   "outputs": [
    {
     "data": {
      "text/html": [
       "<style>#sk-container-id-4 {color: black;background-color: white;}#sk-container-id-4 pre{padding: 0;}#sk-container-id-4 div.sk-toggleable {background-color: white;}#sk-container-id-4 label.sk-toggleable__label {cursor: pointer;display: block;width: 100%;margin-bottom: 0;padding: 0.3em;box-sizing: border-box;text-align: center;}#sk-container-id-4 label.sk-toggleable__label-arrow:before {content: \"▸\";float: left;margin-right: 0.25em;color: #696969;}#sk-container-id-4 label.sk-toggleable__label-arrow:hover:before {color: black;}#sk-container-id-4 div.sk-estimator:hover label.sk-toggleable__label-arrow:before {color: black;}#sk-container-id-4 div.sk-toggleable__content {max-height: 0;max-width: 0;overflow: hidden;text-align: left;background-color: #f0f8ff;}#sk-container-id-4 div.sk-toggleable__content pre {margin: 0.2em;color: black;border-radius: 0.25em;background-color: #f0f8ff;}#sk-container-id-4 input.sk-toggleable__control:checked~div.sk-toggleable__content {max-height: 200px;max-width: 100%;overflow: auto;}#sk-container-id-4 input.sk-toggleable__control:checked~label.sk-toggleable__label-arrow:before {content: \"▾\";}#sk-container-id-4 div.sk-estimator input.sk-toggleable__control:checked~label.sk-toggleable__label {background-color: #d4ebff;}#sk-container-id-4 div.sk-label input.sk-toggleable__control:checked~label.sk-toggleable__label {background-color: #d4ebff;}#sk-container-id-4 input.sk-hidden--visually {border: 0;clip: rect(1px 1px 1px 1px);clip: rect(1px, 1px, 1px, 1px);height: 1px;margin: -1px;overflow: hidden;padding: 0;position: absolute;width: 1px;}#sk-container-id-4 div.sk-estimator {font-family: monospace;background-color: #f0f8ff;border: 1px dotted black;border-radius: 0.25em;box-sizing: border-box;margin-bottom: 0.5em;}#sk-container-id-4 div.sk-estimator:hover {background-color: #d4ebff;}#sk-container-id-4 div.sk-parallel-item::after {content: \"\";width: 100%;border-bottom: 1px solid gray;flex-grow: 1;}#sk-container-id-4 div.sk-label:hover label.sk-toggleable__label {background-color: #d4ebff;}#sk-container-id-4 div.sk-serial::before {content: \"\";position: absolute;border-left: 1px solid gray;box-sizing: border-box;top: 0;bottom: 0;left: 50%;z-index: 0;}#sk-container-id-4 div.sk-serial {display: flex;flex-direction: column;align-items: center;background-color: white;padding-right: 0.2em;padding-left: 0.2em;position: relative;}#sk-container-id-4 div.sk-item {position: relative;z-index: 1;}#sk-container-id-4 div.sk-parallel {display: flex;align-items: stretch;justify-content: center;background-color: white;position: relative;}#sk-container-id-4 div.sk-item::before, #sk-container-id-4 div.sk-parallel-item::before {content: \"\";position: absolute;border-left: 1px solid gray;box-sizing: border-box;top: 0;bottom: 0;left: 50%;z-index: -1;}#sk-container-id-4 div.sk-parallel-item {display: flex;flex-direction: column;z-index: 1;position: relative;background-color: white;}#sk-container-id-4 div.sk-parallel-item:first-child::after {align-self: flex-end;width: 50%;}#sk-container-id-4 div.sk-parallel-item:last-child::after {align-self: flex-start;width: 50%;}#sk-container-id-4 div.sk-parallel-item:only-child::after {width: 0;}#sk-container-id-4 div.sk-dashed-wrapped {border: 1px dashed gray;margin: 0 0.4em 0.5em 0.4em;box-sizing: border-box;padding-bottom: 0.4em;background-color: white;}#sk-container-id-4 div.sk-label label {font-family: monospace;font-weight: bold;display: inline-block;line-height: 1.2em;}#sk-container-id-4 div.sk-label-container {text-align: center;}#sk-container-id-4 div.sk-container {/* jupyter's `normalize.less` sets `[hidden] { display: none; }` but bootstrap.min.css set `[hidden] { display: none !important; }` so we also need the `!important` here to be able to override the default hidden behavior on the sphinx rendered scikit-learn.org. See: https://github.com/scikit-learn/scikit-learn/issues/21755 */display: inline-block !important;position: relative;}#sk-container-id-4 div.sk-text-repr-fallback {display: none;}</style><div id=\"sk-container-id-4\" class=\"sk-top-container\"><div class=\"sk-text-repr-fallback\"><pre>SVC(C=1, gamma=1, kernel=&#x27;linear&#x27;)</pre><b>In a Jupyter environment, please rerun this cell to show the HTML representation or trust the notebook. <br />On GitHub, the HTML representation is unable to render, please try loading this page with nbviewer.org.</b></div><div class=\"sk-container\" hidden><div class=\"sk-item\"><div class=\"sk-estimator sk-toggleable\"><input class=\"sk-toggleable__control sk-hidden--visually\" id=\"sk-estimator-id-6\" type=\"checkbox\" checked><label for=\"sk-estimator-id-6\" class=\"sk-toggleable__label sk-toggleable__label-arrow\">SVC</label><div class=\"sk-toggleable__content\"><pre>SVC(C=1, gamma=1, kernel=&#x27;linear&#x27;)</pre></div></div></div></div></div>"
      ],
      "text/plain": [
       "SVC(C=1, gamma=1, kernel='linear')"
      ]
     },
     "execution_count": 49,
     "metadata": {},
     "output_type": "execute_result"
    }
   ],
   "source": [
    "best_params = {'C': 1, 'gamma': 1, 'kernel': 'linear'}\n",
    "\n",
    "svm_model_tuned = svm.SVC(C= best_params['C'], \n",
    "                           gamma=best_params['gamma'],\n",
    "                          kernel=best_params['kernel'])\n",
    "\n",
    "svm_model_tuned.fit(X_train, y_train)"
   ]
  },
  {
   "cell_type": "code",
   "execution_count": 50,
   "id": "02f0cf2e",
   "metadata": {},
   "outputs": [],
   "source": [
    "svm_pred_train_tuned = svm_model_tuned.predict(X_train)\n",
    "svm_pred_test_tuned = svm_model_tuned.predict(X_test)"
   ]
  },
  {
   "cell_type": "markdown",
   "id": "2ee57190",
   "metadata": {},
   "source": [
    "#### Results on train set"
   ]
  },
  {
   "cell_type": "code",
   "execution_count": 51,
   "id": "4b8a4ca5",
   "metadata": {},
   "outputs": [
    {
     "data": {
      "image/png": "[encoded data removed]",
      "text/plain": [
       "<Figure size 504x504 with 2 Axes>"
      ]
     },
     "metadata": {},
     "output_type": "display_data"
    }
   ],
   "source": [
    "print_confusion_matrix(y_train, svm_pred_train_tuned, set_type='train') # , cmap=\"YlGnBu\""
   ]
  },
  {
   "cell_type": "code",
   "execution_count": 52,
   "id": "d2919199",
   "metadata": {},
   "outputs": [
    {
     "name": "stdout",
     "output_type": "stream",
     "text": [
      "Results for Support Vector Machine- tuned with train set, are....\n",
      "\n",
      "Accuracy : 0.7851123595505618\n",
      "Precision : 0.75\n",
      "Recall : 0.761333199829783\n",
      "F1 : 0.7669035376586362\n",
      "Mislabeled : 153\n",
      "Total : 712\n"
     ]
    }
   ],
   "source": [
    "print_metrics(calculate_metrics(y_train, svm_pred_train_tuned),\n",
    "              data_type='train', \n",
    "              classifier_id='Support Vector Machine- tuned')"
   ]
  },
  {
   "cell_type": "markdown",
   "id": "8d94d448",
   "metadata": {},
   "source": [
    "#### Results on test set"
   ]
  },
  {
   "cell_type": "code",
   "execution_count": 53,
   "id": "85c15167",
   "metadata": {},
   "outputs": [
    {
     "data": {
      "image/png": "[encoded data removed]",
      "text/plain": [
       "<Figure size 504x504 with 2 Axes>"
      ]
     },
     "metadata": {},
     "output_type": "display_data"
    }
   ],
   "source": [
    "print_confusion_matrix(y_test, svm_pred_test_tuned, set_type='test', cmap=\"YlGnBu\") "
   ]
  },
  {
   "cell_type": "code",
   "execution_count": 54,
   "id": "e7c80fce",
   "metadata": {},
   "outputs": [
    {
     "name": "stdout",
     "output_type": "stream",
     "text": [
      "Results for Support Vector Machine- tuned with test set, are....\n",
      "\n",
      "Accuracy : 0.8212290502793296\n",
      "Precision : 0.7605633802816901\n",
      "Recall : 0.8140316205533598\n",
      "F1 : 0.8123197903014416\n",
      "Mislabeled : 32\n",
      "Total : 179\n"
     ]
    }
   ],
   "source": [
    "print_metrics(calculate_metrics(y_test, svm_pred_test_tuned),\n",
    "              data_type='test', \n",
    "              classifier_id='Support Vector Machine- tuned')"
   ]
  },
  {
   "cell_type": "markdown",
   "id": "877255ae",
   "metadata": {},
   "source": [
    "#### Polynomial kernel"
   ]
  },
  {
   "cell_type": "code",
   "execution_count": 55,
   "id": "68103d79",
   "metadata": {},
   "outputs": [],
   "source": [
    "from sklearn import preprocessing\n",
    "\n",
    "x_train_scaled = preprocessing.scale(X_train)"
   ]
  },
  {
   "cell_type": "code",
   "execution_count": 56,
   "id": "2e9c00e7",
   "metadata": {},
   "outputs": [],
   "source": [
    "# parameters = {'kernel':['poly'], 'C':[0.1, 1, 10, 100], 'gamma': [1, 0.1, 0.01, 0.001]} # 'poly',\n",
    "# svc_model_poly = svm.SVC()\n",
    "# grid_poly = GridSearchCV(svc_model_poly, parameters, refit=True, verbose=3)\n",
    "# grid_poly.fit(x_train_scaled,y_train)"
   ]
  },
  {
   "cell_type": "code",
   "execution_count": 57,
   "id": "971962d6",
   "metadata": {},
   "outputs": [],
   "source": [
    "# best_params_poly = grid_poly.best_params_\n",
    "# best_params_poly"
   ]
  },
  {
   "cell_type": "code",
   "execution_count": 58,
   "id": "c2cada47",
   "metadata": {},
   "outputs": [
    {
     "data": {
      "text/html": [
       "<style>#sk-container-id-5 {color: black;background-color: white;}#sk-container-id-5 pre{padding: 0;}#sk-container-id-5 div.sk-toggleable {background-color: white;}#sk-container-id-5 label.sk-toggleable__label {cursor: pointer;display: block;width: 100%;margin-bottom: 0;padding: 0.3em;box-sizing: border-box;text-align: center;}#sk-container-id-5 label.sk-toggleable__label-arrow:before {content: \"▸\";float: left;margin-right: 0.25em;color: #696969;}#sk-container-id-5 label.sk-toggleable__label-arrow:hover:before {color: black;}#sk-container-id-5 div.sk-estimator:hover label.sk-toggleable__label-arrow:before {color: black;}#sk-container-id-5 div.sk-toggleable__content {max-height: 0;max-width: 0;overflow: hidden;text-align: left;background-color: #f0f8ff;}#sk-container-id-5 div.sk-toggleable__content pre {margin: 0.2em;color: black;border-radius: 0.25em;background-color: #f0f8ff;}#sk-container-id-5 input.sk-toggleable__control:checked~div.sk-toggleable__content {max-height: 200px;max-width: 100%;overflow: auto;}#sk-container-id-5 input.sk-toggleable__control:checked~label.sk-toggleable__label-arrow:before {content: \"▾\";}#sk-container-id-5 div.sk-estimator input.sk-toggleable__control:checked~label.sk-toggleable__label {background-color: #d4ebff;}#sk-container-id-5 div.sk-label input.sk-toggleable__control:checked~label.sk-toggleable__label {background-color: #d4ebff;}#sk-container-id-5 input.sk-hidden--visually {border: 0;clip: rect(1px 1px 1px 1px);clip: rect(1px, 1px, 1px, 1px);height: 1px;margin: -1px;overflow: hidden;padding: 0;position: absolute;width: 1px;}#sk-container-id-5 div.sk-estimator {font-family: monospace;background-color: #f0f8ff;border: 1px dotted black;border-radius: 0.25em;box-sizing: border-box;margin-bottom: 0.5em;}#sk-container-id-5 div.sk-estimator:hover {background-color: #d4ebff;}#sk-container-id-5 div.sk-parallel-item::after {content: \"\";width: 100%;border-bottom: 1px solid gray;flex-grow: 1;}#sk-container-id-5 div.sk-label:hover label.sk-toggleable__label {background-color: #d4ebff;}#sk-container-id-5 div.sk-serial::before {content: \"\";position: absolute;border-left: 1px solid gray;box-sizing: border-box;top: 0;bottom: 0;left: 50%;z-index: 0;}#sk-container-id-5 div.sk-serial {display: flex;flex-direction: column;align-items: center;background-color: white;padding-right: 0.2em;padding-left: 0.2em;position: relative;}#sk-container-id-5 div.sk-item {position: relative;z-index: 1;}#sk-container-id-5 div.sk-parallel {display: flex;align-items: stretch;justify-content: center;background-color: white;position: relative;}#sk-container-id-5 div.sk-item::before, #sk-container-id-5 div.sk-parallel-item::before {content: \"\";position: absolute;border-left: 1px solid gray;box-sizing: border-box;top: 0;bottom: 0;left: 50%;z-index: -1;}#sk-container-id-5 div.sk-parallel-item {display: flex;flex-direction: column;z-index: 1;position: relative;background-color: white;}#sk-container-id-5 div.sk-parallel-item:first-child::after {align-self: flex-end;width: 50%;}#sk-container-id-5 div.sk-parallel-item:last-child::after {align-self: flex-start;width: 50%;}#sk-container-id-5 div.sk-parallel-item:only-child::after {width: 0;}#sk-container-id-5 div.sk-dashed-wrapped {border: 1px dashed gray;margin: 0 0.4em 0.5em 0.4em;box-sizing: border-box;padding-bottom: 0.4em;background-color: white;}#sk-container-id-5 div.sk-label label {font-family: monospace;font-weight: bold;display: inline-block;line-height: 1.2em;}#sk-container-id-5 div.sk-label-container {text-align: center;}#sk-container-id-5 div.sk-container {/* jupyter's `normalize.less` sets `[hidden] { display: none; }` but bootstrap.min.css set `[hidden] { display: none !important; }` so we also need the `!important` here to be able to override the default hidden behavior on the sphinx rendered scikit-learn.org. See: https://github.com/scikit-learn/scikit-learn/issues/21755 */display: inline-block !important;position: relative;}#sk-container-id-5 div.sk-text-repr-fallback {display: none;}</style><div id=\"sk-container-id-5\" class=\"sk-top-container\"><div class=\"sk-text-repr-fallback\"><pre>SVC(C=0.1, gamma=1, kernel=&#x27;poly&#x27;)</pre><b>In a Jupyter environment, please rerun this cell to show the HTML representation or trust the notebook. <br />On GitHub, the HTML representation is unable to render, please try loading this page with nbviewer.org.</b></div><div class=\"sk-container\" hidden><div class=\"sk-item\"><div class=\"sk-estimator sk-toggleable\"><input class=\"sk-toggleable__control sk-hidden--visually\" id=\"sk-estimator-id-7\" type=\"checkbox\" checked><label for=\"sk-estimator-id-7\" class=\"sk-toggleable__label sk-toggleable__label-arrow\">SVC</label><div class=\"sk-toggleable__content\"><pre>SVC(C=0.1, gamma=1, kernel=&#x27;poly&#x27;)</pre></div></div></div></div></div>"
      ],
      "text/plain": [
       "SVC(C=0.1, gamma=1, kernel='poly')"
      ]
     },
     "execution_count": 58,
     "metadata": {},
     "output_type": "execute_result"
    }
   ],
   "source": [
    "best_params_poly = {'C': 0.1, 'gamma': 1, 'kernel': 'poly'}\n",
    "\n",
    "svm_model_poly = svm.SVC(C= best_params_poly['C'], \n",
    "                           gamma=best_params_poly['gamma'],\n",
    "                          kernel=best_params_poly['kernel'])\n",
    "\n",
    "svm_model_poly.fit(x_train_scaled, y_train)"
   ]
  },
  {
   "cell_type": "code",
   "execution_count": 59,
   "id": "e5fc66d5",
   "metadata": {},
   "outputs": [],
   "source": [
    "x_test_scaled = preprocessing.scale(X_test)"
   ]
  },
  {
   "cell_type": "code",
   "execution_count": 60,
   "id": "cea03fd0",
   "metadata": {},
   "outputs": [],
   "source": [
    "svm_pred_train_poly = svm_model_poly.predict(x_train_scaled)\n",
    "svm_pred_test_poly = svm_model_poly.predict(x_test_scaled)"
   ]
  },
  {
   "cell_type": "markdown",
   "id": "e5aca6e1",
   "metadata": {},
   "source": [
    "#### Results on train set"
   ]
  },
  {
   "cell_type": "code",
   "execution_count": 61,
   "id": "9ae2c7f4",
   "metadata": {},
   "outputs": [
    {
     "data": {
      "image/png": "[encoded data removed]",
      "text/plain": [
       "<Figure size 504x504 with 2 Axes>"
      ]
     },
     "metadata": {},
     "output_type": "display_data"
    }
   ],
   "source": [
    "print_confusion_matrix(y_train, svm_pred_train_poly, set_type='train') # , cmap=\"YlGnBu\""
   ]
  },
  {
   "cell_type": "code",
   "execution_count": 62,
   "id": "414ade5e",
   "metadata": {},
   "outputs": [
    {
     "name": "stdout",
     "output_type": "stream",
     "text": [
      "Results for Support Vector Machine- tuned (poly) with train set, are....\n",
      "\n",
      "Accuracy : 0.8595505617977528\n",
      "Precision : 0.8844444444444445\n",
      "Recall : 0.8348561082046275\n",
      "F1 : 0.8456027132287248\n",
      "Mislabeled : 100\n",
      "Total : 712\n"
     ]
    }
   ],
   "source": [
    "print_metrics(calculate_metrics(y_train, svm_pred_train_poly),\n",
    "              data_type='train', \n",
    "              classifier_id='Support Vector Machine- tuned (poly)')"
   ]
  },
  {
   "cell_type": "markdown",
   "id": "3693d460",
   "metadata": {},
   "source": [
    "#### Results on test set"
   ]
  },
  {
   "cell_type": "code",
   "execution_count": 63,
   "id": "0123332b",
   "metadata": {},
   "outputs": [
    {
     "data": {
      "image/png": "[encoded data removed]",
      "text/plain": [
       "<Figure size 504x504 with 2 Axes>"
      ]
     },
     "metadata": {},
     "output_type": "display_data"
    }
   ],
   "source": [
    "print_confusion_matrix(y_test, svm_pred_test_poly, set_type='train', cmap=\"YlGnBu\")"
   ]
  },
  {
   "cell_type": "code",
   "execution_count": 64,
   "id": "88868e72",
   "metadata": {},
   "outputs": [
    {
     "name": "stdout",
     "output_type": "stream",
     "text": [
      "Results for Support Vector Machine- tuned (poly) with test set, are....\n",
      "\n",
      "Accuracy : 0.8324022346368715\n",
      "Precision : 0.8305084745762712\n",
      "Recall : 0.8096179183135706\n",
      "F1 : 0.8175951086956522\n",
      "Mislabeled : 30\n",
      "Total : 179\n"
     ]
    }
   ],
   "source": [
    "print_metrics(calculate_metrics(y_test, svm_pred_test_poly),\n",
    "              data_type='test', \n",
    "              classifier_id='Support Vector Machine- tuned (poly)')"
   ]
  },
  {
   "cell_type": "markdown",
   "id": "77942837",
   "metadata": {},
   "source": [
    "### Neural Network"
   ]
  },
  {
   "cell_type": "code",
   "execution_count": 104,
   "id": "0739a289",
   "metadata": {},
   "outputs": [
    {
     "data": {
      "text/plain": [
       "((712, 8), (712,))"
      ]
     },
     "execution_count": 104,
     "metadata": {},
     "output_type": "execute_result"
    }
   ],
   "source": [
    "from tensorflow.keras import models\n",
    "from tensorflow.keras.layers import Dense, Input #, Dropout\n",
    "\n",
    "network = models.Sequential()\n",
    "\n",
    "network.add(Dense(8, activation='relu')) # input_shape ? , input_shape=(8,)\n",
    "network.add(Dense(256, activation='relu'))\n",
    "network.add(Dense(256, activation='relu'))\n",
    "network.add(Dense(256, activation='relu'))\n",
    "network.add(Dense(2, activation='sigmoid'))\n",
    "\n",
    "X_train.shape, y_train.shape"
   ]
  },
  {
   "cell_type": "code",
   "execution_count": 105,
   "id": "7ebad7fd",
   "metadata": {},
   "outputs": [],
   "source": [
    "network.compile(\n",
    "    optimizer='adam',  # \"rmsprop\"\n",
    "    loss='sparse_categorical_crossentropy', #loss='categorical_crossentropy', binary_crossentropy\n",
    "    metrics=['accuracy']\n",
    ")"
   ]
  },
  {
   "cell_type": "code",
   "execution_count": 106,
   "id": "5ff963ee",
   "metadata": {},
   "outputs": [
    {
     "name": "stdout",
     "output_type": "stream",
     "text": [
      "Epoch 1/600\n",
      "23/23 [==============================] - 0s 3ms/step - loss: 4.1355 - accuracy: 0.5674\n",
      "Epoch 2/600\n",
      "23/23 [==============================] - 0s 4ms/step - loss: 0.7410 - accuracy: 0.5941\n",
      "Epoch 3/600\n",
      "23/23 [==============================] - 0s 3ms/step - loss: 0.7346 - accuracy: 0.5983\n",
      "Epoch 4/600\n",
      "23/23 [==============================] - 0s 3ms/step - loss: 0.9391 - accuracy: 0.5787\n",
      "Epoch 5/600\n",
      "23/23 [==============================] - 0s 3ms/step - loss: 0.8439 - accuracy: 0.6110\n",
      "Epoch 6/600\n",
      "23/23 [==============================] - 0s 4ms/step - loss: 0.7534 - accuracy: 0.6306\n",
      "Epoch 7/600\n",
      "23/23 [==============================] - 0s 3ms/step - loss: 0.6305 - accuracy: 0.6545\n",
      "Epoch 8/600\n",
      "23/23 [==============================] - 0s 3ms/step - loss: 0.6376 - accuracy: 0.6545\n",
      "Epoch 9/600\n",
      "23/23 [==============================] - 0s 3ms/step - loss: 0.7121 - accuracy: 0.6222\n",
      "Epoch 10/600\n",
      "23/23 [==============================] - 0s 3ms/step - loss: 0.7530 - accuracy: 0.5969\n",
      "Epoch 11/600\n",
      "23/23 [==============================] - 0s 4ms/step - loss: 0.6488 - accuracy: 0.6503\n",
      "Epoch 12/600\n",
      "23/23 [==============================] - 0s 3ms/step - loss: 0.6465 - accuracy: 0.6447\n",
      "Epoch 13/600\n",
      "23/23 [==============================] - 0s 3ms/step - loss: 0.7072 - accuracy: 0.6236\n",
      "Epoch 14/600\n",
      "23/23 [==============================] - 0s 3ms/step - loss: 0.6268 - accuracy: 0.6728\n",
      "Epoch 15/600\n",
      "23/23 [==============================] - 0s 3ms/step - loss: 0.6687 - accuracy: 0.6334\n",
      "Epoch 16/600\n",
      "23/23 [==============================] - 0s 4ms/step - loss: 0.6468 - accuracy: 0.6573\n",
      "Epoch 17/600\n",
      "23/23 [==============================] - 0s 3ms/step - loss: 0.6309 - accuracy: 0.6671\n",
      "Epoch 18/600\n",
      "23/23 [==============================] - 0s 4ms/step - loss: 0.6051 - accuracy: 0.6924\n",
      "Epoch 19/600\n",
      "23/23 [==============================] - 0s 3ms/step - loss: 0.6151 - accuracy: 0.6713\n",
      "Epoch 20/600\n",
      "23/23 [==============================] - 0s 3ms/step - loss: 0.6111 - accuracy: 0.6840\n",
      "Epoch 21/600\n",
      "23/23 [==============================] - 0s 3ms/step - loss: 0.6057 - accuracy: 0.6798\n",
      "Epoch 22/600\n",
      "23/23 [==============================] - 0s 4ms/step - loss: 0.5956 - accuracy: 0.6952\n",
      "Epoch 23/600\n",
      "23/23 [==============================] - 0s 3ms/step - loss: 0.6109 - accuracy: 0.6938\n",
      "Epoch 24/600\n",
      "23/23 [==============================] - 0s 4ms/step - loss: 0.6018 - accuracy: 0.6966\n",
      "Epoch 25/600\n",
      "23/23 [==============================] - 0s 3ms/step - loss: 0.5968 - accuracy: 0.6826\n",
      "Epoch 26/600\n",
      "23/23 [==============================] - 0s 3ms/step - loss: 0.5976 - accuracy: 0.6882\n",
      "Epoch 27/600\n",
      "23/23 [==============================] - 0s 3ms/step - loss: 0.6177 - accuracy: 0.6868\n",
      "Epoch 28/600\n",
      "23/23 [==============================] - 0s 3ms/step - loss: 0.6147 - accuracy: 0.6629\n",
      "Epoch 29/600\n",
      "23/23 [==============================] - 0s 3ms/step - loss: 0.6321 - accuracy: 0.6784\n",
      "Epoch 30/600\n",
      "23/23 [==============================] - 0s 3ms/step - loss: 0.6060 - accuracy: 0.6770\n",
      "Epoch 31/600\n",
      "23/23 [==============================] - 0s 4ms/step - loss: 0.5938 - accuracy: 0.6854\n",
      "Epoch 32/600\n",
      "23/23 [==============================] - 0s 4ms/step - loss: 0.6048 - accuracy: 0.7121\n",
      "Epoch 33/600\n",
      "23/23 [==============================] - 0s 3ms/step - loss: 0.6043 - accuracy: 0.6742\n",
      "Epoch 34/600\n",
      "23/23 [==============================] - 0s 3ms/step - loss: 0.6167 - accuracy: 0.6784\n",
      "Epoch 35/600\n",
      "23/23 [==============================] - 0s 3ms/step - loss: 0.5987 - accuracy: 0.6896\n",
      "Epoch 36/600\n",
      "23/23 [==============================] - 0s 4ms/step - loss: 0.6025 - accuracy: 0.6770\n",
      "Epoch 37/600\n",
      "23/23 [==============================] - 0s 3ms/step - loss: 0.6084 - accuracy: 0.6756\n",
      "Epoch 38/600\n",
      "23/23 [==============================] - 0s 4ms/step - loss: 0.6011 - accuracy: 0.6854\n",
      "Epoch 39/600\n",
      "23/23 [==============================] - 0s 4ms/step - loss: 0.5955 - accuracy: 0.6868\n",
      "Epoch 40/600\n",
      "23/23 [==============================] - 0s 3ms/step - loss: 0.6165 - accuracy: 0.6896\n",
      "Epoch 41/600\n",
      "23/23 [==============================] - 0s 3ms/step - loss: 0.5997 - accuracy: 0.6882\n",
      "Epoch 42/600\n",
      "23/23 [==============================] - 0s 3ms/step - loss: 0.5992 - accuracy: 0.6868\n",
      "Epoch 43/600\n",
      "23/23 [==============================] - 0s 3ms/step - loss: 0.6134 - accuracy: 0.6770\n",
      "Epoch 44/600\n",
      "23/23 [==============================] - 0s 3ms/step - loss: 0.6044 - accuracy: 0.6699\n",
      "Epoch 45/600\n",
      "23/23 [==============================] - 0s 3ms/step - loss: 0.5913 - accuracy: 0.6924\n",
      "Epoch 46/600\n",
      "23/23 [==============================] - 0s 3ms/step - loss: 0.6013 - accuracy: 0.6798\n",
      "Epoch 47/600\n",
      "23/23 [==============================] - 0s 4ms/step - loss: 0.6039 - accuracy: 0.6854\n",
      "Epoch 48/600\n",
      "23/23 [==============================] - 0s 4ms/step - loss: 0.6016 - accuracy: 0.6896\n",
      "Epoch 49/600\n",
      "23/23 [==============================] - 0s 4ms/step - loss: 0.6015 - accuracy: 0.6840\n",
      "Epoch 50/600\n",
      "23/23 [==============================] - 0s 3ms/step - loss: 0.6021 - accuracy: 0.6980\n",
      "Epoch 51/600\n",
      "23/23 [==============================] - 0s 4ms/step - loss: 0.5937 - accuracy: 0.7037\n",
      "Epoch 52/600\n",
      "23/23 [==============================] - 0s 3ms/step - loss: 0.5819 - accuracy: 0.6952\n",
      "Epoch 53/600\n",
      "23/23 [==============================] - 0s 3ms/step - loss: 0.5760 - accuracy: 0.6896\n",
      "Epoch 54/600\n",
      "23/23 [==============================] - 0s 3ms/step - loss: 0.5988 - accuracy: 0.6882\n",
      "Epoch 55/600\n",
      "23/23 [==============================] - 0s 3ms/step - loss: 0.5925 - accuracy: 0.6952\n",
      "Epoch 56/600\n",
      "23/23 [==============================] - 0s 3ms/step - loss: 0.5985 - accuracy: 0.6826\n",
      "Epoch 57/600\n",
      "23/23 [==============================] - 0s 3ms/step - loss: 0.5820 - accuracy: 0.6924\n",
      "Epoch 58/600\n",
      "23/23 [==============================] - 0s 3ms/step - loss: 0.5769 - accuracy: 0.6994\n",
      "Epoch 59/600\n",
      "23/23 [==============================] - 0s 3ms/step - loss: 0.5918 - accuracy: 0.6952\n",
      "Epoch 60/600\n",
      "23/23 [==============================] - 0s 3ms/step - loss: 0.5790 - accuracy: 0.6994\n",
      "Epoch 61/600\n",
      "23/23 [==============================] - 0s 3ms/step - loss: 0.6292 - accuracy: 0.6756\n",
      "Epoch 62/600\n",
      "23/23 [==============================] - 0s 3ms/step - loss: 0.5891 - accuracy: 0.6910\n",
      "Epoch 63/600\n",
      "23/23 [==============================] - 0s 4ms/step - loss: 0.5836 - accuracy: 0.6952\n",
      "Epoch 64/600\n",
      "23/23 [==============================] - 0s 3ms/step - loss: 0.5755 - accuracy: 0.7051\n",
      "Epoch 65/600\n",
      "23/23 [==============================] - 0s 4ms/step - loss: 0.5986 - accuracy: 0.7065\n",
      "Epoch 66/600\n",
      "23/23 [==============================] - 0s 3ms/step - loss: 0.6160 - accuracy: 0.6868\n",
      "Epoch 67/600\n",
      "23/23 [==============================] - 0s 3ms/step - loss: 0.5875 - accuracy: 0.6798\n",
      "Epoch 68/600\n",
      "23/23 [==============================] - 0s 3ms/step - loss: 0.5816 - accuracy: 0.6882\n",
      "Epoch 69/600\n",
      "23/23 [==============================] - 0s 3ms/step - loss: 0.5896 - accuracy: 0.6980\n",
      "Epoch 70/600\n",
      "23/23 [==============================] - 0s 3ms/step - loss: 0.5759 - accuracy: 0.7107\n",
      "Epoch 71/600\n",
      "23/23 [==============================] - 0s 4ms/step - loss: 0.5862 - accuracy: 0.6798\n",
      "Epoch 72/600\n",
      "23/23 [==============================] - 0s 4ms/step - loss: 0.5819 - accuracy: 0.7022\n",
      "Epoch 73/600\n",
      "23/23 [==============================] - 0s 4ms/step - loss: 0.5891 - accuracy: 0.6924\n",
      "Epoch 74/600\n",
      "23/23 [==============================] - 0s 4ms/step - loss: 0.5812 - accuracy: 0.7065\n",
      "Epoch 75/600\n",
      "23/23 [==============================] - 0s 3ms/step - loss: 0.5763 - accuracy: 0.7008\n",
      "Epoch 76/600\n",
      "23/23 [==============================] - 0s 3ms/step - loss: 0.5703 - accuracy: 0.6896\n",
      "Epoch 77/600\n",
      "23/23 [==============================] - 0s 4ms/step - loss: 0.5718 - accuracy: 0.7037\n",
      "Epoch 78/600\n",
      "23/23 [==============================] - 0s 4ms/step - loss: 0.5931 - accuracy: 0.6980\n",
      "Epoch 79/600\n",
      "23/23 [==============================] - 0s 4ms/step - loss: 0.5757 - accuracy: 0.7022\n",
      "Epoch 80/600\n",
      "23/23 [==============================] - 0s 3ms/step - loss: 0.5697 - accuracy: 0.7051\n",
      "Epoch 81/600\n",
      "23/23 [==============================] - 0s 3ms/step - loss: 0.5635 - accuracy: 0.7219\n",
      "Epoch 82/600\n",
      "23/23 [==============================] - 0s 3ms/step - loss: 0.5712 - accuracy: 0.6966\n",
      "Epoch 83/600\n"
     ]
    },
    {
     "name": "stdout",
     "output_type": "stream",
     "text": [
      "23/23 [==============================] - 0s 4ms/step - loss: 0.5607 - accuracy: 0.6966\n",
      "Epoch 84/600\n",
      "23/23 [==============================] - 0s 4ms/step - loss: 0.5605 - accuracy: 0.7093\n",
      "Epoch 85/600\n",
      "23/23 [==============================] - 0s 4ms/step - loss: 0.5744 - accuracy: 0.6952\n",
      "Epoch 86/600\n",
      "23/23 [==============================] - 0s 3ms/step - loss: 0.5635 - accuracy: 0.6952\n",
      "Epoch 87/600\n",
      "23/23 [==============================] - 0s 4ms/step - loss: 0.5864 - accuracy: 0.7121\n",
      "Epoch 88/600\n",
      "23/23 [==============================] - 0s 4ms/step - loss: 0.5682 - accuracy: 0.7149\n",
      "Epoch 89/600\n",
      "23/23 [==============================] - 0s 4ms/step - loss: 0.5670 - accuracy: 0.7022\n",
      "Epoch 90/600\n",
      "23/23 [==============================] - 0s 3ms/step - loss: 0.5772 - accuracy: 0.7008\n",
      "Epoch 91/600\n",
      "23/23 [==============================] - 0s 3ms/step - loss: 0.5745 - accuracy: 0.7051\n",
      "Epoch 92/600\n",
      "23/23 [==============================] - 0s 4ms/step - loss: 0.5873 - accuracy: 0.6812\n",
      "Epoch 93/600\n",
      "23/23 [==============================] - 0s 3ms/step - loss: 0.5846 - accuracy: 0.7051\n",
      "Epoch 94/600\n",
      "23/23 [==============================] - 0s 3ms/step - loss: 0.5626 - accuracy: 0.7177\n",
      "Epoch 95/600\n",
      "23/23 [==============================] - 0s 4ms/step - loss: 0.5574 - accuracy: 0.7037\n",
      "Epoch 96/600\n",
      "23/23 [==============================] - 0s 3ms/step - loss: 0.5587 - accuracy: 0.6938\n",
      "Epoch 97/600\n",
      "23/23 [==============================] - 0s 3ms/step - loss: 0.5741 - accuracy: 0.7008\n",
      "Epoch 98/600\n",
      "23/23 [==============================] - 0s 3ms/step - loss: 0.5462 - accuracy: 0.7135\n",
      "Epoch 99/600\n",
      "23/23 [==============================] - 0s 3ms/step - loss: 0.5626 - accuracy: 0.7008\n",
      "Epoch 100/600\n",
      "23/23 [==============================] - 0s 3ms/step - loss: 0.5820 - accuracy: 0.6910\n",
      "Epoch 101/600\n",
      "23/23 [==============================] - 0s 3ms/step - loss: 0.5512 - accuracy: 0.7065\n",
      "Epoch 102/600\n",
      "23/23 [==============================] - 0s 3ms/step - loss: 0.5508 - accuracy: 0.7149\n",
      "Epoch 103/600\n",
      "23/23 [==============================] - 0s 2ms/step - loss: 0.5712 - accuracy: 0.7135\n",
      "Epoch 104/600\n",
      "23/23 [==============================] - 0s 3ms/step - loss: 0.5531 - accuracy: 0.7135\n",
      "Epoch 105/600\n",
      "23/23 [==============================] - 0s 3ms/step - loss: 0.5526 - accuracy: 0.7051\n",
      "Epoch 106/600\n",
      "23/23 [==============================] - 0s 3ms/step - loss: 0.5484 - accuracy: 0.7177\n",
      "Epoch 107/600\n",
      "23/23 [==============================] - 0s 4ms/step - loss: 0.5403 - accuracy: 0.7037\n",
      "Epoch 108/600\n",
      "23/23 [==============================] - 0s 3ms/step - loss: 0.5425 - accuracy: 0.7135\n",
      "Epoch 109/600\n",
      "23/23 [==============================] - 0s 3ms/step - loss: 0.5615 - accuracy: 0.7135\n",
      "Epoch 110/600\n",
      "23/23 [==============================] - 0s 3ms/step - loss: 0.5436 - accuracy: 0.7149\n",
      "Epoch 111/600\n",
      "23/23 [==============================] - 0s 3ms/step - loss: 0.5411 - accuracy: 0.7022\n",
      "Epoch 112/600\n",
      "23/23 [==============================] - 0s 3ms/step - loss: 0.5438 - accuracy: 0.7107\n",
      "Epoch 113/600\n",
      "23/23 [==============================] - 0s 2ms/step - loss: 0.5422 - accuracy: 0.7149\n",
      "Epoch 114/600\n",
      "23/23 [==============================] - 0s 3ms/step - loss: 0.5448 - accuracy: 0.7135\n",
      "Epoch 115/600\n",
      "23/23 [==============================] - 0s 3ms/step - loss: 0.5347 - accuracy: 0.7205\n",
      "Epoch 116/600\n",
      "23/23 [==============================] - 0s 3ms/step - loss: 0.5487 - accuracy: 0.6924\n",
      "Epoch 117/600\n",
      "23/23 [==============================] - 0s 3ms/step - loss: 0.5338 - accuracy: 0.7331\n",
      "Epoch 118/600\n",
      "23/23 [==============================] - 0s 3ms/step - loss: 0.5454 - accuracy: 0.7163\n",
      "Epoch 119/600\n",
      "23/23 [==============================] - 0s 3ms/step - loss: 0.5598 - accuracy: 0.7121\n",
      "Epoch 120/600\n",
      "23/23 [==============================] - 0s 3ms/step - loss: 0.5261 - accuracy: 0.7121\n",
      "Epoch 121/600\n",
      "23/23 [==============================] - 0s 3ms/step - loss: 0.5279 - accuracy: 0.7121\n",
      "Epoch 122/600\n",
      "23/23 [==============================] - 0s 3ms/step - loss: 0.5215 - accuracy: 0.7191\n",
      "Epoch 123/600\n",
      "23/23 [==============================] - 0s 3ms/step - loss: 0.5331 - accuracy: 0.7261\n",
      "Epoch 124/600\n",
      "23/23 [==============================] - 0s 3ms/step - loss: 0.5173 - accuracy: 0.7289\n",
      "Epoch 125/600\n",
      "23/23 [==============================] - 0s 3ms/step - loss: 0.5326 - accuracy: 0.7317\n",
      "Epoch 126/600\n",
      "23/23 [==============================] - 0s 3ms/step - loss: 0.5288 - accuracy: 0.7289\n",
      "Epoch 127/600\n",
      "23/23 [==============================] - 0s 3ms/step - loss: 0.5543 - accuracy: 0.7289\n",
      "Epoch 128/600\n",
      "23/23 [==============================] - 0s 3ms/step - loss: 0.5314 - accuracy: 0.7205\n",
      "Epoch 129/600\n",
      "23/23 [==============================] - 0s 3ms/step - loss: 0.5280 - accuracy: 0.7191\n",
      "Epoch 130/600\n",
      "23/23 [==============================] - 0s 3ms/step - loss: 0.5412 - accuracy: 0.7079\n",
      "Epoch 131/600\n",
      "23/23 [==============================] - 0s 3ms/step - loss: 0.5224 - accuracy: 0.7233\n",
      "Epoch 132/600\n",
      "23/23 [==============================] - 0s 3ms/step - loss: 0.5104 - accuracy: 0.7233\n",
      "Epoch 133/600\n",
      "23/23 [==============================] - 0s 4ms/step - loss: 0.5143 - accuracy: 0.7247\n",
      "Epoch 134/600\n",
      "23/23 [==============================] - 0s 3ms/step - loss: 0.5229 - accuracy: 0.7247\n",
      "Epoch 135/600\n",
      "23/23 [==============================] - 0s 3ms/step - loss: 0.5160 - accuracy: 0.7317\n",
      "Epoch 136/600\n",
      "23/23 [==============================] - 0s 3ms/step - loss: 0.5025 - accuracy: 0.7556\n",
      "Epoch 137/600\n",
      "23/23 [==============================] - 0s 3ms/step - loss: 0.5168 - accuracy: 0.7261\n",
      "Epoch 138/600\n",
      "23/23 [==============================] - 0s 3ms/step - loss: 0.5143 - accuracy: 0.7388\n",
      "Epoch 139/600\n",
      "23/23 [==============================] - 0s 2ms/step - loss: 0.5139 - accuracy: 0.7388\n",
      "Epoch 140/600\n",
      "23/23 [==============================] - 0s 3ms/step - loss: 0.5119 - accuracy: 0.7331\n",
      "Epoch 141/600\n",
      "23/23 [==============================] - 0s 4ms/step - loss: 0.5093 - accuracy: 0.7346\n",
      "Epoch 142/600\n",
      "23/23 [==============================] - 0s 3ms/step - loss: 0.5713 - accuracy: 0.6966\n",
      "Epoch 143/600\n",
      "23/23 [==============================] - 0s 4ms/step - loss: 0.5474 - accuracy: 0.7177\n",
      "Epoch 144/600\n",
      "23/23 [==============================] - 0s 3ms/step - loss: 0.5138 - accuracy: 0.7247\n",
      "Epoch 145/600\n",
      "23/23 [==============================] - 0s 3ms/step - loss: 0.4966 - accuracy: 0.7416\n",
      "Epoch 146/600\n",
      "23/23 [==============================] - 0s 3ms/step - loss: 0.5081 - accuracy: 0.7458\n",
      "Epoch 147/600\n",
      "23/23 [==============================] - 0s 3ms/step - loss: 0.5078 - accuracy: 0.7528\n",
      "Epoch 148/600\n",
      "23/23 [==============================] - 0s 3ms/step - loss: 0.5077 - accuracy: 0.7514\n",
      "Epoch 149/600\n",
      "23/23 [==============================] - 0s 3ms/step - loss: 0.4968 - accuracy: 0.7472\n",
      "Epoch 150/600\n",
      "23/23 [==============================] - 0s 2ms/step - loss: 0.5052 - accuracy: 0.7458\n",
      "Epoch 151/600\n",
      "23/23 [==============================] - 0s 3ms/step - loss: 0.5086 - accuracy: 0.7444\n",
      "Epoch 152/600\n",
      "23/23 [==============================] - 0s 3ms/step - loss: 0.5164 - accuracy: 0.7430\n",
      "Epoch 153/600\n",
      "23/23 [==============================] - 0s 3ms/step - loss: 0.5019 - accuracy: 0.7528\n",
      "Epoch 154/600\n",
      "23/23 [==============================] - 0s 3ms/step - loss: 0.4896 - accuracy: 0.7388\n",
      "Epoch 155/600\n",
      "23/23 [==============================] - 0s 3ms/step - loss: 0.4994 - accuracy: 0.7360\n",
      "Epoch 156/600\n",
      "23/23 [==============================] - 0s 3ms/step - loss: 0.5289 - accuracy: 0.7219\n",
      "Epoch 157/600\n",
      "23/23 [==============================] - 0s 4ms/step - loss: 0.5054 - accuracy: 0.7528\n",
      "Epoch 158/600\n",
      "23/23 [==============================] - 0s 3ms/step - loss: 0.4966 - accuracy: 0.7402\n",
      "Epoch 159/600\n",
      "23/23 [==============================] - 0s 2ms/step - loss: 0.4826 - accuracy: 0.7500\n",
      "Epoch 160/600\n",
      "23/23 [==============================] - 0s 3ms/step - loss: 0.5172 - accuracy: 0.7542\n",
      "Epoch 161/600\n",
      "23/23 [==============================] - 0s 3ms/step - loss: 0.4781 - accuracy: 0.7598\n",
      "Epoch 162/600\n",
      "23/23 [==============================] - 0s 3ms/step - loss: 0.4886 - accuracy: 0.7640\n",
      "Epoch 163/600\n",
      "23/23 [==============================] - 0s 3ms/step - loss: 0.4988 - accuracy: 0.7584\n",
      "Epoch 164/600\n"
     ]
    },
    {
     "name": "stdout",
     "output_type": "stream",
     "text": [
      "23/23 [==============================] - 0s 3ms/step - loss: 0.4975 - accuracy: 0.7500\n",
      "Epoch 165/600\n",
      "23/23 [==============================] - 0s 2ms/step - loss: 0.4750 - accuracy: 0.7626\n",
      "Epoch 166/600\n",
      "23/23 [==============================] - 0s 3ms/step - loss: 0.4811 - accuracy: 0.7654\n",
      "Epoch 167/600\n",
      "23/23 [==============================] - 0s 3ms/step - loss: 0.4708 - accuracy: 0.7626\n",
      "Epoch 168/600\n",
      "23/23 [==============================] - 0s 4ms/step - loss: 0.4738 - accuracy: 0.7683\n",
      "Epoch 169/600\n",
      "23/23 [==============================] - 0s 3ms/step - loss: 0.4715 - accuracy: 0.7879\n",
      "Epoch 170/600\n",
      "23/23 [==============================] - 0s 3ms/step - loss: 0.4885 - accuracy: 0.7626\n",
      "Epoch 171/600\n",
      "23/23 [==============================] - 0s 3ms/step - loss: 0.4717 - accuracy: 0.7753\n",
      "Epoch 172/600\n",
      "23/23 [==============================] - 0s 3ms/step - loss: 0.4759 - accuracy: 0.7781\n",
      "Epoch 173/600\n",
      "23/23 [==============================] - 0s 3ms/step - loss: 0.4687 - accuracy: 0.7781\n",
      "Epoch 174/600\n",
      "23/23 [==============================] - 0s 3ms/step - loss: 0.4810 - accuracy: 0.7697\n",
      "Epoch 175/600\n",
      "23/23 [==============================] - 0s 3ms/step - loss: 0.4838 - accuracy: 0.7542\n",
      "Epoch 176/600\n",
      "23/23 [==============================] - 0s 3ms/step - loss: 0.4557 - accuracy: 0.7893\n",
      "Epoch 177/600\n",
      "23/23 [==============================] - 0s 3ms/step - loss: 0.4683 - accuracy: 0.7795\n",
      "Epoch 178/600\n",
      "23/23 [==============================] - 0s 3ms/step - loss: 0.4564 - accuracy: 0.7697\n",
      "Epoch 179/600\n",
      "23/23 [==============================] - 0s 3ms/step - loss: 0.4532 - accuracy: 0.7837\n",
      "Epoch 180/600\n",
      "23/23 [==============================] - 0s 3ms/step - loss: 0.4637 - accuracy: 0.7669\n",
      "Epoch 181/600\n",
      "23/23 [==============================] - 0s 3ms/step - loss: 0.4580 - accuracy: 0.7683\n",
      "Epoch 182/600\n",
      "23/23 [==============================] - 0s 3ms/step - loss: 0.4463 - accuracy: 0.7823\n",
      "Epoch 183/600\n",
      "23/23 [==============================] - 0s 3ms/step - loss: 0.4486 - accuracy: 0.7739\n",
      "Epoch 184/600\n",
      "23/23 [==============================] - 0s 3ms/step - loss: 0.4529 - accuracy: 0.7907\n",
      "Epoch 185/600\n",
      "23/23 [==============================] - 0s 3ms/step - loss: 0.4580 - accuracy: 0.7879\n",
      "Epoch 186/600\n",
      "23/23 [==============================] - 0s 3ms/step - loss: 0.4488 - accuracy: 0.7851\n",
      "Epoch 187/600\n",
      "23/23 [==============================] - 0s 3ms/step - loss: 0.4491 - accuracy: 0.7795\n",
      "Epoch 188/600\n",
      "23/23 [==============================] - 0s 3ms/step - loss: 0.4541 - accuracy: 0.7711\n",
      "Epoch 189/600\n",
      "23/23 [==============================] - 0s 3ms/step - loss: 0.4718 - accuracy: 0.7865\n",
      "Epoch 190/600\n",
      "23/23 [==============================] - 0s 3ms/step - loss: 0.4360 - accuracy: 0.7837\n",
      "Epoch 191/600\n",
      "23/23 [==============================] - 0s 3ms/step - loss: 0.4570 - accuracy: 0.7837\n",
      "Epoch 192/600\n",
      "23/23 [==============================] - 0s 4ms/step - loss: 0.4499 - accuracy: 0.7837\n",
      "Epoch 193/600\n",
      "23/23 [==============================] - 0s 3ms/step - loss: 0.4726 - accuracy: 0.7907\n",
      "Epoch 194/600\n",
      "23/23 [==============================] - 0s 3ms/step - loss: 0.4437 - accuracy: 0.7879\n",
      "Epoch 195/600\n",
      "23/23 [==============================] - 0s 3ms/step - loss: 0.4354 - accuracy: 0.7893\n",
      "Epoch 196/600\n",
      "23/23 [==============================] - 0s 3ms/step - loss: 0.4374 - accuracy: 0.7935\n",
      "Epoch 197/600\n",
      "23/23 [==============================] - 0s 3ms/step - loss: 0.4436 - accuracy: 0.7978\n",
      "Epoch 198/600\n",
      "23/23 [==============================] - 0s 3ms/step - loss: 0.4493 - accuracy: 0.7879\n",
      "Epoch 199/600\n",
      "23/23 [==============================] - 0s 4ms/step - loss: 0.4254 - accuracy: 0.8020\n",
      "Epoch 200/600\n",
      "23/23 [==============================] - 0s 3ms/step - loss: 0.4562 - accuracy: 0.7949\n",
      "Epoch 201/600\n",
      "23/23 [==============================] - 0s 3ms/step - loss: 0.4153 - accuracy: 0.7935\n",
      "Epoch 202/600\n",
      "23/23 [==============================] - 0s 3ms/step - loss: 0.4153 - accuracy: 0.7978\n",
      "Epoch 203/600\n",
      "23/23 [==============================] - 0s 3ms/step - loss: 0.4128 - accuracy: 0.8090\n",
      "Epoch 204/600\n",
      "23/23 [==============================] - 0s 3ms/step - loss: 0.4087 - accuracy: 0.8132\n",
      "Epoch 205/600\n",
      "23/23 [==============================] - 0s 3ms/step - loss: 0.4649 - accuracy: 0.7781\n",
      "Epoch 206/600\n",
      "23/23 [==============================] - 0s 3ms/step - loss: 0.4556 - accuracy: 0.7809\n",
      "Epoch 207/600\n",
      "23/23 [==============================] - 0s 3ms/step - loss: 0.4285 - accuracy: 0.7851\n",
      "Epoch 208/600\n",
      "23/23 [==============================] - 0s 3ms/step - loss: 0.4203 - accuracy: 0.7963\n",
      "Epoch 209/600\n",
      "23/23 [==============================] - 0s 3ms/step - loss: 0.4185 - accuracy: 0.8020\n",
      "Epoch 210/600\n",
      "23/23 [==============================] - 0s 3ms/step - loss: 0.4780 - accuracy: 0.7584\n",
      "Epoch 211/600\n",
      "23/23 [==============================] - 0s 3ms/step - loss: 0.5069 - accuracy: 0.7654\n",
      "Epoch 212/600\n",
      "23/23 [==============================] - 0s 3ms/step - loss: 0.4388 - accuracy: 0.8006\n",
      "Epoch 213/600\n",
      "23/23 [==============================] - 0s 3ms/step - loss: 0.4343 - accuracy: 0.7935\n",
      "Epoch 214/600\n",
      "23/23 [==============================] - 0s 3ms/step - loss: 0.4158 - accuracy: 0.8174\n",
      "Epoch 215/600\n",
      "23/23 [==============================] - 0s 3ms/step - loss: 0.4068 - accuracy: 0.8146\n",
      "Epoch 216/600\n",
      "23/23 [==============================] - 0s 3ms/step - loss: 0.4256 - accuracy: 0.8062\n",
      "Epoch 217/600\n",
      "23/23 [==============================] - 0s 3ms/step - loss: 0.4077 - accuracy: 0.8174\n",
      "Epoch 218/600\n",
      "23/23 [==============================] - 0s 3ms/step - loss: 0.4113 - accuracy: 0.8062\n",
      "Epoch 219/600\n",
      "23/23 [==============================] - 0s 3ms/step - loss: 0.4556 - accuracy: 0.8062\n",
      "Epoch 220/600\n",
      "23/23 [==============================] - 0s 3ms/step - loss: 0.5041 - accuracy: 0.7935\n",
      "Epoch 221/600\n",
      "23/23 [==============================] - 0s 3ms/step - loss: 0.4420 - accuracy: 0.7949\n",
      "Epoch 222/600\n",
      "23/23 [==============================] - 0s 3ms/step - loss: 0.4242 - accuracy: 0.8104\n",
      "Epoch 223/600\n",
      "23/23 [==============================] - 0s 3ms/step - loss: 0.4331 - accuracy: 0.7949\n",
      "Epoch 224/600\n",
      "23/23 [==============================] - 0s 2ms/step - loss: 0.4002 - accuracy: 0.8048\n",
      "Epoch 225/600\n",
      "23/23 [==============================] - 0s 3ms/step - loss: 0.3896 - accuracy: 0.8132\n",
      "Epoch 226/600\n",
      "23/23 [==============================] - 0s 3ms/step - loss: 0.4121 - accuracy: 0.8146\n",
      "Epoch 227/600\n",
      "23/23 [==============================] - 0s 4ms/step - loss: 0.4245 - accuracy: 0.7893\n",
      "Epoch 228/600\n",
      "23/23 [==============================] - 0s 3ms/step - loss: 0.3996 - accuracy: 0.8216\n",
      "Epoch 229/600\n",
      "23/23 [==============================] - 0s 3ms/step - loss: 0.3944 - accuracy: 0.8188\n",
      "Epoch 230/600\n",
      "23/23 [==============================] - 0s 3ms/step - loss: 0.4038 - accuracy: 0.8076\n",
      "Epoch 231/600\n",
      "23/23 [==============================] - 0s 3ms/step - loss: 0.3914 - accuracy: 0.8216\n",
      "Epoch 232/600\n",
      "23/23 [==============================] - 0s 3ms/step - loss: 0.4217 - accuracy: 0.8076\n",
      "Epoch 233/600\n",
      "23/23 [==============================] - 0s 3ms/step - loss: 0.3967 - accuracy: 0.8132\n",
      "Epoch 234/600\n",
      "23/23 [==============================] - 0s 3ms/step - loss: 0.3819 - accuracy: 0.8188\n",
      "Epoch 235/600\n",
      "23/23 [==============================] - 0s 3ms/step - loss: 0.3782 - accuracy: 0.8104\n",
      "Epoch 236/600\n",
      "23/23 [==============================] - 0s 3ms/step - loss: 0.3749 - accuracy: 0.8272\n",
      "Epoch 237/600\n",
      "23/23 [==============================] - 0s 3ms/step - loss: 0.3719 - accuracy: 0.8244\n",
      "Epoch 238/600\n",
      "23/23 [==============================] - 0s 3ms/step - loss: 0.3799 - accuracy: 0.8216\n",
      "Epoch 239/600\n",
      "23/23 [==============================] - 0s 3ms/step - loss: 0.3860 - accuracy: 0.8174\n",
      "Epoch 240/600\n",
      "23/23 [==============================] - 0s 3ms/step - loss: 0.3803 - accuracy: 0.8301\n",
      "Epoch 241/600\n",
      "23/23 [==============================] - 0s 2ms/step - loss: 0.3739 - accuracy: 0.8216\n",
      "Epoch 242/600\n",
      "23/23 [==============================] - 0s 3ms/step - loss: 0.3834 - accuracy: 0.8216\n",
      "Epoch 243/600\n",
      "23/23 [==============================] - 0s 3ms/step - loss: 0.3701 - accuracy: 0.8427\n",
      "Epoch 244/600\n",
      "23/23 [==============================] - 0s 3ms/step - loss: 0.3687 - accuracy: 0.8357\n",
      "Epoch 245/600\n"
     ]
    },
    {
     "name": "stdout",
     "output_type": "stream",
     "text": [
      "23/23 [==============================] - 0s 3ms/step - loss: 0.3752 - accuracy: 0.8301\n",
      "Epoch 246/600\n",
      "23/23 [==============================] - 0s 3ms/step - loss: 0.3712 - accuracy: 0.8160\n",
      "Epoch 247/600\n",
      "23/23 [==============================] - 0s 3ms/step - loss: 0.3795 - accuracy: 0.8202\n",
      "Epoch 248/600\n",
      "23/23 [==============================] - 0s 3ms/step - loss: 0.3525 - accuracy: 0.8357\n",
      "Epoch 249/600\n",
      "23/23 [==============================] - 0s 3ms/step - loss: 0.3531 - accuracy: 0.8329\n",
      "Epoch 250/600\n",
      "23/23 [==============================] - 0s 3ms/step - loss: 0.3718 - accuracy: 0.8258\n",
      "Epoch 251/600\n",
      "23/23 [==============================] - 0s 3ms/step - loss: 0.3830 - accuracy: 0.8188\n",
      "Epoch 252/600\n",
      "23/23 [==============================] - 0s 3ms/step - loss: 0.3684 - accuracy: 0.8174\n",
      "Epoch 253/600\n",
      "23/23 [==============================] - 0s 3ms/step - loss: 0.3629 - accuracy: 0.8371\n",
      "Epoch 254/600\n",
      "23/23 [==============================] - 0s 3ms/step - loss: 0.4223 - accuracy: 0.8146\n",
      "Epoch 255/600\n",
      "23/23 [==============================] - 0s 3ms/step - loss: 0.3908 - accuracy: 0.8132\n",
      "Epoch 256/600\n",
      "23/23 [==============================] - 0s 3ms/step - loss: 0.3799 - accuracy: 0.8062\n",
      "Epoch 257/600\n",
      "23/23 [==============================] - 0s 3ms/step - loss: 0.3731 - accuracy: 0.8146\n",
      "Epoch 258/600\n",
      "23/23 [==============================] - 0s 3ms/step - loss: 0.3507 - accuracy: 0.8343\n",
      "Epoch 259/600\n",
      "23/23 [==============================] - 0s 3ms/step - loss: 0.3684 - accuracy: 0.8287\n",
      "Epoch 260/600\n",
      "23/23 [==============================] - 0s 3ms/step - loss: 0.3590 - accuracy: 0.8301\n",
      "Epoch 261/600\n",
      "23/23 [==============================] - 0s 3ms/step - loss: 0.3468 - accuracy: 0.8357\n",
      "Epoch 262/600\n",
      "23/23 [==============================] - 0s 3ms/step - loss: 0.3323 - accuracy: 0.8441\n",
      "Epoch 263/600\n",
      "23/23 [==============================] - 0s 3ms/step - loss: 0.3596 - accuracy: 0.8272\n",
      "Epoch 264/600\n",
      "23/23 [==============================] - 0s 3ms/step - loss: 0.3494 - accuracy: 0.8385\n",
      "Epoch 265/600\n",
      "23/23 [==============================] - 0s 3ms/step - loss: 0.3308 - accuracy: 0.8511\n",
      "Epoch 266/600\n",
      "23/23 [==============================] - 0s 3ms/step - loss: 0.3411 - accuracy: 0.8413\n",
      "Epoch 267/600\n",
      "23/23 [==============================] - 0s 3ms/step - loss: 0.3362 - accuracy: 0.8525\n",
      "Epoch 268/600\n",
      "23/23 [==============================] - 0s 4ms/step - loss: 0.3675 - accuracy: 0.8399\n",
      "Epoch 269/600\n",
      "23/23 [==============================] - 0s 3ms/step - loss: 0.3372 - accuracy: 0.8385\n",
      "Epoch 270/600\n",
      "23/23 [==============================] - 0s 3ms/step - loss: 0.3296 - accuracy: 0.8399\n",
      "Epoch 271/600\n",
      "23/23 [==============================] - 0s 3ms/step - loss: 0.3700 - accuracy: 0.8230\n",
      "Epoch 272/600\n",
      "23/23 [==============================] - 0s 3ms/step - loss: 0.3492 - accuracy: 0.8413\n",
      "Epoch 273/600\n",
      "23/23 [==============================] - 0s 3ms/step - loss: 0.3312 - accuracy: 0.8553\n",
      "Epoch 274/600\n",
      "23/23 [==============================] - 0s 3ms/step - loss: 0.3327 - accuracy: 0.8596\n",
      "Epoch 275/600\n",
      "23/23 [==============================] - 0s 3ms/step - loss: 0.3234 - accuracy: 0.8469\n",
      "Epoch 276/600\n",
      "23/23 [==============================] - 0s 3ms/step - loss: 0.3267 - accuracy: 0.8539\n",
      "Epoch 277/600\n",
      "23/23 [==============================] - 0s 3ms/step - loss: 0.3410 - accuracy: 0.8272\n",
      "Epoch 278/600\n",
      "23/23 [==============================] - 0s 3ms/step - loss: 0.3548 - accuracy: 0.8287\n",
      "Epoch 279/600\n",
      "23/23 [==============================] - 0s 3ms/step - loss: 0.3560 - accuracy: 0.8371\n",
      "Epoch 280/600\n",
      "23/23 [==============================] - 0s 3ms/step - loss: 0.3239 - accuracy: 0.8539\n",
      "Epoch 281/600\n",
      "23/23 [==============================] - 0s 3ms/step - loss: 0.3142 - accuracy: 0.8581\n",
      "Epoch 282/600\n",
      "23/23 [==============================] - 0s 3ms/step - loss: 0.3146 - accuracy: 0.8567\n",
      "Epoch 283/600\n",
      "23/23 [==============================] - 0s 3ms/step - loss: 0.3160 - accuracy: 0.8483\n",
      "Epoch 284/600\n",
      "23/23 [==============================] - 0s 3ms/step - loss: 0.3787 - accuracy: 0.8329\n",
      "Epoch 285/600\n",
      "23/23 [==============================] - 0s 3ms/step - loss: 0.3827 - accuracy: 0.8188\n",
      "Epoch 286/600\n",
      "23/23 [==============================] - 0s 3ms/step - loss: 0.3630 - accuracy: 0.8272\n",
      "Epoch 287/600\n",
      "23/23 [==============================] - 0s 3ms/step - loss: 0.3773 - accuracy: 0.8118\n",
      "Epoch 288/600\n",
      "23/23 [==============================] - 0s 3ms/step - loss: 0.3589 - accuracy: 0.8413\n",
      "Epoch 289/600\n",
      "23/23 [==============================] - 0s 3ms/step - loss: 0.3956 - accuracy: 0.8174\n",
      "Epoch 290/600\n",
      "23/23 [==============================] - 0s 4ms/step - loss: 0.3459 - accuracy: 0.8413\n",
      "Epoch 291/600\n",
      "23/23 [==============================] - 0s 3ms/step - loss: 0.3297 - accuracy: 0.8581\n",
      "Epoch 292/600\n",
      "23/23 [==============================] - 0s 3ms/step - loss: 0.3311 - accuracy: 0.8441\n",
      "Epoch 293/600\n",
      "23/23 [==============================] - 0s 3ms/step - loss: 0.3191 - accuracy: 0.8441\n",
      "Epoch 294/600\n",
      "23/23 [==============================] - 0s 4ms/step - loss: 0.3201 - accuracy: 0.8385\n",
      "Epoch 295/600\n",
      "23/23 [==============================] - 0s 3ms/step - loss: 0.3312 - accuracy: 0.8357\n",
      "Epoch 296/600\n",
      "23/23 [==============================] - 0s 3ms/step - loss: 0.3146 - accuracy: 0.8567\n",
      "Epoch 297/600\n",
      "23/23 [==============================] - 0s 3ms/step - loss: 0.3102 - accuracy: 0.8596\n",
      "Epoch 298/600\n",
      "23/23 [==============================] - 0s 3ms/step - loss: 0.3148 - accuracy: 0.8567\n",
      "Epoch 299/600\n",
      "23/23 [==============================] - 0s 3ms/step - loss: 0.3093 - accuracy: 0.8596\n",
      "Epoch 300/600\n",
      "23/23 [==============================] - 0s 3ms/step - loss: 0.3530 - accuracy: 0.8343\n",
      "Epoch 301/600\n",
      "23/23 [==============================] - 0s 3ms/step - loss: 0.3203 - accuracy: 0.8483\n",
      "Epoch 302/600\n",
      "23/23 [==============================] - 0s 3ms/step - loss: 0.3362 - accuracy: 0.8399\n",
      "Epoch 303/600\n",
      "23/23 [==============================] - 0s 3ms/step - loss: 0.3713 - accuracy: 0.8188\n",
      "Epoch 304/600\n",
      "23/23 [==============================] - 0s 3ms/step - loss: 0.3108 - accuracy: 0.8567\n",
      "Epoch 305/600\n",
      "23/23 [==============================] - 0s 3ms/step - loss: 0.3138 - accuracy: 0.8581\n",
      "Epoch 306/600\n",
      "23/23 [==============================] - 0s 4ms/step - loss: 0.2959 - accuracy: 0.8694\n",
      "Epoch 307/600\n",
      "23/23 [==============================] - 0s 3ms/step - loss: 0.3334 - accuracy: 0.8610\n",
      "Epoch 308/600\n",
      "23/23 [==============================] - 0s 3ms/step - loss: 0.3192 - accuracy: 0.8497\n",
      "Epoch 309/600\n",
      "23/23 [==============================] - 0s 3ms/step - loss: 0.2987 - accuracy: 0.8624\n",
      "Epoch 310/600\n",
      "23/23 [==============================] - 0s 3ms/step - loss: 0.3091 - accuracy: 0.8581\n",
      "Epoch 311/600\n",
      "23/23 [==============================] - 0s 3ms/step - loss: 0.3101 - accuracy: 0.8624\n",
      "Epoch 312/600\n",
      "23/23 [==============================] - 0s 3ms/step - loss: 0.3455 - accuracy: 0.8483\n",
      "Epoch 313/600\n",
      "23/23 [==============================] - 0s 4ms/step - loss: 0.3380 - accuracy: 0.8497\n",
      "Epoch 314/600\n",
      "23/23 [==============================] - 0s 4ms/step - loss: 0.3037 - accuracy: 0.8638\n",
      "Epoch 315/600\n",
      "23/23 [==============================] - 0s 3ms/step - loss: 0.3193 - accuracy: 0.8525\n",
      "Epoch 316/600\n",
      "23/23 [==============================] - 0s 3ms/step - loss: 0.2872 - accuracy: 0.8722\n",
      "Epoch 317/600\n",
      "23/23 [==============================] - 0s 2ms/step - loss: 0.2988 - accuracy: 0.8666\n",
      "Epoch 318/600\n",
      "23/23 [==============================] - 0s 3ms/step - loss: 0.2846 - accuracy: 0.8694\n",
      "Epoch 319/600\n",
      "23/23 [==============================] - 0s 3ms/step - loss: 0.3113 - accuracy: 0.8581\n",
      "Epoch 320/600\n",
      "23/23 [==============================] - 0s 3ms/step - loss: 0.3142 - accuracy: 0.8511\n",
      "Epoch 321/600\n",
      "23/23 [==============================] - 0s 3ms/step - loss: 0.3043 - accuracy: 0.8624\n",
      "Epoch 322/600\n",
      "23/23 [==============================] - 0s 3ms/step - loss: 0.2938 - accuracy: 0.8652\n",
      "Epoch 323/600\n",
      "23/23 [==============================] - 0s 3ms/step - loss: 0.3000 - accuracy: 0.8581\n",
      "Epoch 324/600\n",
      "23/23 [==============================] - 0s 3ms/step - loss: 0.2953 - accuracy: 0.8708\n",
      "Epoch 325/600\n",
      "23/23 [==============================] - 0s 4ms/step - loss: 0.2859 - accuracy: 0.8764\n",
      "Epoch 326/600\n"
     ]
    },
    {
     "name": "stdout",
     "output_type": "stream",
     "text": [
      "23/23 [==============================] - 0s 5ms/step - loss: 0.2886 - accuracy: 0.8708\n",
      "Epoch 327/600\n",
      "23/23 [==============================] - 0s 3ms/step - loss: 0.3138 - accuracy: 0.8553\n",
      "Epoch 328/600\n",
      "23/23 [==============================] - 0s 3ms/step - loss: 0.3089 - accuracy: 0.8539\n",
      "Epoch 329/600\n",
      "23/23 [==============================] - 0s 3ms/step - loss: 0.3686 - accuracy: 0.8329\n",
      "Epoch 330/600\n",
      "23/23 [==============================] - 0s 3ms/step - loss: 0.3300 - accuracy: 0.8483\n",
      "Epoch 331/600\n",
      "23/23 [==============================] - 0s 4ms/step - loss: 0.3244 - accuracy: 0.8511\n",
      "Epoch 332/600\n",
      "23/23 [==============================] - 0s 4ms/step - loss: 0.2967 - accuracy: 0.8666\n",
      "Epoch 333/600\n",
      "23/23 [==============================] - 0s 3ms/step - loss: 0.3586 - accuracy: 0.8708\n",
      "Epoch 334/600\n",
      "23/23 [==============================] - 0s 4ms/step - loss: 0.3363 - accuracy: 0.8750\n",
      "Epoch 335/600\n",
      "23/23 [==============================] - 0s 3ms/step - loss: 0.3289 - accuracy: 0.8511\n",
      "Epoch 336/600\n",
      "23/23 [==============================] - 0s 4ms/step - loss: 0.3274 - accuracy: 0.8638\n",
      "Epoch 337/600\n",
      "23/23 [==============================] - 0s 3ms/step - loss: 0.3490 - accuracy: 0.8441\n",
      "Epoch 338/600\n",
      "23/23 [==============================] - 0s 3ms/step - loss: 0.3023 - accuracy: 0.8638\n",
      "Epoch 339/600\n",
      "23/23 [==============================] - 0s 4ms/step - loss: 0.3020 - accuracy: 0.8581\n",
      "Epoch 340/600\n",
      "23/23 [==============================] - 0s 3ms/step - loss: 0.3362 - accuracy: 0.8455\n",
      "Epoch 341/600\n",
      "23/23 [==============================] - 0s 3ms/step - loss: 0.2996 - accuracy: 0.8638\n",
      "Epoch 342/600\n",
      "23/23 [==============================] - 0s 3ms/step - loss: 0.2854 - accuracy: 0.8596\n",
      "Epoch 343/600\n",
      "23/23 [==============================] - 0s 3ms/step - loss: 0.2989 - accuracy: 0.8778\n",
      "Epoch 344/600\n",
      "23/23 [==============================] - 0s 3ms/step - loss: 0.2861 - accuracy: 0.8764\n",
      "Epoch 345/600\n",
      "23/23 [==============================] - 0s 3ms/step - loss: 0.2860 - accuracy: 0.8666\n",
      "Epoch 346/600\n",
      "23/23 [==============================] - 0s 3ms/step - loss: 0.2817 - accuracy: 0.8694\n",
      "Epoch 347/600\n",
      "23/23 [==============================] - 0s 3ms/step - loss: 0.2786 - accuracy: 0.8764\n",
      "Epoch 348/600\n",
      "23/23 [==============================] - 0s 4ms/step - loss: 0.2699 - accuracy: 0.8792\n",
      "Epoch 349/600\n",
      "23/23 [==============================] - 0s 4ms/step - loss: 0.2596 - accuracy: 0.8834\n",
      "Epoch 350/600\n",
      "23/23 [==============================] - 0s 4ms/step - loss: 0.2841 - accuracy: 0.8862\n",
      "Epoch 351/600\n",
      "23/23 [==============================] - 0s 3ms/step - loss: 0.2844 - accuracy: 0.8638\n",
      "Epoch 352/600\n",
      "23/23 [==============================] - 0s 3ms/step - loss: 0.2894 - accuracy: 0.8680\n",
      "Epoch 353/600\n",
      "23/23 [==============================] - 0s 3ms/step - loss: 0.2751 - accuracy: 0.8764\n",
      "Epoch 354/600\n",
      "23/23 [==============================] - 0s 4ms/step - loss: 0.3040 - accuracy: 0.8610\n",
      "Epoch 355/600\n",
      "23/23 [==============================] - 0s 3ms/step - loss: 0.3499 - accuracy: 0.8385\n",
      "Epoch 356/600\n",
      "23/23 [==============================] - 0s 4ms/step - loss: 0.2889 - accuracy: 0.8624\n",
      "Epoch 357/600\n",
      "23/23 [==============================] - 0s 4ms/step - loss: 0.2852 - accuracy: 0.8750\n",
      "Epoch 358/600\n",
      "23/23 [==============================] - 0s 4ms/step - loss: 0.2725 - accuracy: 0.8750\n",
      "Epoch 359/600\n",
      "23/23 [==============================] - 0s 3ms/step - loss: 0.2887 - accuracy: 0.8708\n",
      "Epoch 360/600\n",
      "23/23 [==============================] - 0s 3ms/step - loss: 0.2865 - accuracy: 0.8596\n",
      "Epoch 361/600\n",
      "23/23 [==============================] - 0s 3ms/step - loss: 0.2638 - accuracy: 0.8890\n",
      "Epoch 362/600\n",
      "23/23 [==============================] - 0s 3ms/step - loss: 0.2979 - accuracy: 0.8666\n",
      "Epoch 363/600\n",
      "23/23 [==============================] - 0s 3ms/step - loss: 0.3313 - accuracy: 0.8469\n",
      "Epoch 364/600\n",
      "23/23 [==============================] - 0s 4ms/step - loss: 0.2877 - accuracy: 0.8778\n",
      "Epoch 365/600\n",
      "23/23 [==============================] - 0s 3ms/step - loss: 0.2888 - accuracy: 0.8694\n",
      "Epoch 366/600\n",
      "23/23 [==============================] - 0s 3ms/step - loss: 0.2848 - accuracy: 0.8778\n",
      "Epoch 367/600\n",
      "23/23 [==============================] - 0s 3ms/step - loss: 0.2976 - accuracy: 0.8666\n",
      "Epoch 368/600\n",
      "23/23 [==============================] - 0s 3ms/step - loss: 0.2755 - accuracy: 0.8778\n",
      "Epoch 369/600\n",
      "23/23 [==============================] - 0s 3ms/step - loss: 0.2599 - accuracy: 0.8919\n",
      "Epoch 370/600\n",
      "23/23 [==============================] - 0s 4ms/step - loss: 0.2586 - accuracy: 0.8848\n",
      "Epoch 371/600\n",
      "23/23 [==============================] - 0s 3ms/step - loss: 0.2475 - accuracy: 0.8904\n",
      "Epoch 372/600\n",
      "23/23 [==============================] - 0s 3ms/step - loss: 0.2552 - accuracy: 0.8848\n",
      "Epoch 373/600\n",
      "23/23 [==============================] - 0s 3ms/step - loss: 0.2534 - accuracy: 0.8933\n",
      "Epoch 374/600\n",
      "23/23 [==============================] - 0s 3ms/step - loss: 0.2503 - accuracy: 0.8961\n",
      "Epoch 375/600\n",
      "23/23 [==============================] - 0s 4ms/step - loss: 0.2726 - accuracy: 0.8876\n",
      "Epoch 376/600\n",
      "23/23 [==============================] - 0s 4ms/step - loss: 0.2760 - accuracy: 0.8736\n",
      "Epoch 377/600\n",
      "23/23 [==============================] - 0s 4ms/step - loss: 0.2544 - accuracy: 0.8806\n",
      "Epoch 378/600\n",
      "23/23 [==============================] - 0s 3ms/step - loss: 0.2676 - accuracy: 0.8806\n",
      "Epoch 379/600\n",
      "23/23 [==============================] - 0s 3ms/step - loss: 0.2704 - accuracy: 0.8708\n",
      "Epoch 380/600\n",
      "23/23 [==============================] - 0s 3ms/step - loss: 0.2657 - accuracy: 0.8820\n",
      "Epoch 381/600\n",
      "23/23 [==============================] - 0s 3ms/step - loss: 0.2568 - accuracy: 0.8862\n",
      "Epoch 382/600\n",
      "23/23 [==============================] - 0s 4ms/step - loss: 0.2587 - accuracy: 0.8904\n",
      "Epoch 383/600\n",
      "23/23 [==============================] - 0s 4ms/step - loss: 0.2616 - accuracy: 0.8848\n",
      "Epoch 384/600\n",
      "23/23 [==============================] - 0s 3ms/step - loss: 0.2450 - accuracy: 0.8975\n",
      "Epoch 385/600\n",
      "23/23 [==============================] - 0s 3ms/step - loss: 0.2650 - accuracy: 0.8792\n",
      "Epoch 386/600\n",
      "23/23 [==============================] - 0s 3ms/step - loss: 0.3211 - accuracy: 0.8722\n",
      "Epoch 387/600\n",
      "23/23 [==============================] - 0s 3ms/step - loss: 0.3134 - accuracy: 0.8539\n",
      "Epoch 388/600\n",
      "23/23 [==============================] - 0s 3ms/step - loss: 0.2887 - accuracy: 0.8680\n",
      "Epoch 389/600\n",
      "23/23 [==============================] - 0s 3ms/step - loss: 0.3121 - accuracy: 0.8680\n",
      "Epoch 390/600\n",
      "23/23 [==============================] - 0s 4ms/step - loss: 0.2729 - accuracy: 0.8862\n",
      "Epoch 391/600\n",
      "23/23 [==============================] - 0s 4ms/step - loss: 0.2762 - accuracy: 0.8708\n",
      "Epoch 392/600\n",
      "23/23 [==============================] - 0s 3ms/step - loss: 0.2950 - accuracy: 0.8596\n",
      "Epoch 393/600\n",
      "23/23 [==============================] - 0s 3ms/step - loss: 0.2827 - accuracy: 0.8652\n",
      "Epoch 394/600\n",
      "23/23 [==============================] - 0s 3ms/step - loss: 0.2803 - accuracy: 0.8778\n",
      "Epoch 395/600\n",
      "23/23 [==============================] - 0s 3ms/step - loss: 0.2893 - accuracy: 0.8638\n",
      "Epoch 396/600\n",
      "23/23 [==============================] - 0s 3ms/step - loss: 0.2606 - accuracy: 0.8820\n",
      "Epoch 397/600\n",
      "23/23 [==============================] - 0s 3ms/step - loss: 0.2678 - accuracy: 0.8820\n",
      "Epoch 398/600\n",
      "23/23 [==============================] - 0s 3ms/step - loss: 0.3147 - accuracy: 0.8596\n",
      "Epoch 399/600\n",
      "23/23 [==============================] - 0s 3ms/step - loss: 0.3838 - accuracy: 0.8399\n",
      "Epoch 400/600\n",
      "23/23 [==============================] - 0s 3ms/step - loss: 0.2976 - accuracy: 0.8652\n",
      "Epoch 401/600\n",
      "23/23 [==============================] - 0s 3ms/step - loss: 0.2567 - accuracy: 0.8890\n",
      "Epoch 402/600\n",
      "23/23 [==============================] - 0s 3ms/step - loss: 0.2660 - accuracy: 0.8722\n",
      "Epoch 403/600\n",
      "23/23 [==============================] - 0s 3ms/step - loss: 0.2541 - accuracy: 0.8904\n",
      "Epoch 404/600\n",
      "23/23 [==============================] - 0s 3ms/step - loss: 0.2465 - accuracy: 0.8904\n",
      "Epoch 405/600\n",
      "23/23 [==============================] - 0s 3ms/step - loss: 0.2332 - accuracy: 0.8989\n",
      "Epoch 406/600\n",
      "23/23 [==============================] - 0s 3ms/step - loss: 0.2318 - accuracy: 0.8947\n",
      "Epoch 407/600\n"
     ]
    },
    {
     "name": "stdout",
     "output_type": "stream",
     "text": [
      "23/23 [==============================] - 0s 3ms/step - loss: 0.2275 - accuracy: 0.8989\n",
      "Epoch 408/600\n",
      "23/23 [==============================] - 0s 3ms/step - loss: 0.2240 - accuracy: 0.9003\n",
      "Epoch 409/600\n",
      "23/23 [==============================] - 0s 3ms/step - loss: 0.2601 - accuracy: 0.8736\n",
      "Epoch 410/600\n",
      "23/23 [==============================] - 0s 3ms/step - loss: 0.2357 - accuracy: 0.8947\n",
      "Epoch 411/600\n",
      "23/23 [==============================] - 0s 4ms/step - loss: 0.2368 - accuracy: 0.8947\n",
      "Epoch 412/600\n",
      "23/23 [==============================] - 0s 3ms/step - loss: 0.2289 - accuracy: 0.8947\n",
      "Epoch 413/600\n",
      "23/23 [==============================] - 0s 4ms/step - loss: 0.2453 - accuracy: 0.8834\n",
      "Epoch 414/600\n",
      "23/23 [==============================] - 0s 4ms/step - loss: 0.2423 - accuracy: 0.8975\n",
      "Epoch 415/600\n",
      "23/23 [==============================] - 0s 4ms/step - loss: 0.2275 - accuracy: 0.9073\n",
      "Epoch 416/600\n",
      "23/23 [==============================] - 0s 3ms/step - loss: 0.2247 - accuracy: 0.8975\n",
      "Epoch 417/600\n",
      "23/23 [==============================] - 0s 3ms/step - loss: 0.2415 - accuracy: 0.8961\n",
      "Epoch 418/600\n",
      "23/23 [==============================] - 0s 3ms/step - loss: 0.2568 - accuracy: 0.8876\n",
      "Epoch 419/600\n",
      "23/23 [==============================] - 0s 3ms/step - loss: 0.2377 - accuracy: 0.8947\n",
      "Epoch 420/600\n",
      "23/23 [==============================] - 0s 4ms/step - loss: 0.2281 - accuracy: 0.9003\n",
      "Epoch 421/600\n",
      "23/23 [==============================] - 0s 3ms/step - loss: 0.2225 - accuracy: 0.9059\n",
      "Epoch 422/600\n",
      "23/23 [==============================] - 0s 4ms/step - loss: 0.2211 - accuracy: 0.9101\n",
      "Epoch 423/600\n",
      "23/23 [==============================] - 0s 3ms/step - loss: 0.2506 - accuracy: 0.8848\n",
      "Epoch 424/600\n",
      "23/23 [==============================] - 0s 3ms/step - loss: 0.2539 - accuracy: 0.8890\n",
      "Epoch 425/600\n",
      "23/23 [==============================] - 0s 3ms/step - loss: 0.2434 - accuracy: 0.8834\n",
      "Epoch 426/600\n",
      "23/23 [==============================] - 0s 3ms/step - loss: 0.2379 - accuracy: 0.8975\n",
      "Epoch 427/600\n",
      "23/23 [==============================] - 0s 4ms/step - loss: 0.2641 - accuracy: 0.8919\n",
      "Epoch 428/600\n",
      "23/23 [==============================] - 0s 4ms/step - loss: 0.2671 - accuracy: 0.8792\n",
      "Epoch 429/600\n",
      "23/23 [==============================] - 0s 4ms/step - loss: 0.2900 - accuracy: 0.8666\n",
      "Epoch 430/600\n",
      "23/23 [==============================] - 0s 3ms/step - loss: 0.2751 - accuracy: 0.8694\n",
      "Epoch 431/600\n",
      "23/23 [==============================] - 0s 3ms/step - loss: 0.2446 - accuracy: 0.8919\n",
      "Epoch 432/600\n",
      "23/23 [==============================] - 0s 3ms/step - loss: 0.2617 - accuracy: 0.8876\n",
      "Epoch 433/600\n",
      "23/23 [==============================] - 0s 3ms/step - loss: 0.2820 - accuracy: 0.8750\n",
      "Epoch 434/600\n",
      "23/23 [==============================] - 0s 3ms/step - loss: 0.2725 - accuracy: 0.8862\n",
      "Epoch 435/600\n",
      "23/23 [==============================] - 0s 4ms/step - loss: 0.2796 - accuracy: 0.8750\n",
      "Epoch 436/600\n",
      "23/23 [==============================] - 0s 3ms/step - loss: 0.2444 - accuracy: 0.8919\n",
      "Epoch 437/600\n",
      "23/23 [==============================] - 0s 3ms/step - loss: 0.2579 - accuracy: 0.8848\n",
      "Epoch 438/600\n",
      "23/23 [==============================] - 0s 3ms/step - loss: 0.2687 - accuracy: 0.8750\n",
      "Epoch 439/600\n",
      "23/23 [==============================] - 0s 3ms/step - loss: 0.2769 - accuracy: 0.8708\n",
      "Epoch 440/600\n",
      "23/23 [==============================] - 0s 4ms/step - loss: 0.2804 - accuracy: 0.8694\n",
      "Epoch 441/600\n",
      "23/23 [==============================] - 0s 3ms/step - loss: 0.3088 - accuracy: 0.8736\n",
      "Epoch 442/600\n",
      "23/23 [==============================] - 0s 3ms/step - loss: 0.2806 - accuracy: 0.8736\n",
      "Epoch 443/600\n",
      "23/23 [==============================] - 0s 3ms/step - loss: 0.2638 - accuracy: 0.8820\n",
      "Epoch 444/600\n",
      "23/23 [==============================] - 0s 3ms/step - loss: 0.2470 - accuracy: 0.8919\n",
      "Epoch 445/600\n",
      "23/23 [==============================] - 0s 3ms/step - loss: 0.2497 - accuracy: 0.8862\n",
      "Epoch 446/600\n",
      "23/23 [==============================] - 0s 3ms/step - loss: 0.2490 - accuracy: 0.8862\n",
      "Epoch 447/600\n",
      "23/23 [==============================] - 0s 3ms/step - loss: 0.2220 - accuracy: 0.9059\n",
      "Epoch 448/600\n",
      "23/23 [==============================] - 0s 3ms/step - loss: 0.2135 - accuracy: 0.9115\n",
      "Epoch 449/600\n",
      "23/23 [==============================] - 0s 3ms/step - loss: 0.2057 - accuracy: 0.9129\n",
      "Epoch 450/600\n",
      "23/23 [==============================] - 0s 3ms/step - loss: 0.2181 - accuracy: 0.9101\n",
      "Epoch 451/600\n",
      "23/23 [==============================] - 0s 3ms/step - loss: 0.2405 - accuracy: 0.8947\n",
      "Epoch 452/600\n",
      "23/23 [==============================] - 0s 3ms/step - loss: 0.2260 - accuracy: 0.8961\n",
      "Epoch 453/600\n",
      "23/23 [==============================] - 0s 4ms/step - loss: 0.2134 - accuracy: 0.9087\n",
      "Epoch 454/600\n",
      "23/23 [==============================] - 0s 4ms/step - loss: 0.2059 - accuracy: 0.9185\n",
      "Epoch 455/600\n",
      "23/23 [==============================] - 0s 3ms/step - loss: 0.2162 - accuracy: 0.9073\n",
      "Epoch 456/600\n",
      "23/23 [==============================] - 0s 3ms/step - loss: 0.3797 - accuracy: 0.8441\n",
      "Epoch 457/600\n",
      "23/23 [==============================] - 0s 3ms/step - loss: 0.3300 - accuracy: 0.8357\n",
      "Epoch 458/600\n",
      "23/23 [==============================] - 0s 3ms/step - loss: 0.2766 - accuracy: 0.8652\n",
      "Epoch 459/600\n",
      "23/23 [==============================] - 0s 3ms/step - loss: 0.2581 - accuracy: 0.8890\n",
      "Epoch 460/600\n",
      "23/23 [==============================] - 0s 3ms/step - loss: 0.2430 - accuracy: 0.8961\n",
      "Epoch 461/600\n",
      "23/23 [==============================] - 0s 3ms/step - loss: 0.2328 - accuracy: 0.8975\n",
      "Epoch 462/600\n",
      "23/23 [==============================] - 0s 3ms/step - loss: 0.2230 - accuracy: 0.9101\n",
      "Epoch 463/600\n",
      "23/23 [==============================] - 0s 3ms/step - loss: 0.2590 - accuracy: 0.8834\n",
      "Epoch 464/600\n",
      "23/23 [==============================] - 0s 4ms/step - loss: 0.2255 - accuracy: 0.9017\n",
      "Epoch 465/600\n",
      "23/23 [==============================] - 0s 4ms/step - loss: 0.2196 - accuracy: 0.9101\n",
      "Epoch 466/600\n",
      "23/23 [==============================] - 0s 3ms/step - loss: 0.2059 - accuracy: 0.9157\n",
      "Epoch 467/600\n",
      "23/23 [==============================] - 0s 3ms/step - loss: 0.2043 - accuracy: 0.9171\n",
      "Epoch 468/600\n",
      "23/23 [==============================] - 0s 3ms/step - loss: 0.2279 - accuracy: 0.8890\n",
      "Epoch 469/600\n",
      "23/23 [==============================] - 0s 3ms/step - loss: 0.2327 - accuracy: 0.8933\n",
      "Epoch 470/600\n",
      "23/23 [==============================] - 0s 3ms/step - loss: 0.2143 - accuracy: 0.9045\n",
      "Epoch 471/600\n",
      "23/23 [==============================] - 0s 3ms/step - loss: 0.2146 - accuracy: 0.9073\n",
      "Epoch 472/600\n",
      "23/23 [==============================] - 0s 3ms/step - loss: 0.2389 - accuracy: 0.8947\n",
      "Epoch 473/600\n",
      "23/23 [==============================] - 0s 3ms/step - loss: 0.2373 - accuracy: 0.9017\n",
      "Epoch 474/600\n",
      "23/23 [==============================] - 0s 3ms/step - loss: 0.2336 - accuracy: 0.8947\n",
      "Epoch 475/600\n",
      "23/23 [==============================] - 0s 3ms/step - loss: 0.3016 - accuracy: 0.8848\n",
      "Epoch 476/600\n",
      "23/23 [==============================] - 0s 3ms/step - loss: 0.3108 - accuracy: 0.8596\n",
      "Epoch 477/600\n",
      "23/23 [==============================] - 0s 3ms/step - loss: 0.2422 - accuracy: 0.8862\n",
      "Epoch 478/600\n",
      "23/23 [==============================] - 0s 3ms/step - loss: 0.2645 - accuracy: 0.8764\n",
      "Epoch 479/600\n",
      "23/23 [==============================] - 0s 4ms/step - loss: 0.2275 - accuracy: 0.8961\n",
      "Epoch 480/600\n",
      "23/23 [==============================] - 0s 3ms/step - loss: 0.2146 - accuracy: 0.9087\n",
      "Epoch 481/600\n",
      "23/23 [==============================] - 0s 3ms/step - loss: 0.2127 - accuracy: 0.9101\n",
      "Epoch 482/600\n",
      "23/23 [==============================] - 0s 3ms/step - loss: 0.2098 - accuracy: 0.9045\n",
      "Epoch 483/600\n",
      "23/23 [==============================] - 0s 3ms/step - loss: 0.2009 - accuracy: 0.9213\n",
      "Epoch 484/600\n",
      "23/23 [==============================] - 0s 3ms/step - loss: 0.2260 - accuracy: 0.9017\n",
      "Epoch 485/600\n",
      "23/23 [==============================] - 0s 3ms/step - loss: 0.2167 - accuracy: 0.8975\n",
      "Epoch 486/600\n",
      "23/23 [==============================] - 0s 4ms/step - loss: 0.2029 - accuracy: 0.9129\n",
      "Epoch 487/600\n",
      "23/23 [==============================] - 0s 4ms/step - loss: 0.1980 - accuracy: 0.9157\n",
      "Epoch 488/600\n"
     ]
    },
    {
     "name": "stdout",
     "output_type": "stream",
     "text": [
      "23/23 [==============================] - 0s 3ms/step - loss: 0.1945 - accuracy: 0.9185\n",
      "Epoch 489/600\n",
      "23/23 [==============================] - 0s 3ms/step - loss: 0.2033 - accuracy: 0.9045\n",
      "Epoch 490/600\n",
      "23/23 [==============================] - 0s 3ms/step - loss: 0.2046 - accuracy: 0.9129\n",
      "Epoch 491/600\n",
      "23/23 [==============================] - 0s 3ms/step - loss: 0.2014 - accuracy: 0.9157\n",
      "Epoch 492/600\n",
      "23/23 [==============================] - 0s 3ms/step - loss: 0.1951 - accuracy: 0.9199\n",
      "Epoch 493/600\n",
      "23/23 [==============================] - 0s 3ms/step - loss: 0.2052 - accuracy: 0.9073\n",
      "Epoch 494/600\n",
      "23/23 [==============================] - 0s 3ms/step - loss: 0.2018 - accuracy: 0.9059\n",
      "Epoch 495/600\n",
      "23/23 [==============================] - 0s 3ms/step - loss: 0.1901 - accuracy: 0.9213\n",
      "Epoch 496/600\n",
      "23/23 [==============================] - 0s 4ms/step - loss: 0.1843 - accuracy: 0.9242\n",
      "Epoch 497/600\n",
      "23/23 [==============================] - 0s 4ms/step - loss: 0.2132 - accuracy: 0.9003\n",
      "Epoch 498/600\n",
      "23/23 [==============================] - 0s 3ms/step - loss: 0.2851 - accuracy: 0.8890\n",
      "Epoch 499/600\n",
      "23/23 [==============================] - 0s 3ms/step - loss: 0.2636 - accuracy: 0.9017\n",
      "Epoch 500/600\n",
      "23/23 [==============================] - 0s 3ms/step - loss: 0.2570 - accuracy: 0.8806\n",
      "Epoch 501/600\n",
      "23/23 [==============================] - 0s 4ms/step - loss: 0.2437 - accuracy: 0.9017\n",
      "Epoch 502/600\n",
      "23/23 [==============================] - 0s 4ms/step - loss: 0.3046 - accuracy: 0.8792\n",
      "Epoch 503/600\n",
      "23/23 [==============================] - 0s 4ms/step - loss: 0.2793 - accuracy: 0.8778\n",
      "Epoch 504/600\n",
      "23/23 [==============================] - 0s 3ms/step - loss: 0.3228 - accuracy: 0.8680\n",
      "Epoch 505/600\n",
      "23/23 [==============================] - 0s 4ms/step - loss: 0.3159 - accuracy: 0.8750\n",
      "Epoch 506/600\n",
      "23/23 [==============================] - 0s 4ms/step - loss: 0.2839 - accuracy: 0.8708\n",
      "Epoch 507/600\n",
      "23/23 [==============================] - 0s 4ms/step - loss: 0.2626 - accuracy: 0.8834\n",
      "Epoch 508/600\n",
      "23/23 [==============================] - 0s 4ms/step - loss: 0.2283 - accuracy: 0.9101\n",
      "Epoch 509/600\n",
      "23/23 [==============================] - 0s 4ms/step - loss: 0.2087 - accuracy: 0.9045\n",
      "Epoch 510/600\n",
      "23/23 [==============================] - 0s 3ms/step - loss: 0.2038 - accuracy: 0.9115\n",
      "Epoch 511/600\n",
      "23/23 [==============================] - 0s 4ms/step - loss: 0.1970 - accuracy: 0.9101\n",
      "Epoch 512/600\n",
      "23/23 [==============================] - 0s 4ms/step - loss: 0.1907 - accuracy: 0.9298\n",
      "Epoch 513/600\n",
      "23/23 [==============================] - 0s 4ms/step - loss: 0.2083 - accuracy: 0.9073\n",
      "Epoch 514/600\n",
      "23/23 [==============================] - 0s 3ms/step - loss: 0.1944 - accuracy: 0.9143\n",
      "Epoch 515/600\n",
      "23/23 [==============================] - 0s 5ms/step - loss: 0.1949 - accuracy: 0.9171\n",
      "Epoch 516/600\n",
      "23/23 [==============================] - 0s 4ms/step - loss: 0.2010 - accuracy: 0.9199\n",
      "Epoch 517/600\n",
      "23/23 [==============================] - 0s 3ms/step - loss: 0.1982 - accuracy: 0.9129\n",
      "Epoch 518/600\n",
      "23/23 [==============================] - 0s 3ms/step - loss: 0.1859 - accuracy: 0.9228\n",
      "Epoch 519/600\n",
      "23/23 [==============================] - 0s 3ms/step - loss: 0.1900 - accuracy: 0.9171\n",
      "Epoch 520/600\n",
      "23/23 [==============================] - 0s 3ms/step - loss: 0.1835 - accuracy: 0.9298\n",
      "Epoch 521/600\n",
      "23/23 [==============================] - 0s 3ms/step - loss: 0.1873 - accuracy: 0.9270\n",
      "Epoch 522/600\n",
      "23/23 [==============================] - 0s 4ms/step - loss: 0.2169 - accuracy: 0.9073\n",
      "Epoch 523/600\n",
      "23/23 [==============================] - 0s 4ms/step - loss: 0.1904 - accuracy: 0.9185\n",
      "Epoch 524/600\n",
      "23/23 [==============================] - 0s 3ms/step - loss: 0.2092 - accuracy: 0.9045\n",
      "Epoch 525/600\n",
      "23/23 [==============================] - 0s 4ms/step - loss: 0.2620 - accuracy: 0.8876\n",
      "Epoch 526/600\n",
      "23/23 [==============================] - 0s 4ms/step - loss: 0.2717 - accuracy: 0.8778\n",
      "Epoch 527/600\n",
      "23/23 [==============================] - 0s 3ms/step - loss: 0.2638 - accuracy: 0.8806\n",
      "Epoch 528/600\n",
      "23/23 [==============================] - 0s 4ms/step - loss: 0.2130 - accuracy: 0.9143\n",
      "Epoch 529/600\n",
      "23/23 [==============================] - 0s 4ms/step - loss: 0.2594 - accuracy: 0.8820\n",
      "Epoch 530/600\n",
      "23/23 [==============================] - 0s 3ms/step - loss: 0.2449 - accuracy: 0.8764\n",
      "Epoch 531/600\n",
      "23/23 [==============================] - 0s 3ms/step - loss: 0.3005 - accuracy: 0.8638\n",
      "Epoch 532/600\n",
      "23/23 [==============================] - 0s 4ms/step - loss: 0.3167 - accuracy: 0.8610\n",
      "Epoch 533/600\n",
      "23/23 [==============================] - 0s 4ms/step - loss: 0.2777 - accuracy: 0.8778\n",
      "Epoch 534/600\n",
      "23/23 [==============================] - 0s 4ms/step - loss: 0.2199 - accuracy: 0.9045\n",
      "Epoch 535/600\n",
      "23/23 [==============================] - 0s 4ms/step - loss: 0.2179 - accuracy: 0.9073\n",
      "Epoch 536/600\n",
      "23/23 [==============================] - 0s 3ms/step - loss: 0.2141 - accuracy: 0.9073\n",
      "Epoch 537/600\n",
      "23/23 [==============================] - 0s 3ms/step - loss: 0.2133 - accuracy: 0.9073\n",
      "Epoch 538/600\n",
      "23/23 [==============================] - 0s 4ms/step - loss: 0.2225 - accuracy: 0.8961\n",
      "Epoch 539/600\n",
      "23/23 [==============================] - 0s 3ms/step - loss: 0.2013 - accuracy: 0.9087\n",
      "Epoch 540/600\n",
      "23/23 [==============================] - 0s 3ms/step - loss: 0.1895 - accuracy: 0.9242\n",
      "Epoch 541/600\n",
      "23/23 [==============================] - 0s 3ms/step - loss: 0.1923 - accuracy: 0.9199\n",
      "Epoch 542/600\n",
      "23/23 [==============================] - 0s 4ms/step - loss: 0.1987 - accuracy: 0.9171\n",
      "Epoch 543/600\n",
      "23/23 [==============================] - 0s 4ms/step - loss: 0.2291 - accuracy: 0.8848\n",
      "Epoch 544/600\n",
      "23/23 [==============================] - 0s 4ms/step - loss: 0.1882 - accuracy: 0.9213\n",
      "Epoch 545/600\n",
      "23/23 [==============================] - 0s 3ms/step - loss: 0.1808 - accuracy: 0.9298\n",
      "Epoch 546/600\n",
      "23/23 [==============================] - 0s 3ms/step - loss: 0.1952 - accuracy: 0.9185\n",
      "Epoch 547/600\n",
      "23/23 [==============================] - 0s 3ms/step - loss: 0.1928 - accuracy: 0.9171\n",
      "Epoch 548/600\n",
      "23/23 [==============================] - 0s 3ms/step - loss: 0.1819 - accuracy: 0.9213\n",
      "Epoch 549/600\n",
      "23/23 [==============================] - 0s 3ms/step - loss: 0.1876 - accuracy: 0.9228\n",
      "Epoch 550/600\n",
      "23/23 [==============================] - 0s 4ms/step - loss: 0.2054 - accuracy: 0.9115\n",
      "Epoch 551/600\n",
      "23/23 [==============================] - 0s 4ms/step - loss: 0.1981 - accuracy: 0.9031\n",
      "Epoch 552/600\n",
      "23/23 [==============================] - 0s 4ms/step - loss: 0.1876 - accuracy: 0.9171\n",
      "Epoch 553/600\n",
      "23/23 [==============================] - 0s 3ms/step - loss: 0.1871 - accuracy: 0.9171\n",
      "Epoch 554/600\n",
      "23/23 [==============================] - 0s 4ms/step - loss: 0.1961 - accuracy: 0.9185\n",
      "Epoch 555/600\n",
      "23/23 [==============================] - 0s 3ms/step - loss: 0.2571 - accuracy: 0.8961\n",
      "Epoch 556/600\n",
      "23/23 [==============================] - 0s 3ms/step - loss: 0.2186 - accuracy: 0.9073\n",
      "Epoch 557/600\n",
      "23/23 [==============================] - 0s 4ms/step - loss: 0.3753 - accuracy: 0.8441\n",
      "Epoch 558/600\n",
      "23/23 [==============================] - 0s 4ms/step - loss: 0.3292 - accuracy: 0.8610\n",
      "Epoch 559/600\n",
      "23/23 [==============================] - 0s 3ms/step - loss: 0.2573 - accuracy: 0.8792\n",
      "Epoch 560/600\n",
      "23/23 [==============================] - 0s 4ms/step - loss: 0.2518 - accuracy: 0.8904\n",
      "Epoch 561/600\n",
      "23/23 [==============================] - 0s 4ms/step - loss: 0.2300 - accuracy: 0.9017\n",
      "Epoch 562/600\n",
      "23/23 [==============================] - 0s 4ms/step - loss: 0.2046 - accuracy: 0.9143\n",
      "Epoch 563/600\n",
      "23/23 [==============================] - 0s 3ms/step - loss: 0.2204 - accuracy: 0.9213\n",
      "Epoch 564/600\n",
      "23/23 [==============================] - 0s 3ms/step - loss: 0.2032 - accuracy: 0.9045\n",
      "Epoch 565/600\n",
      "23/23 [==============================] - 0s 4ms/step - loss: 0.1916 - accuracy: 0.9059\n",
      "Epoch 566/600\n",
      "23/23 [==============================] - 0s 3ms/step - loss: 0.1796 - accuracy: 0.9242\n",
      "Epoch 567/600\n",
      "23/23 [==============================] - 0s 3ms/step - loss: 0.1845 - accuracy: 0.9213\n",
      "Epoch 568/600\n",
      "23/23 [==============================] - 0s 3ms/step - loss: 0.1907 - accuracy: 0.9073\n",
      "Epoch 569/600\n"
     ]
    },
    {
     "name": "stdout",
     "output_type": "stream",
     "text": [
      "23/23 [==============================] - 0s 3ms/step - loss: 0.1857 - accuracy: 0.9213\n",
      "Epoch 570/600\n",
      "23/23 [==============================] - 0s 3ms/step - loss: 0.1996 - accuracy: 0.9157\n",
      "Epoch 571/600\n",
      "23/23 [==============================] - 0s 3ms/step - loss: 0.1840 - accuracy: 0.9256\n",
      "Epoch 572/600\n",
      "23/23 [==============================] - 0s 4ms/step - loss: 0.2054 - accuracy: 0.9003\n",
      "Epoch 573/600\n",
      "23/23 [==============================] - 0s 3ms/step - loss: 0.1880 - accuracy: 0.9213\n",
      "Epoch 574/600\n",
      "23/23 [==============================] - 0s 3ms/step - loss: 0.1936 - accuracy: 0.9157\n",
      "Epoch 575/600\n",
      "23/23 [==============================] - 0s 3ms/step - loss: 0.1958 - accuracy: 0.9101\n",
      "Epoch 576/600\n",
      "23/23 [==============================] - 0s 3ms/step - loss: 0.1806 - accuracy: 0.9213\n",
      "Epoch 577/600\n",
      "23/23 [==============================] - 0s 3ms/step - loss: 0.1769 - accuracy: 0.9284\n",
      "Epoch 578/600\n",
      "23/23 [==============================] - 0s 3ms/step - loss: 0.1723 - accuracy: 0.9270\n",
      "Epoch 579/600\n",
      "23/23 [==============================] - 0s 3ms/step - loss: 0.1826 - accuracy: 0.9115\n",
      "Epoch 580/600\n",
      "23/23 [==============================] - 0s 3ms/step - loss: 0.1752 - accuracy: 0.9171\n",
      "Epoch 581/600\n",
      "23/23 [==============================] - 0s 4ms/step - loss: 0.1696 - accuracy: 0.9368\n",
      "Epoch 582/600\n",
      "23/23 [==============================] - 0s 4ms/step - loss: 0.1880 - accuracy: 0.9242\n",
      "Epoch 583/600\n",
      "23/23 [==============================] - 0s 4ms/step - loss: 0.1784 - accuracy: 0.9298\n",
      "Epoch 584/600\n",
      "23/23 [==============================] - 0s 3ms/step - loss: 0.1751 - accuracy: 0.9228\n",
      "Epoch 585/600\n",
      "23/23 [==============================] - 0s 3ms/step - loss: 0.1772 - accuracy: 0.9185\n",
      "Epoch 586/600\n",
      "23/23 [==============================] - 0s 3ms/step - loss: 0.2022 - accuracy: 0.9143\n",
      "Epoch 587/600\n",
      "23/23 [==============================] - 0s 3ms/step - loss: 0.2277 - accuracy: 0.8989\n",
      "Epoch 588/600\n",
      "23/23 [==============================] - 0s 3ms/step - loss: 0.2544 - accuracy: 0.8904\n",
      "Epoch 589/600\n",
      "23/23 [==============================] - 0s 3ms/step - loss: 0.4297 - accuracy: 0.8371\n",
      "Epoch 590/600\n",
      "23/23 [==============================] - 0s 3ms/step - loss: 0.4415 - accuracy: 0.8315\n",
      "Epoch 591/600\n",
      "23/23 [==============================] - 0s 4ms/step - loss: 0.3872 - accuracy: 0.8272\n",
      "Epoch 592/600\n",
      "23/23 [==============================] - 0s 4ms/step - loss: 0.3831 - accuracy: 0.8230\n",
      "Epoch 593/600\n",
      "23/23 [==============================] - 0s 3ms/step - loss: 0.2721 - accuracy: 0.8722\n",
      "Epoch 594/600\n",
      "23/23 [==============================] - 0s 3ms/step - loss: 0.2500 - accuracy: 0.8904\n",
      "Epoch 595/600\n",
      "23/23 [==============================] - 0s 3ms/step - loss: 0.2172 - accuracy: 0.9185\n",
      "Epoch 596/600\n",
      "23/23 [==============================] - 0s 3ms/step - loss: 0.2113 - accuracy: 0.9157\n",
      "Epoch 597/600\n",
      "23/23 [==============================] - 0s 3ms/step - loss: 0.2336 - accuracy: 0.8989\n",
      "Epoch 598/600\n",
      "23/23 [==============================] - 0s 3ms/step - loss: 0.2221 - accuracy: 0.9059\n",
      "Epoch 599/600\n",
      "23/23 [==============================] - 0s 3ms/step - loss: 0.2203 - accuracy: 0.9045\n",
      "Epoch 600/600\n",
      "23/23 [==============================] - 0s 3ms/step - loss: 0.2011 - accuracy: 0.9171\n"
     ]
    },
    {
     "data": {
      "text/plain": [
       "<keras.callbacks.History at 0x19ab4934760>"
      ]
     },
     "execution_count": 106,
     "metadata": {},
     "output_type": "execute_result"
    }
   ],
   "source": [
    "network.fit(X_train,\n",
    "            y_train,\n",
    "            epochs=600,\n",
    "            batch_size=32\n",
    "            )"
   ]
  },
  {
   "cell_type": "code",
   "execution_count": 108,
   "id": "3fb78c87",
   "metadata": {},
   "outputs": [
    {
     "name": "stdout",
     "output_type": "stream",
     "text": [
      "23/23 [==============================] - 0s 2ms/step\n",
      "6/6 [==============================] - 0s 4ms/step\n"
     ]
    }
   ],
   "source": [
    "y_pred_train_network = network.predict(X_train)\n",
    "y_pred_test_network = network.predict(X_test)"
   ]
  },
  {
   "cell_type": "code",
   "execution_count": 110,
   "id": "65db912f",
   "metadata": {},
   "outputs": [
    {
     "data": {
      "text/plain": [
       "array([[8.9748623e-03, 9.9691468e-01],\n",
       "       [6.3592512e-03, 9.8470646e-01],\n",
       "       [6.9648361e-01, 2.9836795e-01],\n",
       "       ...,\n",
       "       [7.9902732e-01, 2.1367224e-01],\n",
       "       [7.9718608e-05, 9.9935007e-01],\n",
       "       [9.2996973e-01, 5.8856193e-02]], dtype=float32)"
      ]
     },
     "execution_count": 110,
     "metadata": {},
     "output_type": "execute_result"
    }
   ],
   "source": [
    "y_pred_train_network"
   ]
  },
  {
   "cell_type": "code",
   "execution_count": 112,
   "id": "26cc96d5",
   "metadata": {},
   "outputs": [
    {
     "data": {
      "text/plain": [
       "(1, 0)"
      ]
     },
     "execution_count": 112,
     "metadata": {},
     "output_type": "execute_result"
    }
   ],
   "source": [
    "np.argmax(y_pred_train_network[0]), y_train[0]"
   ]
  },
  {
   "cell_type": "markdown",
   "id": "4c5e88da",
   "metadata": {},
   "source": [
    "#### Results on train set"
   ]
  },
  {
   "cell_type": "code",
   "execution_count": 109,
   "id": "3115e98b",
   "metadata": {},
   "outputs": [
    {
     "ename": "ValueError",
     "evalue": "Classification metrics can't handle a mix of binary and continuous-multioutput targets",
     "output_type": "error",
     "traceback": [
      "\u001b[1;31m---------------------------------------------------------------------------\u001b[0m",
      "\u001b[1;31mValueError\u001b[0m                                Traceback (most recent call last)",
      "Input \u001b[1;32mIn [109]\u001b[0m, in \u001b[0;36m<cell line: 1>\u001b[1;34m()\u001b[0m\n\u001b[1;32m----> 1\u001b[0m \u001b[43mprint_confusion_matrix\u001b[49m\u001b[43m(\u001b[49m\u001b[43my_train\u001b[49m\u001b[43m,\u001b[49m\u001b[43m \u001b[49m\u001b[43my_pred_train_network\u001b[49m\u001b[43m,\u001b[49m\u001b[43m \u001b[49m\u001b[43mset_type\u001b[49m\u001b[38;5;241;43m=\u001b[39;49m\u001b[38;5;124;43m'\u001b[39;49m\u001b[38;5;124;43mtrain\u001b[39;49m\u001b[38;5;124;43m'\u001b[39;49m\u001b[43m)\u001b[49m\n",
      "Input \u001b[1;32mIn [27]\u001b[0m, in \u001b[0;36mprint_confusion_matrix\u001b[1;34m(y_true, y_predict, set_type, cmap, figsize, label_font_size, title_font_size)\u001b[0m\n\u001b[0;32m      4\u001b[0m \u001b[38;5;28;01mdef\u001b[39;00m \u001b[38;5;21mprint_confusion_matrix\u001b[39m(y_true, y_predict,\n\u001b[0;32m      5\u001b[0m                            set_type\u001b[38;5;241m=\u001b[39m\u001b[38;5;124m'\u001b[39m\u001b[38;5;124mtrain\u001b[39m\u001b[38;5;124m'\u001b[39m,\n\u001b[0;32m      6\u001b[0m                            cmap \u001b[38;5;241m=\u001b[39m \u001b[38;5;28;01mNone\u001b[39;00m,\n\u001b[1;32m   (...)\u001b[0m\n\u001b[0;32m      9\u001b[0m                            title_font_size\u001b[38;5;241m=\u001b[39m\u001b[38;5;241m16\u001b[39m\n\u001b[0;32m     10\u001b[0m                           ):\n\u001b[0;32m     12\u001b[0m     sns\u001b[38;5;241m.\u001b[39mset(rc \u001b[38;5;241m=\u001b[39m{\u001b[38;5;124m'\u001b[39m\u001b[38;5;124mfigure.figsize\u001b[39m\u001b[38;5;124m'\u001b[39m:figsize})\n\u001b[1;32m---> 13\u001b[0m     cm \u001b[38;5;241m=\u001b[39m \u001b[43mconfusion_matrix\u001b[49m\u001b[43m(\u001b[49m\u001b[43my_true\u001b[49m\u001b[43m,\u001b[49m\u001b[43m \u001b[49m\u001b[43my_predict\u001b[49m\u001b[43m)\u001b[49m\n\u001b[0;32m     15\u001b[0m     ax \u001b[38;5;241m=\u001b[39m sns\u001b[38;5;241m.\u001b[39mheatmap(cm, annot\u001b[38;5;241m=\u001b[39m\u001b[38;5;28;01mTrue\u001b[39;00m, fmt\u001b[38;5;241m=\u001b[39m\u001b[38;5;124m'\u001b[39m\u001b[38;5;124md\u001b[39m\u001b[38;5;124m'\u001b[39m, cmap\u001b[38;5;241m=\u001b[39mcmap)\n\u001b[0;32m     17\u001b[0m     plt\u001b[38;5;241m.\u001b[39mxlabel(\u001b[38;5;124m'\u001b[39m\u001b[38;5;124mPrediction\u001b[39m\u001b[38;5;124m'\u001b[39m, fontsize\u001b[38;5;241m=\u001b[39mlabel_font_size)\n",
      "File \u001b[1;32m~\\AppData\\Local\\Programs\\Python\\Python310\\lib\\site-packages\\sklearn\\metrics\\_classification.py:307\u001b[0m, in \u001b[0;36mconfusion_matrix\u001b[1;34m(y_true, y_pred, labels, sample_weight, normalize)\u001b[0m\n\u001b[0;32m    222\u001b[0m \u001b[38;5;28;01mdef\u001b[39;00m \u001b[38;5;21mconfusion_matrix\u001b[39m(\n\u001b[0;32m    223\u001b[0m     y_true, y_pred, \u001b[38;5;241m*\u001b[39m, labels\u001b[38;5;241m=\u001b[39m\u001b[38;5;28;01mNone\u001b[39;00m, sample_weight\u001b[38;5;241m=\u001b[39m\u001b[38;5;28;01mNone\u001b[39;00m, normalize\u001b[38;5;241m=\u001b[39m\u001b[38;5;28;01mNone\u001b[39;00m\n\u001b[0;32m    224\u001b[0m ):\n\u001b[0;32m    225\u001b[0m     \u001b[38;5;124;03m\"\"\"Compute confusion matrix to evaluate the accuracy of a classification.\u001b[39;00m\n\u001b[0;32m    226\u001b[0m \n\u001b[0;32m    227\u001b[0m \u001b[38;5;124;03m    By definition a confusion matrix :math:`C` is such that :math:`C_{i, j}`\u001b[39;00m\n\u001b[1;32m   (...)\u001b[0m\n\u001b[0;32m    305\u001b[0m \u001b[38;5;124;03m    (0, 2, 1, 1)\u001b[39;00m\n\u001b[0;32m    306\u001b[0m \u001b[38;5;124;03m    \"\"\"\u001b[39;00m\n\u001b[1;32m--> 307\u001b[0m     y_type, y_true, y_pred \u001b[38;5;241m=\u001b[39m \u001b[43m_check_targets\u001b[49m\u001b[43m(\u001b[49m\u001b[43my_true\u001b[49m\u001b[43m,\u001b[49m\u001b[43m \u001b[49m\u001b[43my_pred\u001b[49m\u001b[43m)\u001b[49m\n\u001b[0;32m    308\u001b[0m     \u001b[38;5;28;01mif\u001b[39;00m y_type \u001b[38;5;129;01mnot\u001b[39;00m \u001b[38;5;129;01min\u001b[39;00m (\u001b[38;5;124m\"\u001b[39m\u001b[38;5;124mbinary\u001b[39m\u001b[38;5;124m\"\u001b[39m, \u001b[38;5;124m\"\u001b[39m\u001b[38;5;124mmulticlass\u001b[39m\u001b[38;5;124m\"\u001b[39m):\n\u001b[0;32m    309\u001b[0m         \u001b[38;5;28;01mraise\u001b[39;00m \u001b[38;5;167;01mValueError\u001b[39;00m(\u001b[38;5;124m\"\u001b[39m\u001b[38;5;132;01m%s\u001b[39;00m\u001b[38;5;124m is not supported\u001b[39m\u001b[38;5;124m\"\u001b[39m \u001b[38;5;241m%\u001b[39m y_type)\n",
      "File \u001b[1;32m~\\AppData\\Local\\Programs\\Python\\Python310\\lib\\site-packages\\sklearn\\metrics\\_classification.py:93\u001b[0m, in \u001b[0;36m_check_targets\u001b[1;34m(y_true, y_pred)\u001b[0m\n\u001b[0;32m     90\u001b[0m     y_type \u001b[38;5;241m=\u001b[39m {\u001b[38;5;124m\"\u001b[39m\u001b[38;5;124mmulticlass\u001b[39m\u001b[38;5;124m\"\u001b[39m}\n\u001b[0;32m     92\u001b[0m \u001b[38;5;28;01mif\u001b[39;00m \u001b[38;5;28mlen\u001b[39m(y_type) \u001b[38;5;241m>\u001b[39m \u001b[38;5;241m1\u001b[39m:\n\u001b[1;32m---> 93\u001b[0m     \u001b[38;5;28;01mraise\u001b[39;00m \u001b[38;5;167;01mValueError\u001b[39;00m(\n\u001b[0;32m     94\u001b[0m         \u001b[38;5;124m\"\u001b[39m\u001b[38;5;124mClassification metrics can\u001b[39m\u001b[38;5;124m'\u001b[39m\u001b[38;5;124mt handle a mix of \u001b[39m\u001b[38;5;132;01m{0}\u001b[39;00m\u001b[38;5;124m and \u001b[39m\u001b[38;5;132;01m{1}\u001b[39;00m\u001b[38;5;124m targets\u001b[39m\u001b[38;5;124m\"\u001b[39m\u001b[38;5;241m.\u001b[39mformat(\n\u001b[0;32m     95\u001b[0m             type_true, type_pred\n\u001b[0;32m     96\u001b[0m         )\n\u001b[0;32m     97\u001b[0m     )\n\u001b[0;32m     99\u001b[0m \u001b[38;5;66;03m# We can't have more than one value on y_type => The set is no more needed\u001b[39;00m\n\u001b[0;32m    100\u001b[0m y_type \u001b[38;5;241m=\u001b[39m y_type\u001b[38;5;241m.\u001b[39mpop()\n",
      "\u001b[1;31mValueError\u001b[0m: Classification metrics can't handle a mix of binary and continuous-multioutput targets"
     ]
    }
   ],
   "source": [
    "print_confusion_matrix(y_train, y_pred_train_network, set_type='train') # , cmap=\"YlGnBu\""
   ]
  },
  {
   "cell_type": "code",
   "execution_count": null,
   "id": "876b692f",
   "metadata": {},
   "outputs": [],
   "source": [
    "print_metrics(calculate_metrics(y_train, y_pred_train_network),\n",
    "              data_type='train', \n",
    "              classifier_id='Neural Network')"
   ]
  },
  {
   "cell_type": "markdown",
   "id": "ac7c0a3d",
   "metadata": {},
   "source": [
    "#### Results on test set"
   ]
  },
  {
   "cell_type": "code",
   "execution_count": null,
   "id": "7a5cade6",
   "metadata": {},
   "outputs": [],
   "source": [
    "print_confusion_matrix(y_test, y_pred_test_network, set_type='test', cmap=\"YlGnBu\")"
   ]
  },
  {
   "cell_type": "code",
   "execution_count": null,
   "id": "838e199f",
   "metadata": {},
   "outputs": [],
   "source": [
    "print_metrics(calculate_metrics(y_test, y_pred_test_network),\n",
    "              data_type='test', \n",
    "              classifier_id='Neural Network')"
   ]
  }
 ],
 "metadata": {
  "kernelspec": {
   "display_name": "Python 3 (ipykernel)",
   "language": "python",
   "name": "python3"
  },
  "language_info": {
   "codemirror_mode": {
    "name": "ipython",
    "version": 3
   },
   "file_extension": ".py",
   "mimetype": "text/x-python",
   "name": "python",
   "nbconvert_exporter": "python",
   "pygments_lexer": "ipython3",
   "version": "3.10.5"
  }
 },
 "nbformat": 4,
 "nbformat_minor": 5
}
